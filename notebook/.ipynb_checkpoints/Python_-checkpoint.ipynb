{
 "cells": [
  {
   "cell_type": "markdown",
   "metadata": {
    "colab_type": "text",
    "id": "ctxghwjGMH98"
   },
   "source": [
    "# 1주차 과제 - Python\n",
    "\n",
    "이 서비스는 Jupyter Notebook 과 비슷한 기능을 갖고 있는 Python 코드를 바로 실행하실 수 있는 Google Collaboratory 입니다.\n",
    "\n",
    "문제를 잘 읽고 Python 코드가 있는 곳에 느낌표 3개 (!!!) 표시가 있는 곳에 문제와 관련된 코드를 작성해주세요."
   ]
  },
  {
   "cell_type": "markdown",
   "metadata": {
    "colab_type": "text",
    "id": "C73aTqaR5Tp2"
   },
   "source": [
    "## 참고 : 반복문(특히 while) 을 작성하시다가 무한 루프가 발생하면\n",
    "\n",
    "코드를 실행 하셨다가 코드가 오랫동안 멈추지 않는 경우엔 아래 방법대로 진행해주세요. \n",
    "- Colab\n",
    "  - 상단 메뉴에 '런타임' -> '실행 중단' 을 눌러주세요. (단축키 ctrl + M, I)\n",
    "  - 단축키가 작동되지 않으면 '런타임' -> '실행 중단' 을 눌러도 됩니다.\n",
    "- Jupyter Notebook/Lab\n",
    "  - esc 키를 누릅니다.\n",
    "  - 키보드 i 를 두 번 누릅니다."
   ]
  },
  {
   "cell_type": "markdown",
   "metadata": {
    "colab_type": "text",
    "id": "qnQSO49ku2ra"
   },
   "source": [
    "### 1. 전화번호에서 지역번호만 가져오기\n",
    "(10 점)\n",
    "\n",
    "아래 tel 이라는 변수에 전화번호가 저장되어 있습니다. 여기에서 **인덱스 값**을 활용하여 지역번호만 code 라는 변수에 저장하는 코드를 작성해주세요."
   ]
  },
  {
   "cell_type": "code",
   "execution_count": null,
   "metadata": {
    "colab": {
     "base_uri": "https://localhost:8080/",
     "height": 34
    },
    "colab_type": "code",
    "executionInfo": {
     "elapsed": 922,
     "status": "ok",
     "timestamp": 1585023203593,
     "user": {
      "displayName": "Yohan Park",
      "photoUrl": "",
      "userId": "11482022347516338157"
     },
     "user_tz": -540
    },
    "id": "Qw-OtX_kvH90",
    "outputId": "90f24ef9-358d-48b6-8116-8967e7d5b544"
   },
   "outputs": [
    {
     "name": "stdout",
     "output_type": "stream",
     "text": [
      "031\n"
     ]
    }
   ],
   "source": [
    "tel = \"031-1111-2222\"\n",
    "\n",
    "# 아래 코드를 완성해주세요.\n",
    "# 코드 일부분을 입력해놓았습니다. 활용하셔도 되고 혹은 지우고 원하는 방법으로 만들어보세요.\n",
    "code = tel[]\n",
    "\n",
    "\n",
    "\n",
    "# 결과를 확인해보는 코드입니다. \n",
    "print(code)"
   ]
  },
  {
   "cell_type": "markdown",
   "metadata": {
    "colab_type": "text",
    "id": "vzNYO1cXy0go"
   },
   "source": [
    "### 2. 반대로 순서를 뒤집기\n",
    "(10 점)\n",
    "\n",
    "order 라는 변수에 1,2,3,4,5,6,7,8,9 문자열이 저장되어 있습니다. 이를 거꾸로 출력하는 코드를 작성해주세요. \n",
    "\n",
    "**반드시 인덱스 기능을 활용해야 합니다.**"
   ]
  },
  {
   "cell_type": "code",
   "execution_count": null,
   "metadata": {
    "colab": {
     "base_uri": "https://localhost:8080/",
     "height": 34
    },
    "colab_type": "code",
    "executionInfo": {
     "elapsed": 627,
     "status": "ok",
     "timestamp": 1585024174386,
     "user": {
      "displayName": "Yohan Park",
      "photoUrl": "",
      "userId": "11482022347516338157"
     },
     "user_tz": -540
    },
    "id": "fkdXf_nCy1XW",
    "outputId": "d6f29562-cf9d-4b77-aef9-82962c0c6935"
   },
   "outputs": [
    {
     "data": {
      "text/plain": [
       "'9,8,7,6,5,4,3,2,1'"
      ]
     },
     "execution_count": 6,
     "metadata": {
      "tags": []
     },
     "output_type": "execute_result"
    }
   ],
   "source": [
    "order = \"1,2,3,4,5,6,7,8,9\"\n",
    "\n",
    "# 아래에 코드를 완성해주세요.\n",
    "# 코드 일부분을 입력해놓았습니다. 활용하셔도 되고 혹은 지우고 원하는 방법으로 만들어보세요.\n",
    "order[]\n",
    "\n",
    "\n",
    "# 결과를 확인해보는 코드입니다.\n",
    "print(order)"
   ]
  },
  {
   "cell_type": "markdown",
   "metadata": {
    "colab_type": "text",
    "id": "M2CnSSMdcjP4"
   },
   "source": [
    "### 3. 리스트에서 가장 마지막 값을 뽑아내기(마지막 값은 뽑은 후 삭제되도록)\n",
    "(10 점)\n",
    "\n",
    "노트북을 구매하기 위해 4개의 제품을 선택했고 이를 리스트에 저장했습니다.\n",
    "\n",
    "products = [\"A\", \"B\", \"C\", \"D\"]\n",
    "\n",
    "여기에서 리스트에 있는 **함수**를 활용하여 가장 마지막 제품을 하나 뽑아서 c 라는 변수에 저장해주세요."
   ]
  },
  {
   "cell_type": "code",
   "execution_count": null,
   "metadata": {
    "colab": {},
    "colab_type": "code",
    "id": "y2Pr7aC0gfF6"
   },
   "outputs": [],
   "source": [
    "products = [\"A\", \"B\", \"C\", \"D\"]\n",
    "\n",
    "# 아래에 코드를 완성해주세요.\n",
    "# 코드 일부분을 입력해놓았습니다. 활용하셔도 되고 혹은 지우고 원하는 방법으로 만들어보세요.\n",
    "c = products.\n",
    "\n"
   ]
  },
  {
   "cell_type": "markdown",
   "metadata": {
    "colab_type": "text",
    "id": "LIUHCxGwcLYF"
   },
   "source": [
    "### 4. 형변환\n",
    "(10 점)\n",
    "\n",
    "아래 4개의 변수에는 각각 설문 응답여부를 1(응답), 0(미응답) 형태로 저장되어 있습니다.\n",
    "이를 boolean 타입을 변경하려 합니다. 형변환을 통해 boolean 타입으로 같은 이름의 변수에 덮어써주세요.\n",
    "\n",
    "즉 1(응답) 이면 True, 0(미응답) 은 False 로 출력 해주세요.\n",
    "\n"
   ]
  },
  {
   "cell_type": "code",
   "execution_count": null,
   "metadata": {
    "colab": {
     "base_uri": "https://localhost:8080/",
     "height": 34
    },
    "colab_type": "code",
    "executionInfo": {
     "elapsed": 796,
     "status": "ok",
     "timestamp": 1585115729272,
     "user": {
      "displayName": "박요한",
      "photoUrl": "",
      "userId": "02607528670005381837"
     },
     "user_tz": -540
    },
    "id": "PpuKfTfhaw9G",
    "outputId": "5f191e7c-42c6-4ac9-938e-8095d36ebdfb"
   },
   "outputs": [
    {
     "name": "stdout",
     "output_type": "stream",
     "text": [
      "True\n",
      "False\n",
      "False\n",
      "True\n"
     ]
    }
   ],
   "source": [
    "# 아래 4줄 코드는 수정하지 마세요.\n",
    "check1 = 1\n",
    "check2 = 0\n",
    "check3 = 0\n",
    "check4 = 1\n",
    "\n",
    "# 아래에 코드를 작성해주세요. \n"
   ]
  },
  {
   "cell_type": "markdown",
   "metadata": {
    "colab_type": "text",
    "id": "1CctPnWBi6o5"
   },
   "source": [
    "### 5. 나이에 따른 버스 요금\n",
    "(10 점)\n",
    "\n",
    "사용자에게 나이(변수명 : age)를 입력받은 후, 아래의 운임요금(변수명 : fare) 기준에 맞게 버스 요금을 계산해주세요.\n",
    "\n",
    "- 7세 이하 : 0원\n",
    "- 8세 이상 ~ 20세 이하 : 700원\n",
    "- 21세 이상 : 1200원\n",
    "\n",
    "참고 : 변수명은 예시이며 Python 변수명 규칙에 따라 자유롭게 작성하시면 됩니다.\n"
   ]
  },
  {
   "cell_type": "code",
   "execution_count": null,
   "metadata": {
    "colab": {},
    "colab_type": "code",
    "id": "3f_ud59eisE4"
   },
   "outputs": [],
   "source": [
    "# 여기에 코드를 작성해주세요.\n"
   ]
  },
  {
   "cell_type": "markdown",
   "metadata": {
    "colab_type": "text",
    "id": "XoALAT15M2nh"
   },
   "source": [
    "### 6. 4번째 고객마다 상품권 증정 \n",
    "\n",
    "(10 점)\n",
    "\n",
    "방문하는 고객 중 5번째 마다 상품권을 증정( status = \"상품권 증정\" ) 하는 코드를 작성해주세요."
   ]
  },
  {
   "cell_type": "code",
   "execution_count": null,
   "metadata": {
    "colab": {},
    "colab_type": "code",
    "id": "bHxCD-woK00t"
   },
   "outputs": [],
   "source": [
    "# 여기에 코드를 작성해주세요.\n"
   ]
  },
  {
   "cell_type": "code",
   "execution_count": null,
   "metadata": {
    "colab": {
     "base_uri": "https://localhost:8080/",
     "height": 167
    },
    "colab_type": "code",
    "executionInfo": {
     "elapsed": 847,
     "status": "ok",
     "timestamp": 1586726797884,
     "user": {
      "displayName": "박요한",
      "photoUrl": "",
      "userId": "02607528670005381837"
     },
     "user_tz": -540
    },
    "id": "bLLgz0DnRGmw",
    "outputId": "b6cc3b57-58b5-4dcb-a39b-74c990657ca5"
   },
   "outputs": [
    {
     "name": "stdout",
     "output_type": "stream",
     "text": [
      "count : 1 , 증정하지 않음\n",
      "count : 4 , 증정하지 않음\n",
      "count : 5 , 상품권 증정\n",
      "count : 10 , 상품권 증정\n",
      "count : 15 , 상품권 증정\n",
      "count : 20 , 상품권 증정\n",
      "count : 8 , 증정하지 않음\n",
      "count : 7 , 증정하지 않음\n"
     ]
    }
   ],
   "source": [
    "# 출력 결과 예"
   ]
  },
  {
   "cell_type": "markdown",
   "metadata": {
    "colab_type": "text",
    "id": "xqzt3MvfJa1z"
   },
   "source": [
    "### 7. Dictionary 에 계좌 잔액을 모두 더하는 코드 작성\n",
    "\n",
    "(10 점)\n",
    "\n",
    "accounts 라는 딕셔너리의 잔액 (value) 을 total 이라는 변수에 모두 더하여 출력해주세요.\n"
   ]
  },
  {
   "cell_type": "code",
   "execution_count": null,
   "metadata": {
    "colab": {
     "base_uri": "https://localhost:8080/",
     "height": 36
    },
    "colab_type": "code",
    "executionInfo": {
     "elapsed": 655,
     "status": "ok",
     "timestamp": 1586993241034,
     "user": {
      "displayName": "박요한",
      "photoUrl": "",
      "userId": "02607528670005381837"
     },
     "user_tz": -540
    },
    "id": "-UBEUlbFKU4w",
    "outputId": "faf5b35b-ac6a-49b3-96db-7ab83cc07591"
   },
   "outputs": [
    {
     "name": "stdout",
     "output_type": "stream",
     "text": [
      "43653000\n"
     ]
    }
   ],
   "source": [
    "accounts = {\"A계좌\": 2322000, \"B계좌\": 34443000, \"C계좌\": 6888000}\n",
    "\n",
    "# 여기에 코드를 작성해주세요.\n",
    "\n",
    "\n",
    "print(total)"
   ]
  },
  {
   "cell_type": "markdown",
   "metadata": {
    "colab_type": "text",
    "id": "KzujwTCLGiBs"
   },
   "source": [
    "### 8. List Comprehension 으로 코드 작성해보기\n",
    "\n",
    "(10 점)\n",
    "\n",
    "아래와 같이 리스트 요소 중에  '음수' 가 있다면 0 으로 바꿔주는 코드를 **List Comprehension** 으로 작성해보세요. (이외에 방법으로 구현하면 부분배점 5점)\n",
    "\n"
   ]
  },
  {
   "cell_type": "code",
   "execution_count": null,
   "metadata": {
    "colab": {
     "base_uri": "https://localhost:8080/",
     "height": 36
    },
    "colab_type": "code",
    "executionInfo": {
     "elapsed": 1394,
     "status": "ok",
     "timestamp": 1586992570974,
     "user": {
      "displayName": "박요한",
      "photoUrl": "",
      "userId": "02607528670005381837"
     },
     "user_tz": -540
    },
    "id": "PcNxDpdAH0kh",
    "outputId": "3482ec56-9676-4732-8300-cc3c7d745df9"
   },
   "outputs": [
    {
     "name": "stdout",
     "output_type": "stream",
     "text": [
      "[100, 200, 0, 0, 400, 700]\n"
     ]
    }
   ],
   "source": [
    "numbers = [100, 200, -100, -50, 400, 700]\n",
    "\n",
    "# 여기에 코드를 작성해주세요.\n",
    "\n",
    "\n",
    "print(results)"
   ]
  },
  {
   "cell_type": "markdown",
   "metadata": {
    "colab_type": "text",
    "id": "wu6mICa-98r0"
   },
   "source": [
    "### 9. lambda 함수로 구현하기\n",
    "\n",
    "(10 점)\n",
    "\n",
    "아래 함수를 lambda 형식으로 구현해보세요. (이외에 방법으로 구현시 부분배점 5점)"
   ]
  },
  {
   "cell_type": "code",
   "execution_count": null,
   "metadata": {
    "colab": {
     "base_uri": "https://localhost:8080/",
     "height": 34
    },
    "colab_type": "code",
    "id": "wvMD7m8E5M_M",
    "outputId": "8355abf1-630c-4151-c05a-c34e146a267f"
   },
   "outputs": [
    {
     "name": "stdout",
     "output_type": "stream",
     "text": [
      "15\n"
     ]
    }
   ],
   "source": [
    "def add(num):\n",
    "  return num + 10\n",
    "\n",
    "print(add(5))"
   ]
  },
  {
   "cell_type": "code",
   "execution_count": null,
   "metadata": {
    "colab": {
     "base_uri": "https://localhost:8080/",
     "height": 34
    },
    "colab_type": "code",
    "id": "XzhTh3Zl-WnQ",
    "outputId": "c780e6e1-c879-4d1b-e4a1-9931e12f0556"
   },
   "outputs": [
    {
     "name": "stdout",
     "output_type": "stream",
     "text": [
      "15\n"
     ]
    }
   ],
   "source": [
    "# 여기에 위 add 함수와 같은 기능을 하는 lambda 함수를 구현해보세요. \n",
    "\n",
    "print(add_lambda(5))"
   ]
  },
  {
   "cell_type": "markdown",
   "metadata": {
    "colab_type": "text",
    "id": "iDv2jACTPP4d"
   },
   "source": [
    "### 10. callback function 으로 계산기 만들기\n",
    "\n",
    "(10 점)\n",
    "\n",
    "지난 시간에 만들어 보았던 \"더하기\", \"곱하기\" 를 계산해주는 함수를 callback function 으로 구현해보세요.\n",
    "\n",
    "#### 코드\n",
    "```python\n",
    "def calc(option, num1 = 100, num2 = 100):\n",
    "\n",
    "  if option == \"더하기\":\n",
    "    total = num1 + num2\n",
    "  elif option == \"곱하기\":\n",
    "    total = num1 * num2\n",
    "  else:\n",
    "    total = 0\n",
    "\n",
    "  return total\n",
    "```\n",
    "\n",
    "#### callback function 으로 구현할 때 지켜야 할 사항\n",
    "1. \"더하기\" 는 add(), \"곱하기\" 는 mul() 라는 함수를 만듭니다.\n",
    "2. 실제 사용자가 더하기 혹은 곱하기 계산을 시키기 위해 사용할 함수 이름은 calc() 입니다.\n",
    "3. 위 샘플 함수내에 조건문에 else 는 무시합니다.\n",
    "4. 위 샘플 함수처럼 숫자값을 입력하지 않으면 기본적으로 각각 100 을 할당하게 해주세요.\n"
   ]
  },
  {
   "cell_type": "code",
   "execution_count": null,
   "metadata": {
    "colab": {},
    "colab_type": "code",
    "id": "gKQnUR3pQaK7"
   },
   "outputs": [],
   "source": [
    "# 여기에 코드를 구현해주세요.\n",
    "\n"
   ]
  },
  {
   "cell_type": "code",
   "execution_count": null,
   "metadata": {
    "colab": {
     "base_uri": "https://localhost:8080/",
     "height": 36
    },
    "colab_type": "code",
    "id": "Fkv2-I4uQoXc",
    "outputId": "cd0338fd-05e2-48ba-c220-a0442aea0b40"
   },
   "outputs": [
    {
     "data": {
      "text/plain": [
       "200"
      ]
     },
     "execution_count": 2,
     "metadata": {
      "tags": []
     },
     "output_type": "execute_result"
    }
   ],
   "source": [
    "# 코드 실행 예\n",
    "\n",
    "calc(add)"
   ]
  },
  {
   "cell_type": "code",
   "execution_count": null,
   "metadata": {
    "colab": {
     "base_uri": "https://localhost:8080/",
     "height": 36
    },
    "colab_type": "code",
    "id": "5Yu89EijQtvj",
    "outputId": "a9f4391b-bab7-4bb1-a582-0a2c1064f4c4"
   },
   "outputs": [
    {
     "data": {
      "text/plain": [
       "9"
      ]
     },
     "execution_count": 4,
     "metadata": {
      "tags": []
     },
     "output_type": "execute_result"
    }
   ],
   "source": [
    "# 코드 실행 예\n",
    "\n",
    "calc(mul, 3, 3)"
   ]
  }
 ],
 "metadata": {
  "colab": {
   "collapsed_sections": [],
   "name": "1주차 과제 - 데이터 사이언스 온라인 완주반.ipynb",
   "provenance": [
    {
     "file_id": "12cKmAhMhy3A7HDhasuCwFx6pPZQjNlwR",
     "timestamp": 1595495568763
    },
    {
     "file_id": "1wNYxTqFU7bIIdW95ydT5PAcoDQB6B90q",
     "timestamp": 1595492124030
    },
    {
     "file_id": "1-AOedAi8koP5gXwd5_kMyOyG1ERbzHHT",
     "timestamp": 1589149654099
    }
   ]
  },
  "kernelspec": {
   "display_name": "Python 3",
   "language": "python",
   "name": "python3"
  },
  "language_info": {
   "codemirror_mode": {
    "name": "ipython",
    "version": 3
   },
   "file_extension": ".py",
   "mimetype": "text/x-python",
   "name": "python",
   "nbconvert_exporter": "python",
   "pygments_lexer": "ipython3",
   "version": "3.7.6"
  }
 },
 "nbformat": 4,
 "nbformat_minor": 1
}
