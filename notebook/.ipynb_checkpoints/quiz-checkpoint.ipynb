{
 "cells": [
  {
   "cell_type": "code",
   "execution_count": 1,
   "metadata": {},
   "outputs": [],
   "source": [
    "import matplotlib.dates as md\n",
    "import pandas as pd\n",
    "import numpy as np\n",
    "import math\n",
    "import datetime\n",
    "import seaborn as sns\n",
    "import missingno as msno\n",
    "import matplotlib.pyplot as plt\n",
    "import matplotlib.image as mpimg\n",
    "import seaborn as sns\n",
    "import statsmodels.api as sm\n",
    "from statsmodels.stats.outliers_influence import variance_inflation_factor\n",
    "from sklearn.preprocessing import RobustScaler\n",
    "from sklearn.decomposition import PCA\n",
    "from sklearn.model_selection import train_test_split\n",
    "from sklearn.model_selection import KFold\n",
    "\n",
    "from matplotlib import rc\n",
    "from patsy import *\n",
    "plt.style.use('seaborn')\n",
    "rc('font', family='NanumGothic')\n",
    "plt.rcParams['axes.unicode_minus'] = False\n",
    "%matplotlib inline"
   ]
  },
  {
   "cell_type": "markdown",
   "metadata": {},
   "source": [
    "-"
   ]
  },
  {
   "cell_type": "code",
   "execution_count": 2,
   "metadata": {},
   "outputs": [],
   "source": [
    "# 데이터 설명 \n",
    "# date - 날짜, temp - 온도, tour - 관광객 수, population - 제주도 인구수 "
   ]
  },
  {
   "cell_type": "code",
   "execution_count": 2,
   "metadata": {
    "scrolled": true
   },
   "outputs": [
    {
     "data": {
      "text/html": [
       "<div>\n",
       "<style scoped>\n",
       "    .dataframe tbody tr th:only-of-type {\n",
       "        vertical-align: middle;\n",
       "    }\n",
       "\n",
       "    .dataframe tbody tr th {\n",
       "        vertical-align: top;\n",
       "    }\n",
       "\n",
       "    .dataframe thead th {\n",
       "        text-align: right;\n",
       "    }\n",
       "</style>\n",
       "<table border=\"1\" class=\"dataframe\">\n",
       "  <thead>\n",
       "    <tr style=\"text-align: right;\">\n",
       "      <th></th>\n",
       "      <th>date</th>\n",
       "      <th>temp</th>\n",
       "      <th>population</th>\n",
       "      <th>humid</th>\n",
       "    </tr>\n",
       "  </thead>\n",
       "  <tbody>\n",
       "    <tr>\n",
       "      <th>833</th>\n",
       "      <td>2020-05-14</td>\n",
       "      <td>18.7</td>\n",
       "      <td>670798.0</td>\n",
       "      <td>0.563</td>\n",
       "    </tr>\n",
       "    <tr>\n",
       "      <th>834</th>\n",
       "      <td>2020-05-15</td>\n",
       "      <td>19.9</td>\n",
       "      <td>670798.0</td>\n",
       "      <td>0.915</td>\n",
       "    </tr>\n",
       "    <tr>\n",
       "      <th>835</th>\n",
       "      <td>2020-05-16</td>\n",
       "      <td>17.6</td>\n",
       "      <td>670798.0</td>\n",
       "      <td>0.966</td>\n",
       "    </tr>\n",
       "    <tr>\n",
       "      <th>836</th>\n",
       "      <td>2020-05-17</td>\n",
       "      <td>17.1</td>\n",
       "      <td>670798.0</td>\n",
       "      <td>0.916</td>\n",
       "    </tr>\n",
       "    <tr>\n",
       "      <th>837</th>\n",
       "      <td>2020-05-18</td>\n",
       "      <td>19.2</td>\n",
       "      <td>670798.0</td>\n",
       "      <td>0.921</td>\n",
       "    </tr>\n",
       "  </tbody>\n",
       "</table>\n",
       "</div>"
      ],
      "text/plain": [
       "           date  temp  population  humid\n",
       "833  2020-05-14  18.7    670798.0  0.563\n",
       "834  2020-05-15  19.9    670798.0  0.915\n",
       "835  2020-05-16  17.6    670798.0  0.966\n",
       "836  2020-05-17  17.1    670798.0  0.916\n",
       "837  2020-05-18  19.2    670798.0  0.921"
      ]
     },
     "execution_count": 2,
     "metadata": {},
     "output_type": "execute_result"
    }
   ],
   "source": [
    "jeju = pd.read_csv(\"datas/target_v3.csv\")\n",
    "jeju = jeju[[\"date\",\"temp\",\"population\",\"humid\"]]\n",
    "jeju.tail()"
   ]
  },
  {
   "cell_type": "code",
   "execution_count": 3,
   "metadata": {},
   "outputs": [
    {
     "data": {
      "text/html": [
       "<div>\n",
       "<style scoped>\n",
       "    .dataframe tbody tr th:only-of-type {\n",
       "        vertical-align: middle;\n",
       "    }\n",
       "\n",
       "    .dataframe tbody tr th {\n",
       "        vertical-align: top;\n",
       "    }\n",
       "\n",
       "    .dataframe thead th {\n",
       "        text-align: right;\n",
       "    }\n",
       "</style>\n",
       "<table border=\"1\" class=\"dataframe\">\n",
       "  <thead>\n",
       "    <tr style=\"text-align: right;\">\n",
       "      <th></th>\n",
       "      <th>date</th>\n",
       "      <th>tour</th>\n",
       "    </tr>\n",
       "  </thead>\n",
       "  <tbody>\n",
       "    <tr>\n",
       "      <th>835</th>\n",
       "      <td>2020-05-16</td>\n",
       "      <td>23009</td>\n",
       "    </tr>\n",
       "    <tr>\n",
       "      <th>836</th>\n",
       "      <td>2020-05-17</td>\n",
       "      <td>24394</td>\n",
       "    </tr>\n",
       "    <tr>\n",
       "      <th>837</th>\n",
       "      <td>2020-05-18</td>\n",
       "      <td>24001</td>\n",
       "    </tr>\n",
       "  </tbody>\n",
       "</table>\n",
       "</div>"
      ],
      "text/plain": [
       "           date   tour\n",
       "835  2020-05-16  23009\n",
       "836  2020-05-17  24394\n",
       "837  2020-05-18  24001"
      ]
     },
     "execution_count": 3,
     "metadata": {},
     "output_type": "execute_result"
    }
   ],
   "source": [
    "jeju_tour = pd.read_csv(\"datas/tour_stat.csv\")\n",
    "jeju_tour.tail(3)"
   ]
  },
  {
   "cell_type": "code",
   "execution_count": null,
   "metadata": {},
   "outputs": [],
   "source": []
  },
  {
   "cell_type": "markdown",
   "metadata": {},
   "source": [
    "### 문제 1 번 \n",
    "- jeju 데이터와 jeju_tour 데이터 프레임을 합치시고 \n",
    "- jeju_data 라고 데이터 프레임을 저장하세요!"
   ]
  },
  {
   "cell_type": "code",
   "execution_count": 5,
   "metadata": {},
   "outputs": [
    {
     "data": {
      "text/html": [
       "<div>\n",
       "<style scoped>\n",
       "    .dataframe tbody tr th:only-of-type {\n",
       "        vertical-align: middle;\n",
       "    }\n",
       "\n",
       "    .dataframe tbody tr th {\n",
       "        vertical-align: top;\n",
       "    }\n",
       "\n",
       "    .dataframe thead th {\n",
       "        text-align: right;\n",
       "    }\n",
       "</style>\n",
       "<table border=\"1\" class=\"dataframe\">\n",
       "  <thead>\n",
       "    <tr style=\"text-align: right;\">\n",
       "      <th></th>\n",
       "      <th>date</th>\n",
       "      <th>temp</th>\n",
       "      <th>population</th>\n",
       "      <th>humid</th>\n",
       "      <th>tour</th>\n",
       "    </tr>\n",
       "  </thead>\n",
       "  <tbody>\n",
       "    <tr>\n",
       "      <th>833</th>\n",
       "      <td>2020-05-14</td>\n",
       "      <td>18.7</td>\n",
       "      <td>670798.0</td>\n",
       "      <td>0.563</td>\n",
       "      <td>23327</td>\n",
       "    </tr>\n",
       "    <tr>\n",
       "      <th>834</th>\n",
       "      <td>2020-05-15</td>\n",
       "      <td>19.9</td>\n",
       "      <td>670798.0</td>\n",
       "      <td>0.915</td>\n",
       "      <td>22135</td>\n",
       "    </tr>\n",
       "    <tr>\n",
       "      <th>835</th>\n",
       "      <td>2020-05-16</td>\n",
       "      <td>17.6</td>\n",
       "      <td>670798.0</td>\n",
       "      <td>0.966</td>\n",
       "      <td>23009</td>\n",
       "    </tr>\n",
       "    <tr>\n",
       "      <th>836</th>\n",
       "      <td>2020-05-17</td>\n",
       "      <td>17.1</td>\n",
       "      <td>670798.0</td>\n",
       "      <td>0.916</td>\n",
       "      <td>24394</td>\n",
       "    </tr>\n",
       "    <tr>\n",
       "      <th>837</th>\n",
       "      <td>2020-05-18</td>\n",
       "      <td>19.2</td>\n",
       "      <td>670798.0</td>\n",
       "      <td>0.921</td>\n",
       "      <td>24001</td>\n",
       "    </tr>\n",
       "  </tbody>\n",
       "</table>\n",
       "</div>"
      ],
      "text/plain": [
       "           date  temp  population  humid   tour\n",
       "833  2020-05-14  18.7    670798.0  0.563  23327\n",
       "834  2020-05-15  19.9    670798.0  0.915  22135\n",
       "835  2020-05-16  17.6    670798.0  0.966  23009\n",
       "836  2020-05-17  17.1    670798.0  0.916  24394\n",
       "837  2020-05-18  19.2    670798.0  0.921  24001"
      ]
     },
     "execution_count": 5,
     "metadata": {},
     "output_type": "execute_result"
    }
   ],
   "source": [
    "# code\n",
    "# '''여기에 쓰세요!'''\n",
    "jeju_data = pd.merge(jeju, jeju_tour)\n",
    "jeju_data.tail()"
   ]
  },
  {
   "cell_type": "code",
   "execution_count": null,
   "metadata": {},
   "outputs": [],
   "source": []
  },
  {
   "cell_type": "markdown",
   "metadata": {},
   "source": [
    "### GRNI  수치는 GRDP/지역 인구를 의미한다.\n",
    "### 제주도인 경우는 관광객 수를 GRDP로 친다고 하면\n",
    "### jeju_data 프레임에서 위와 같은 수식을 이용한 GRNI의 로그값이 들어가는 행을 추가하세요 ! (로그값!!!)"
   ]
  },
  {
   "cell_type": "code",
   "execution_count": null,
   "metadata": {},
   "outputs": [],
   "source": [
    "# code 는 여기에! "
   ]
  },
  {
   "cell_type": "code",
   "execution_count": 12,
   "metadata": {},
   "outputs": [
    {
     "data": {
      "text/html": [
       "<div>\n",
       "<style scoped>\n",
       "    .dataframe tbody tr th:only-of-type {\n",
       "        vertical-align: middle;\n",
       "    }\n",
       "\n",
       "    .dataframe tbody tr th {\n",
       "        vertical-align: top;\n",
       "    }\n",
       "\n",
       "    .dataframe thead th {\n",
       "        text-align: right;\n",
       "    }\n",
       "</style>\n",
       "<table border=\"1\" class=\"dataframe\">\n",
       "  <thead>\n",
       "    <tr style=\"text-align: right;\">\n",
       "      <th></th>\n",
       "      <th>date</th>\n",
       "      <th>temp</th>\n",
       "      <th>population</th>\n",
       "      <th>humid</th>\n",
       "      <th>tour</th>\n",
       "      <th>GRNI</th>\n",
       "    </tr>\n",
       "  </thead>\n",
       "  <tbody>\n",
       "    <tr>\n",
       "      <th>833</th>\n",
       "      <td>2020-05-14</td>\n",
       "      <td>18.7</td>\n",
       "      <td>670798.0</td>\n",
       "      <td>0.563</td>\n",
       "      <td>23327</td>\n",
       "      <td>-3.358857</td>\n",
       "    </tr>\n",
       "    <tr>\n",
       "      <th>834</th>\n",
       "      <td>2020-05-15</td>\n",
       "      <td>19.9</td>\n",
       "      <td>670798.0</td>\n",
       "      <td>0.915</td>\n",
       "      <td>22135</td>\n",
       "      <td>-3.411308</td>\n",
       "    </tr>\n",
       "    <tr>\n",
       "      <th>835</th>\n",
       "      <td>2020-05-16</td>\n",
       "      <td>17.6</td>\n",
       "      <td>670798.0</td>\n",
       "      <td>0.966</td>\n",
       "      <td>23009</td>\n",
       "      <td>-3.372583</td>\n",
       "    </tr>\n",
       "    <tr>\n",
       "      <th>836</th>\n",
       "      <td>2020-05-17</td>\n",
       "      <td>17.1</td>\n",
       "      <td>670798.0</td>\n",
       "      <td>0.916</td>\n",
       "      <td>24394</td>\n",
       "      <td>-3.314131</td>\n",
       "    </tr>\n",
       "    <tr>\n",
       "      <th>837</th>\n",
       "      <td>2020-05-18</td>\n",
       "      <td>19.2</td>\n",
       "      <td>670798.0</td>\n",
       "      <td>0.921</td>\n",
       "      <td>24001</td>\n",
       "      <td>-3.330373</td>\n",
       "    </tr>\n",
       "  </tbody>\n",
       "</table>\n",
       "</div>"
      ],
      "text/plain": [
       "           date  temp  population  humid   tour      GRNI\n",
       "833  2020-05-14  18.7    670798.0  0.563  23327 -3.358857\n",
       "834  2020-05-15  19.9    670798.0  0.915  22135 -3.411308\n",
       "835  2020-05-16  17.6    670798.0  0.966  23009 -3.372583\n",
       "836  2020-05-17  17.1    670798.0  0.916  24394 -3.314131\n",
       "837  2020-05-18  19.2    670798.0  0.921  24001 -3.330373"
      ]
     },
     "execution_count": 12,
     "metadata": {},
     "output_type": "execute_result"
    }
   ],
   "source": [
    "GRDP = jeju_data[\"tour\"]\n",
    "population = jeju_data[\"population\"]\n",
    "GRNI = GRDP / population\n",
    "result = np.log(GRNI)\n",
    "jeju_data[\"GRNI\"] = result\n",
    "jeju_data.tail()"
   ]
  },
  {
   "cell_type": "markdown",
   "metadata": {},
   "source": [
    "-"
   ]
  },
  {
   "cell_type": "markdown",
   "metadata": {},
   "source": [
    "#### 2) 체감온도 및 불쾌지수 추가\n",
    "- 불쾌지수\n",
    "    - 0.81 * 섭씨온도 +0.01 * 상대습도(%)（0.99*섭씨온도 - 14.3）+ 46.3\n",
    "\n"
   ]
  },
  {
   "cell_type": "code",
   "execution_count": null,
   "metadata": {},
   "outputs": [],
   "source": [
    "### 코드는 여기에!!### \n",
    "## 함수 만들어서 해주세요 ~~\n",
    "# jeju_data 를 활용해주세요! \n",
    "# 그냥하면 1점 감점 "
   ]
  },
  {
   "cell_type": "code",
   "execution_count": null,
   "metadata": {},
   "outputs": [],
   "source": [
    "# code 는 여기에! "
   ]
  },
  {
   "cell_type": "code",
   "execution_count": 28,
   "metadata": {},
   "outputs": [],
   "source": [
    "def degree(*info):\n",
    "    \n",
    "    for temp,humid in info:\n",
    "    \n",
    "        return 0.81*temp + 0.01*humid(0.99*temp - 14.3) + 46.3"
   ]
  },
  {
   "cell_type": "code",
   "execution_count": 30,
   "metadata": {},
   "outputs": [
    {
     "ename": "ValueError",
     "evalue": "too many values to unpack (expected 2)",
     "output_type": "error",
     "traceback": [
      "\u001b[1;31m---------------------------------------------------------------------------\u001b[0m",
      "\u001b[1;31mValueError\u001b[0m                                Traceback (most recent call last)",
      "\u001b[1;32m<ipython-input-30-04ed770a92ae>\u001b[0m in \u001b[0;36m<module>\u001b[1;34m\u001b[0m\n\u001b[1;32m----> 1\u001b[1;33m \u001b[0mdegree\u001b[0m\u001b[1;33m(\u001b[0m\u001b[0mzip\u001b[0m\u001b[1;33m(\u001b[0m\u001b[0mjeju_data\u001b[0m\u001b[1;33m[\u001b[0m\u001b[1;34m\"temp\"\u001b[0m\u001b[1;33m]\u001b[0m\u001b[1;33m.\u001b[0m\u001b[0mvalues\u001b[0m\u001b[1;33m,\u001b[0m \u001b[0mjeju_data\u001b[0m\u001b[1;33m[\u001b[0m\u001b[1;34m\"humid\"\u001b[0m\u001b[1;33m]\u001b[0m\u001b[1;33m.\u001b[0m\u001b[0mvalues\u001b[0m\u001b[1;33m)\u001b[0m\u001b[1;33m)\u001b[0m\u001b[1;33m\u001b[0m\u001b[1;33m\u001b[0m\u001b[0m\n\u001b[0m\u001b[0;32m      2\u001b[0m \u001b[1;33m\u001b[0m\u001b[0m\n",
      "\u001b[1;32m<ipython-input-28-baacd4105759>\u001b[0m in \u001b[0;36mdegree\u001b[1;34m(*info)\u001b[0m\n\u001b[0;32m      1\u001b[0m \u001b[1;32mdef\u001b[0m \u001b[0mdegree\u001b[0m\u001b[1;33m(\u001b[0m\u001b[1;33m*\u001b[0m\u001b[0minfo\u001b[0m\u001b[1;33m)\u001b[0m\u001b[1;33m:\u001b[0m\u001b[1;33m\u001b[0m\u001b[1;33m\u001b[0m\u001b[0m\n\u001b[0;32m      2\u001b[0m \u001b[1;33m\u001b[0m\u001b[0m\n\u001b[1;32m----> 3\u001b[1;33m     \u001b[1;32mfor\u001b[0m \u001b[0mtemp\u001b[0m\u001b[1;33m,\u001b[0m\u001b[0mhumid\u001b[0m \u001b[1;32min\u001b[0m \u001b[0minfo\u001b[0m\u001b[1;33m:\u001b[0m\u001b[1;33m\u001b[0m\u001b[1;33m\u001b[0m\u001b[0m\n\u001b[0m\u001b[0;32m      4\u001b[0m \u001b[1;33m\u001b[0m\u001b[0m\n\u001b[0;32m      5\u001b[0m         \u001b[1;32mreturn\u001b[0m \u001b[1;36m0.81\u001b[0m\u001b[1;33m*\u001b[0m\u001b[0mtemp\u001b[0m \u001b[1;33m+\u001b[0m \u001b[1;36m0.01\u001b[0m\u001b[1;33m*\u001b[0m\u001b[0mhumid\u001b[0m\u001b[1;33m(\u001b[0m\u001b[1;36m0.99\u001b[0m\u001b[1;33m*\u001b[0m\u001b[0mtemp\u001b[0m \u001b[1;33m-\u001b[0m \u001b[1;36m14.3\u001b[0m\u001b[1;33m)\u001b[0m \u001b[1;33m+\u001b[0m \u001b[1;36m46.3\u001b[0m\u001b[1;33m\u001b[0m\u001b[1;33m\u001b[0m\u001b[0m\n",
      "\u001b[1;31mValueError\u001b[0m: too many values to unpack (expected 2)"
     ]
    }
   ],
   "source": [
    "degree(zip(jeju_data[\"temp\"].values, jeju_data[\"humid\"].values))\n",
    "    "
   ]
  },
  {
   "cell_type": "code",
   "execution_count": null,
   "metadata": {},
   "outputs": [],
   "source": []
  }
 ],
 "metadata": {
  "kernelspec": {
   "display_name": "Python 3",
   "language": "python",
   "name": "python3"
  },
  "language_info": {
   "codemirror_mode": {
    "name": "ipython",
    "version": 3
   },
   "file_extension": ".py",
   "mimetype": "text/x-python",
   "name": "python",
   "nbconvert_exporter": "python",
   "pygments_lexer": "ipython3",
   "version": "3.8.3"
  }
 },
 "nbformat": 4,
 "nbformat_minor": 4
}
