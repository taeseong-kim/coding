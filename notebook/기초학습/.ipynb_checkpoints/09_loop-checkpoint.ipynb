{
 "cells": [
  {
   "cell_type": "markdown",
   "metadata": {},
   "source": [
    "### 반복문 : Loop\n",
    "- while\n",
    "- break\n",
    "- continue\n",
    "- for"
   ]
  },
  {
   "cell_type": "markdown",
   "metadata": {},
   "source": [
    "#### 1. while\n",
    "- condition이 False가 될 때까지 code를 반복적으로 실행\n",
    "```\n",
    "while <condition>:\n",
    "    <code>\n",
    "```\n",
    "-while 무한루프에 빠질 위험이 있으므로 주의해서 사용을 해야합니다."
   ]
  },
  {
   "cell_type": "code",
   "execution_count": 2,
   "metadata": {},
   "outputs": [
    {
     "name": "stdout",
     "output_type": "stream",
     "text": [
      "3\n",
      "2\n",
      "1\n"
     ]
    },
    {
     "data": {
      "text/plain": [
       "0"
      ]
     },
     "execution_count": 2,
     "metadata": {},
     "output_type": "execute_result"
    }
   ],
   "source": [
    "a = 3\n",
    "while a:\n",
    "    print(a)\n",
    "    a -= 1\n",
    "a"
   ]
  },
  {
   "cell_type": "code",
   "execution_count": 4,
   "metadata": {},
   "outputs": [
    {
     "ename": "KeyboardInterrupt",
     "evalue": "",
     "output_type": "error",
     "traceback": [
      "\u001b[1;31m---------------------------------------------------------------------------\u001b[0m",
      "\u001b[1;31mKeyboardInterrupt\u001b[0m                         Traceback (most recent call last)",
      "\u001b[1;32m<ipython-input-4-4b9bfa89da01>\u001b[0m in \u001b[0;36m<module>\u001b[1;34m\u001b[0m\n\u001b[0;32m      1\u001b[0m \u001b[1;31m# 무한루프 : Kernel -> Interrupt\u001b[0m\u001b[1;33m\u001b[0m\u001b[1;33m\u001b[0m\u001b[1;33m\u001b[0m\u001b[0m\n\u001b[0;32m      2\u001b[0m \u001b[1;32mwhile\u001b[0m \u001b[1;32mTrue\u001b[0m\u001b[1;33m:\u001b[0m\u001b[1;33m\u001b[0m\u001b[1;33m\u001b[0m\u001b[0m\n\u001b[1;32m----> 3\u001b[1;33m     \u001b[0ma\u001b[0m \u001b[1;33m=\u001b[0m\u001b[1;36m1\u001b[0m\u001b[1;33m\u001b[0m\u001b[1;33m\u001b[0m\u001b[0m\n\u001b[0m",
      "\u001b[1;31mKeyboardInterrupt\u001b[0m: "
     ]
    }
   ],
   "source": [
    "# 무한루프 : Kernel -> Interrupt\n",
    "while True:\n",
    "    a =1"
   ]
  },
  {
   "cell_type": "markdown",
   "metadata": {},
   "source": [
    "#### Quiz 1\n",
    "- ls 리스트 값을 while문을 이용해서 모두 다 더하는 코드를 작성하세요.\n",
    "```\n",
    "ls = [1,2,3,4,5,6,7,8,9,10]\n",
    "```"
   ]
  },
  {
   "cell_type": "code",
   "execution_count": 11,
   "metadata": {},
   "outputs": [
    {
     "data": {
      "text/plain": [
       "55"
      ]
     },
     "execution_count": 11,
     "metadata": {},
     "output_type": "execute_result"
    }
   ],
   "source": [
    "ls = [1,2,3,4,5,6,7,8,9,10]\n",
    "result = 0\n",
    "a = len(ls)\n",
    "while a:\n",
    "    result += a\n",
    "    a -= 1\n",
    "result"
   ]
  },
  {
   "cell_type": "markdown",
   "metadata": {},
   "source": [
    "#### 2. break\n",
    "- 반복문이 실행되던 중간에 break 만나게 되면 반복문이 종료됩니다."
   ]
  },
  {
   "cell_type": "code",
   "execution_count": 13,
   "metadata": {},
   "outputs": [
    {
     "name": "stdout",
     "output_type": "stream",
     "text": [
      "3\n",
      "2\n"
     ]
    },
    {
     "data": {
      "text/plain": [
       "2"
      ]
     },
     "execution_count": 13,
     "metadata": {},
     "output_type": "execute_result"
    }
   ],
   "source": [
    "a = 3\n",
    "while a:\n",
    "    print(a)\n",
    "    if a == 2:\n",
    "        break\n",
    "    a -= 1\n",
    "a"
   ]
  },
  {
   "cell_type": "markdown",
   "metadata": {},
   "source": [
    "#### 3. continue\n",
    "- 반복문이 실행되던 중간에 continue를 만나게 되면 반복문의 조건을 비교하는 부분으로 올라가서 코드가 실행"
   ]
  },
  {
   "cell_type": "code",
   "execution_count": 14,
   "metadata": {},
   "outputs": [
    {
     "name": "stdout",
     "output_type": "stream",
     "text": [
      "1\n",
      "3\n"
     ]
    }
   ],
   "source": [
    "a = [1, 2, 3, 4, \"q\"]\n",
    "idx = 0\n",
    "\n",
    "while True:\n",
    "    data = a[idx]\n",
    "    idx += 1\n",
    "    \n",
    "    if data == \"q\":\n",
    "        break\n",
    "    elif data % 2 == 0:\n",
    "        continue\n",
    "    \n",
    "    print(data)"
   ]
  },
  {
   "cell_type": "markdown",
   "metadata": {},
   "source": [
    "#### Quiz 2\n",
    "- q를 입력할 때까지 계속 값을 입력 받아서 q를 입력할 때 입력받은 값을 출력하는 코드를 작성하세요.\n",
    "- 데이터를 입력받을 때 몇번째 입력인지도 출력\n",
    "\n",
    "```\n",
    "1번째 입력 (종료 : q) : data\n",
    "2번째 입력 (종료 : q) ; python\n",
    "3번째 입력 (종료 : q) ; science\n",
    "4번째 입력 (종료 : q) ; q\n",
    "\n",
    "[\"data\", \"python\", \"science\"]\n",
    "```"
   ]
  },
  {
   "cell_type": "code",
   "execution_count": 17,
   "metadata": {},
   "outputs": [
    {
     "name": "stdout",
     "output_type": "stream",
     "text": [
      "1번째 입력 (종료 : q) : data\n",
      "2번째 입력 (종료 : q) : python\n",
      "3번째 입력 (종료 : q) : science\n",
      "4번째 입력 (종료 : q) : q\n",
      "['data', 'python', 'science']\n"
     ]
    }
   ],
   "source": [
    "count, result = 0, []\n",
    "\n",
    "while True:\n",
    "    count += 1\n",
    "    data = input(\"{}번째 입력 (종료 : q) : \".format(count))\n",
    "    \n",
    "    if data == \"q\":\n",
    "        break\n",
    "    \n",
    "    result.append(data)\n",
    "\n",
    "print(result)"
   ]
  },
  {
   "cell_type": "markdown",
   "metadata": {},
   "source": [
    "#### 4. for\n",
    "- 순서가 있는 데이터의 집합(iterable : 리스트, 튜플)에서 값을 하나씩 꺼내서 변수에 대입시킨후 for 구문 안에 있는 코드를 실행시키는 반복문\n",
    "\n",
    "```\n",
    "for <변수> in <순서가 있는 데이터 집합>:\n",
    "    <code>\n",
    "```\n",
    "- range\n",
    "- enumerate\n",
    "- zip\n"
   ]
  },
  {
   "cell_type": "code",
   "execution_count": 19,
   "metadata": {},
   "outputs": [
    {
     "name": "stdout",
     "output_type": "stream",
     "text": [
      "0 1 2 3 4 "
     ]
    }
   ],
   "source": [
    "ls = [0, 1, 2, 3, 4]\n",
    "for value in ls:\n",
    "    print(value, end=\" \") # 5번실행"
   ]
  },
  {
   "cell_type": "code",
   "execution_count": 22,
   "metadata": {},
   "outputs": [
    {
     "name": "stdout",
     "output_type": "stream",
     "text": [
      "A\n",
      "B\n"
     ]
    }
   ],
   "source": [
    "# dictionary를 사용한 for 반복문\n",
    "dic = {\"A\": 1, \"B\": 2}\n",
    "for key in dic:\n",
    "    print(key)"
   ]
  },
  {
   "cell_type": "code",
   "execution_count": 23,
   "metadata": {},
   "outputs": [
    {
     "data": {
      "text/plain": [
       "dict_items([('A', 1), ('B', 2)])"
      ]
     },
     "execution_count": 23,
     "metadata": {},
     "output_type": "execute_result"
    }
   ],
   "source": [
    "dic.items()"
   ]
  },
  {
   "cell_type": "code",
   "execution_count": 24,
   "metadata": {},
   "outputs": [
    {
     "name": "stdout",
     "output_type": "stream",
     "text": [
      "A 1\n",
      "B 2\n"
     ]
    }
   ],
   "source": [
    "for key, value in dic.items(): # ('A', 1)\n",
    "    print(key, value)"
   ]
  },
  {
   "cell_type": "markdown",
   "metadata": {},
   "source": [
    "#### QUiz 3\n",
    "- for문을 이용하여 아래 리스트에 있는 숫자를 모두 더하는 코드를 작성하세요.\n",
    "- for문과 할당연산자\n",
    "\n",
    "```\n",
    "numbers = [1, 3, 5, 8, 10, 14]\n",
    "result => 41\n",
    "```"
   ]
  },
  {
   "cell_type": "code",
   "execution_count": 25,
   "metadata": {},
   "outputs": [
    {
     "name": "stdout",
     "output_type": "stream",
     "text": [
      "41\n"
     ]
    }
   ],
   "source": [
    "numbers = [1, 3, 5, 8, 10, 14]\n",
    "result = 0\n",
    "for number in numbers:\n",
    "    result += number\n",
    "print(result)"
   ]
  },
  {
   "cell_type": "markdown",
   "metadata": {},
   "source": [
    "#### 4.1 range\n",
    "- list를 간편하게 생성해주는 함수입니다.\n",
    "- 함수 : 코드의 집합을 실행시켜주는 방법\n",
    "```\n",
    "range(end)\n",
    "range(start, end)\n",
    "range(start, end, stride)\n",
    "```"
   ]
  },
  {
   "cell_type": "code",
   "execution_count": 28,
   "metadata": {},
   "outputs": [
    {
     "data": {
      "text/plain": [
       "[1, 2, 3]"
      ]
     },
     "execution_count": 28,
     "metadata": {},
     "output_type": "execute_result"
    }
   ],
   "source": [
    "ls = [1, 2, 3]\n",
    "ls"
   ]
  },
  {
   "cell_type": "code",
   "execution_count": 29,
   "metadata": {},
   "outputs": [
    {
     "name": "stdout",
     "output_type": "stream",
     "text": [
      "data science\n",
      "data science\n",
      "data science\n"
     ]
    }
   ],
   "source": [
    "for _ in ls:\n",
    "    print(\"data science\")"
   ]
  },
  {
   "cell_type": "code",
   "execution_count": 30,
   "metadata": {},
   "outputs": [
    {
     "data": {
      "text/plain": [
       "[0, 1, 2]"
      ]
     },
     "execution_count": 30,
     "metadata": {},
     "output_type": "execute_result"
    }
   ],
   "source": [
    "list(range(3))"
   ]
  },
  {
   "cell_type": "code",
   "execution_count": 31,
   "metadata": {},
   "outputs": [
    {
     "name": "stdout",
     "output_type": "stream",
     "text": [
      "data science\n",
      "data science\n",
      "data science\n"
     ]
    }
   ],
   "source": [
    "for _ in range(3):\n",
    "    print(\"data science\")"
   ]
  },
  {
   "cell_type": "code",
   "execution_count": 32,
   "metadata": {},
   "outputs": [
    {
     "data": {
      "text/plain": [
       "[1, 2, 3, 4]"
      ]
     },
     "execution_count": 32,
     "metadata": {},
     "output_type": "execute_result"
    }
   ],
   "source": [
    "list(range(1, 5))"
   ]
  },
  {
   "cell_type": "code",
   "execution_count": 33,
   "metadata": {},
   "outputs": [
    {
     "data": {
      "text/plain": [
       "[1, 3, 5, 7, 9]"
      ]
     },
     "execution_count": 33,
     "metadata": {},
     "output_type": "execute_result"
    }
   ],
   "source": [
    "list(range(1, 10, 2))"
   ]
  },
  {
   "cell_type": "code",
   "execution_count": 37,
   "metadata": {},
   "outputs": [
    {
     "data": {
      "text/plain": [
       "[10, 9, 8, 7, 6, 5, 4, 3, 2, 1]"
      ]
     },
     "execution_count": 37,
     "metadata": {},
     "output_type": "execute_result"
    }
   ],
   "source": [
    "list(range(10, 0, -1))"
   ]
  },
  {
   "cell_type": "markdown",
   "metadata": {},
   "source": [
    "#### Quiz 4\n",
    "- 5를 입력했을 때 아래와 같이 별이 출력되는 코드를 작성하세요.\n",
    "\n",
    "```\n",
    "*\n",
    "**\n",
    "***\n",
    "****\n",
    "*****\n",
    "```"
   ]
  },
  {
   "cell_type": "code",
   "execution_count": 45,
   "metadata": {},
   "outputs": [
    {
     "name": "stdout",
     "output_type": "stream",
     "text": [
      "*\n",
      "**\n",
      "***\n",
      "****\n",
      "*****\n",
      "******\n"
     ]
    }
   ],
   "source": [
    "number = 6\n",
    "for a in range(1,number + 1):\n",
    "    print(\"*\" * a)"
   ]
  },
  {
   "cell_type": "markdown",
   "metadata": {},
   "source": [
    "#### Quiz 5\n",
    "- 5를 입력했을 때 아래와 같이 별이 출력되는 코드를 작성하세요.\n",
    "\n",
    "```\n",
    "     *\n",
    "    **\n",
    "   ***\n",
    "  ****\n",
    " *****\n",
    "```"
   ]
  },
  {
   "cell_type": "code",
   "execution_count": 57,
   "metadata": {},
   "outputs": [
    {
     "name": "stdout",
     "output_type": "stream",
     "text": [
      "    *\n",
      "   **\n",
      "  ***\n",
      " ****\n",
      "*****\n"
     ]
    }
   ],
   "source": [
    "number = 5\n",
    "for a in range(1, number + 1):\n",
    "    print((number-a) * \" \" + a * \"*\")"
   ]
  },
  {
   "cell_type": "markdown",
   "metadata": {},
   "source": [
    "#### Quiz 6\n",
    "- 홀수만 입력이 가능\n",
    "- 5를 입력하면 아래와 같이 별이 출력되도록 코드를 작성\n",
    "\n",
    "```\n",
    "  *\n",
    " ***\n",
    "*****\n",
    "```"
   ]
  },
  {
   "cell_type": "code",
   "execution_count": 65,
   "metadata": {},
   "outputs": [
    {
     "name": "stdout",
     "output_type": "stream",
     "text": [
      "   *\n",
      "  ***\n",
      " *****\n",
      "*******\n"
     ]
    }
   ],
   "source": [
    "number = 7\n",
    "for a in range(1, number + 1, 2):\n",
    "    b = int((number-a)/2)\n",
    "    print(\" \" * b + a * \"*\")"
   ]
  },
  {
   "cell_type": "markdown",
   "metadata": {},
   "source": [
    "#### Quiz 7\n",
    "- 구구단의 단을 입력하면 해당 단을 출력하는 코드를 작성하세요.\n",
    "\n",
    "```\n",
    "input number : 4\n",
    "\n",
    "4단\n",
    "4*1=4\n",
    "4*2=8\n",
    "4*3=12\n",
    "...\n",
    "4*9=36\n",
    "```"
   ]
  },
  {
   "cell_type": "code",
   "execution_count": 77,
   "metadata": {},
   "outputs": [
    {
     "name": "stdout",
     "output_type": "stream",
     "text": [
      "input number : 7\n",
      "7단\n",
      "7*1=7\n",
      "7*2=14\n",
      "7*3=21\n",
      "7*4=28\n",
      "7*5=35\n",
      "7*6=42\n",
      "7*7=49\n",
      "7*8=56\n",
      "7*9=63\n"
     ]
    }
   ],
   "source": [
    "number = int(input(\"input number : \"))\n",
    "print(str(number) + \"단\")\n",
    "for num in range(1, 10):\n",
    "    mul = num * number\n",
    "    print(str(number) + \"*\" + str(num) + \"=\" + str(mul) )"
   ]
  },
  {
   "cell_type": "markdown",
   "metadata": {},
   "source": [
    "#### Quiz 8\n",
    "- 아래의 2개의 리스트 데이터를\n",
    "\n",
    "```\n",
    "subject = [\"korean\", \"english\", \"math\", \"science\"]\n",
    "points = [100, 80, 90, 60]\n",
    "```\n",
    "\n",
    "- for문을 이용하여 딕셔너리 데이터로 변경하는 코드를 작성하세요.\n",
    "\n",
    "```\n",
    "result => {\"korean\":100, \"english\":80, \"math\":90, \"science\":60}\n",
    "```"
   ]
  },
  {
   "cell_type": "code",
   "execution_count": 90,
   "metadata": {},
   "outputs": [
    {
     "name": "stdout",
     "output_type": "stream",
     "text": [
      "{'korean': 100, 'english': 80, 'math': 90, 'science': 60}\n"
     ]
    }
   ],
   "source": [
    "subject = [\"korean\", \"english\", \"math\", \"science\"]\n",
    "points = [100, 80, 90, 60]\n",
    "result = {}\n",
    "\n",
    "for idx in range(len(subject)):\n",
    "    result[subject[idx]] = points[idx]\n",
    "\n",
    "print(result)"
   ]
  },
  {
   "cell_type": "code",
   "execution_count": 2,
   "metadata": {},
   "outputs": [
    {
     "name": "stdout",
     "output_type": "stream",
     "text": [
      "{'korean': 100, 'english': 80, 'math': 90}\n"
     ]
    }
   ],
   "source": [
    "subject = [\"korean\", \"english\", \"math\", \"science\"]\n",
    "points = [100, 80, 90]\n",
    "result = {}\n",
    "\n",
    "count = len(points) if len(subject) > len(points) else len(subject)\n",
    "\n",
    "for idx in range(count):\n",
    "    result[subject[idx]] = points[idx]\n",
    "\n",
    "print(result)"
   ]
  },
  {
   "cell_type": "markdown",
   "metadata": {},
   "source": [
    "#### 4.2 enumerate\n",
    "- 리스트 데이터의 index와 value값을 동시에 사용할 수 있게 해주는 함수입니다."
   ]
  },
  {
   "cell_type": "code",
   "execution_count": 3,
   "metadata": {},
   "outputs": [
    {
     "name": "stdout",
     "output_type": "stream",
     "text": [
      "1 korean\n",
      "2 english\n",
      "3 math\n",
      "4 science\n"
     ]
    }
   ],
   "source": [
    "# 과목명과 과목번호를 같이 출력\n",
    "subjects = [\"korean\", \"english\", \"math\", \"science\"]\n",
    "number = 1\n",
    "for subject in subjects:\n",
    "    print(number, subject)\n",
    "    number += 1"
   ]
  },
  {
   "cell_type": "code",
   "execution_count": 4,
   "metadata": {},
   "outputs": [
    {
     "data": {
      "text/plain": [
       "[(0, 'korean'), (1, 'english'), (2, 'math'), (3, 'science')]"
      ]
     },
     "execution_count": 4,
     "metadata": {},
     "output_type": "execute_result"
    }
   ],
   "source": [
    "list(enumerate(subjects))"
   ]
  },
  {
   "cell_type": "code",
   "execution_count": 6,
   "metadata": {},
   "outputs": [
    {
     "name": "stdout",
     "output_type": "stream",
     "text": [
      "1 korean\n",
      "2 english\n",
      "3 math\n",
      "4 science\n"
     ]
    }
   ],
   "source": [
    "for idx, subject in enumerate(subjects):\n",
    "    print(idx+1, subject)"
   ]
  },
  {
   "cell_type": "markdown",
   "metadata": {},
   "source": [
    "### 4.3 zip\n",
    "- n개의 리스트를 같은 index끼리 묶어주는 함수"
   ]
  },
  {
   "cell_type": "code",
   "execution_count": 11,
   "metadata": {},
   "outputs": [
    {
     "data": {
      "text/plain": [
       "[('korean', 100), ('english', 80), ('math', 90), ('science', 60)]"
      ]
     },
     "execution_count": 11,
     "metadata": {},
     "output_type": "execute_result"
    }
   ],
   "source": [
    "subjects = [\"korean\", \"english\", \"math\", \"science\"]\n",
    "points = [100, 80, 90, 60]\n",
    "list(zip(subjects,points))"
   ]
  },
  {
   "cell_type": "code",
   "execution_count": 12,
   "metadata": {},
   "outputs": [
    {
     "data": {
      "text/plain": [
       "{'korean': 100, 'english': 80, 'math': 90, 'science': 60}"
      ]
     },
     "execution_count": 12,
     "metadata": {},
     "output_type": "execute_result"
    }
   ],
   "source": [
    "result = {}\n",
    "for subject, point in zip(subjects, points):\n",
    "    result[subject] = point\n",
    "result"
   ]
  },
  {
   "cell_type": "code",
   "execution_count": 13,
   "metadata": {},
   "outputs": [
    {
     "data": {
      "text/plain": [
       "{'korean': 100, 'english': 80, 'math': 90, 'science': 60}"
      ]
     },
     "execution_count": 13,
     "metadata": {},
     "output_type": "execute_result"
    }
   ],
   "source": [
    "dict(zip(subjects,points))"
   ]
  },
  {
   "cell_type": "markdown",
   "metadata": {},
   "source": [
    "#### 랜덤 함수"
   ]
  },
  {
   "cell_type": "code",
   "execution_count": 44,
   "metadata": {},
   "outputs": [
    {
     "data": {
      "text/plain": [
       "4"
      ]
     },
     "execution_count": 44,
     "metadata": {},
     "output_type": "execute_result"
    }
   ],
   "source": [
    "import random\n",
    "# 1 ~ 10 랜덤하게 정수 데이터를 뽑고 싶으면\n",
    "random.randint(1, 10)"
   ]
  },
  {
   "cell_type": "code",
   "execution_count": 20,
   "metadata": {},
   "outputs": [
    {
     "data": {
      "text/plain": [
       "9"
      ]
     },
     "execution_count": 20,
     "metadata": {},
     "output_type": "execute_result"
    }
   ],
   "source": [
    "# 설정한 데이터에서 하나의 데이터를 랜덤하게 뽑기\n",
    "random.choice([1, 5, 9])"
   ]
  },
  {
   "cell_type": "markdown",
   "metadata": {},
   "source": [
    "#### Quiz 9\n",
    "- 로또번호를 출력하는 코드를 작성하세요.\n",
    "- 1~45까지의 숫자 중에 6개의 숫자를 뽑으시면 됩니다.\n",
    "- 중복이 되지 않도록 6개의 숫자를 뽑으시면 됩니다.\n",
    "- while, break, if, in, list, append 사용\n",
    "\n",
    "```\n",
    "result => [3, 8, 15, 19, 25, 31]\n",
    "```"
   ]
  },
  {
   "cell_type": "code",
   "execution_count": 65,
   "metadata": {},
   "outputs": [
    {
     "data": {
      "text/plain": [
       "[23, 28, 32, 34, 43, 45]"
      ]
     },
     "execution_count": 65,
     "metadata": {},
     "output_type": "execute_result"
    }
   ],
   "source": [
    "import random\n",
    "\n",
    "result = []\n",
    "\n",
    "while True:\n",
    "    number = random.randint(1, 45)\n",
    "    \n",
    "    # result 안에 number가 없을 때 number를 result에 추가\n",
    "    if number not in result:\n",
    "        result.append(number)\n",
    "    \n",
    "    if len(result) == 6:\n",
    "        result.sort()\n",
    "        break\n",
    "\n",
    "result"
   ]
  },
  {
   "cell_type": "code",
   "execution_count": null,
   "metadata": {},
   "outputs": [],
   "source": []
  },
  {
   "cell_type": "code",
   "execution_count": null,
   "metadata": {},
   "outputs": [],
   "source": []
  }
 ],
 "metadata": {
  "kernelspec": {
   "display_name": "Python 3",
   "language": "python",
   "name": "python3"
  },
  "language_info": {
   "codemirror_mode": {
    "name": "ipython",
    "version": 3
   },
   "file_extension": ".py",
   "mimetype": "text/x-python",
   "name": "python",
   "nbconvert_exporter": "python",
   "pygments_lexer": "ipython3",
   "version": "3.8.3"
  }
 },
 "nbformat": 4,
 "nbformat_minor": 4
}
