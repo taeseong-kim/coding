{
 "cells": [
  {
   "cell_type": "markdown",
   "metadata": {
    "colab_type": "text",
    "id": "Tg38hx-Rxrho"
   },
   "source": [
    "- 주피터 노트북 설치\n",
    "- 파이썬 기본 문법"
   ]
  },
  {
   "cell_type": "markdown",
   "metadata": {
    "colab_type": "text",
    "id": "nBmW7baLxrhp"
   },
   "source": [
    "### 예제"
   ]
  },
  {
   "cell_type": "markdown",
   "metadata": {
    "colab_type": "text",
    "id": "Pj4PcSJSxrhp"
   },
   "source": [
    "### 1. 주피터 노트북에서 두가지 모드를 작성하세요."
   ]
  },
  {
   "cell_type": "markdown",
   "metadata": {
    "colab_type": "text",
    "id": "0bNDGZ9Gxrhr"
   },
   "source": [
    "### 2. 셀에 있는 코드를 실행하는 단축키는?"
   ]
  },
  {
   "cell_type": "markdown",
   "metadata": {
    "colab_type": "text",
    "id": "INzQB00zxrht"
   },
   "source": [
    "### 3. 출력 함수 명령은?"
   ]
  },
  {
   "cell_type": "markdown",
   "metadata": {
    "colab_type": "text",
    "id": "EvL7GRfVxrhv"
   },
   "source": [
    "### 4. 셀을 삭제하는 단축키는?"
   ]
  },
  {
   "cell_type": "markdown",
   "metadata": {
    "colab_type": "text",
    "id": "rjX3odrLxrhw"
   },
   "source": [
    "### 5. 변수 data1 에는 jupyter, 변수 data2 에는 notebook으로 변수를 선언하고 출력하세요."
   ]
  },
  {
   "cell_type": "code",
   "execution_count": 2,
   "metadata": {},
   "outputs": [
    {
     "name": "stdout",
     "output_type": "stream",
     "text": [
      "jupyter\n",
      "notebook\n"
     ]
    }
   ],
   "source": [
    "data1, data2 = \"jupyter\", \"notebook\"\n",
    "print(data1)\n",
    "print(data2)"
   ]
  },
  {
   "cell_type": "code",
   "execution_count": null,
   "metadata": {},
   "outputs": [],
   "source": []
  }
 ],
 "metadata": {
  "colab": {
   "collapsed_sections": [],
   "name": "day2_예제_문제.ipynb",
   "provenance": [],
   "version": "0.3.2"
  },
  "kernelspec": {
   "display_name": "Python 3",
   "language": "python",
   "name": "python3"
  },
  "language_info": {
   "codemirror_mode": {
    "name": "ipython",
    "version": 3
   },
   "file_extension": ".py",
   "mimetype": "text/x-python",
   "name": "python",
   "nbconvert_exporter": "python",
   "pygments_lexer": "ipython3",
   "version": "3.8.3"
  }
 },
 "nbformat": 4,
 "nbformat_minor": 1
}
