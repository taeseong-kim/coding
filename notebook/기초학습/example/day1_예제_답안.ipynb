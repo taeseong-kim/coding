{
 "cells": [
  {
   "cell_type": "markdown",
   "metadata": {
    "colab_type": "text",
    "id": "2POZLtCAvwsV"
   },
   "source": [
    "- 데이터 사이언스 스킬들\n",
    "- 데이터 분석 과정\n",
    "- 컴퓨터의 구조와 프로그램의 작동원리\n",
    "- 파이썬 언어 프로그램의 개요\n",
    "- 데이터 분석을 위한 파이썬 패키지 소개"
   ]
  },
  {
   "cell_type": "markdown",
   "metadata": {
    "colab_type": "text",
    "id": "Y_f1WOvWvwsW"
   },
   "source": [
    "### 예제"
   ]
  },
  {
   "cell_type": "markdown",
   "metadata": {
    "colab_type": "text",
    "id": "TyT5c_gMvwsX"
   },
   "source": [
    "### 1. 데이터를 분석하는 과정 중 맞는것은?"
   ]
  },
  {
   "cell_type": "markdown",
   "metadata": {
    "colab_type": "text",
    "id": "HQxzLuc2vwsX"
   },
   "source": [
    "정답 : 1"
   ]
  },
  {
   "cell_type": "markdown",
   "metadata": {
    "colab_type": "text",
    "id": "HmCrtG4zvwsY"
   },
   "source": [
    "1. 문제정의 - 데이터수집 - 데이터처리 - 데이터분석 - 모델링,알고리즘 생성 - 리포팅 및 서비스화\n",
    "1. 데이터수집 - 문제정의- 데이터처리 - 데이터분석 - 모델링,알고리즘 생성 - 리포팅 및 서비스화\n",
    "1. 문제정의 - 데이터수집 - 데이터분석 - 데이터처리 - 모델링,알고리즘 생성 - 리포팅 및 서비스화\n",
    "1. 문제정의 - 데이터수집 - 데이터처리 - 모델링,알고리즘 생성 - 데이터분석 - 리포팅 및 서비스화"
   ]
  },
  {
   "cell_type": "markdown",
   "metadata": {
    "colab_type": "text",
    "id": "Pz0mTus8vwsY"
   },
   "source": [
    "### 2. 데이터 수집에 사용되는 파이썬 패키지가 아닌것은?"
   ]
  },
  {
   "cell_type": "markdown",
   "metadata": {
    "colab_type": "text",
    "id": "eMSmBGoAvwsZ"
   },
   "source": [
    "정답  : 3"
   ]
  },
  {
   "cell_type": "markdown",
   "metadata": {
    "colab_type": "text",
    "id": "SnUeVIGLvwsZ"
   },
   "source": [
    "1. requests\n",
    "1. selenium\n",
    "1. matplotlib\n",
    "1. scrapy"
   ]
  },
  {
   "cell_type": "markdown",
   "metadata": {
    "colab_type": "text",
    "id": "rbDiS1quvwsa"
   },
   "source": [
    "### 3. 파이썬의 특징 4가지를 작성하세요."
   ]
  },
  {
   "cell_type": "markdown",
   "metadata": {
    "colab_type": "text",
    "id": "J5oWIplcvwsb"
   },
   "source": [
    "플랫폼에 독립적, 인터프리터 언어, 객체 지향적, 동적 타이핑"
   ]
  },
  {
   "cell_type": "markdown",
   "metadata": {
    "colab_type": "text",
    "id": "zR8fotRZvwsc"
   },
   "source": [
    "### 4. 판별분석에 대해서 설명하세요."
   ]
  },
  {
   "cell_type": "markdown",
   "metadata": {
    "colab_type": "text",
    "id": "P82XXUZ-vwsd"
   },
   "source": [
    "데이터를 통해 결과를 예측해내는 분석 방법 (독립변수(샘플데이터)로 종속변수(결과)를 알아냄)"
   ]
  },
  {
   "cell_type": "markdown",
   "metadata": {
    "colab_type": "text",
    "id": "YSKjE6bCvwsd"
   },
   "source": [
    "### 5. 컴파일러가 하는 역할에 대하서 간략하게 서술하세요."
   ]
  },
  {
   "cell_type": "markdown",
   "metadata": {
    "colab_type": "text",
    "id": "Sx1CN4Hyvwse"
   },
   "source": [
    "알파벳, 숫자, 특수기호로 되어 있는 코드를 컴퓨터가 읽을수 있는 0과 1의 이진수로 변환해주는 역할"
   ]
  },
  {
   "cell_type": "markdown",
   "metadata": {
    "colab_type": "text",
    "id": "3My9fDsCvwse"
   },
   "source": [
    "### 6. 데이터 처리를 위한 파이썬 패키지를 작성하세요."
   ]
  },
  {
   "cell_type": "markdown",
   "metadata": {
    "colab_type": "text",
    "id": "cPBDC1v1vwsf"
   },
   "source": [
    "- numpy : 수치해석, 선형대수의 계산기능을 제공\n",
    "- pandas : 테이블 형태의 데이터를 탐색하거나 정리할때 아주 빠르고 쉬운 사용성을 제공"
   ]
  }
 ],
 "metadata": {
  "colab": {
   "collapsed_sections": [],
   "name": "day1_예제_답안.ipynb",
   "provenance": [],
   "version": "0.3.2"
  },
  "kernelspec": {
   "display_name": "Python 3",
   "language": "python",
   "name": "python3"
  },
  "language_info": {
   "codemirror_mode": {
    "name": "ipython",
    "version": 3
   },
   "file_extension": ".py",
   "mimetype": "text/x-python",
   "name": "python",
   "nbconvert_exporter": "python",
   "pygments_lexer": "ipython3",
   "version": "3.8.3"
  }
 },
 "nbformat": 4,
 "nbformat_minor": 1
}
