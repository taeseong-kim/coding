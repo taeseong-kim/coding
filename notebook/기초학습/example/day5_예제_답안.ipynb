{
 "cells": [
  {
   "cell_type": "markdown",
   "metadata": {
    "colab_type": "text",
    "id": "-ToU04vN-EYe"
   },
   "source": [
    "### 예제 "
   ]
  },
  {
   "cell_type": "markdown",
   "metadata": {
    "colab_type": "text",
    "id": "_4IuMXQ3-EYk"
   },
   "source": [
    "### 1. List & For\n",
    "- list와 for문 이용하여 10 ~ 20까지 출력하는 코드를 만드세요."
   ]
  },
  {
   "cell_type": "code",
   "execution_count": 0,
   "metadata": {
    "colab": {},
    "colab_type": "code",
    "id": "vPpMzWjv-EYt",
    "outputId": "aa9a1cd3-793f-485f-8410-2091d10736a2"
   },
   "outputs": [
    {
     "name": "stdout",
     "output_type": "stream",
     "text": [
      "10 11 12 13 14 15 16 17 18 19 20 "
     ]
    }
   ],
   "source": [
    "ls = [10, 11, 12, 13, 14, 15, 16, 17, 18, 19, 20]\n",
    "for number in ls:\n",
    "    print(number, end=\" \")"
   ]
  },
  {
   "cell_type": "markdown",
   "metadata": {
    "colab_type": "text",
    "id": "YHrGSdWL-EZh"
   },
   "source": [
    "### 2. Range\n",
    "- list와 for문과 range를 이용하여 10 ~ 20까지 출력하는 코드를 만드세요."
   ]
  },
  {
   "cell_type": "code",
   "execution_count": 0,
   "metadata": {
    "colab": {},
    "colab_type": "code",
    "id": "345CYZ_m-EZx",
    "outputId": "10a305e5-504e-402f-eb23-e2efc6bcf22d"
   },
   "outputs": [
    {
     "name": "stdout",
     "output_type": "stream",
     "text": [
      "10 11 12 13 14 15 16 17 18 19 20 "
     ]
    }
   ],
   "source": [
    "for number in range(10, 21):\n",
    "    print(number, end=\" \")"
   ]
  },
  {
   "cell_type": "markdown",
   "metadata": {
    "colab_type": "text",
    "id": "5XHMpFpH-Eac"
   },
   "source": [
    "### 3. 짝수 출력 (for, if, range)\n",
    "- 0 ~ 20까지 짝수만 출력하는 코드를 작성하세요."
   ]
  },
  {
   "cell_type": "code",
   "execution_count": 0,
   "metadata": {
    "colab": {},
    "colab_type": "code",
    "id": "YHKn0kHH-Ean",
    "outputId": "fb0cea55-75e1-497d-b501-6372de8968ad"
   },
   "outputs": [
    {
     "name": "stdout",
     "output_type": "stream",
     "text": [
      "10 12 14 16 18 20 "
     ]
    }
   ],
   "source": [
    "# if문 사용\n",
    "for number in range(10, 21):\n",
    "    if not number % 2:\n",
    "        print(number, end=\" \")"
   ]
  },
  {
   "cell_type": "code",
   "execution_count": 0,
   "metadata": {
    "colab": {},
    "colab_type": "code",
    "id": "5oYh_vRw-EbL",
    "outputId": "a9f6e244-552b-4c4c-ba08-294e9a4c3f1a"
   },
   "outputs": [
    {
     "name": "stdout",
     "output_type": "stream",
     "text": [
      "10 12 14 16 18 20 "
     ]
    }
   ],
   "source": [
    "# range에서 해결\n",
    "for number in range(10, 21, 2):\n",
    "    print(number, end=\" \")"
   ]
  },
  {
   "cell_type": "markdown",
   "metadata": {
    "colab_type": "text",
    "id": "X2ViZL9N-Ebl"
   },
   "source": [
    "### 4. 홀수 더하기 (for, if, range)\n",
    "- 10 ~ 20까지의 숫자에서 홀수를 다 더한 결과를 출력하는 코드를 작성하세요."
   ]
  },
  {
   "cell_type": "code",
   "execution_count": 0,
   "metadata": {
    "colab": {},
    "colab_type": "code",
    "id": "2CJjAKRI-Ebr",
    "outputId": "c032b192-71a6-4d22-a483-429146399dcf"
   },
   "outputs": [
    {
     "name": "stdout",
     "output_type": "stream",
     "text": [
      "75\n"
     ]
    }
   ],
   "source": [
    "# if문 사용\n",
    "result = 0\n",
    "for number in range(10, 21):\n",
    "    if number % 2:\n",
    "        result += number\n",
    "        \n",
    "print(result)"
   ]
  },
  {
   "cell_type": "code",
   "execution_count": 0,
   "metadata": {
    "colab": {},
    "colab_type": "code",
    "id": "LI2N6bMj-EcC",
    "outputId": "e3babbad-ca1a-444a-915f-bc09ca983cd4"
   },
   "outputs": [
    {
     "name": "stdout",
     "output_type": "stream",
     "text": [
      "75\n"
     ]
    }
   ],
   "source": [
    "# range에서 해결\n",
    "result = 0\n",
    "for number in range(11, 21, 2):\n",
    "    result += number\n",
    "        \n",
    "print(result)"
   ]
  },
  {
   "cell_type": "markdown",
   "metadata": {
    "colab_type": "text",
    "id": "QPutc4rW-Eca"
   },
   "source": [
    "### 5. 카드 사용하기 (break)\n",
    "- 50000 원이 들어 있는 카드가 있습니다.\n",
    "- 카드를 계속 사용해서 카드에 있는 돈으로 결제가 불가능한경우 \"결제가 불가능합니다. 현재금액(x)\" 라고 출력하고 프로그램을 종료하는 코드를 작성하세요.\n",
    "- while과 break를 사용하세요."
   ]
  },
  {
   "cell_type": "code",
   "execution_count": 0,
   "metadata": {
    "colab": {},
    "colab_type": "code",
    "id": "M8fsFZZc-Ecc",
    "outputId": "efdceb52-0135-4f1c-9abc-8718817164aa"
   },
   "outputs": [
    {
     "name": "stdout",
     "output_type": "stream",
     "text": [
      "현재 결제가능 금액 : 50000\n",
      "결제금액을 입력해주세요 : 20000\n",
      "결제되었습니다. 현재금액(30000원)\n",
      "결제금액을 입력해주세요 : 10000\n",
      "결제되었습니다. 현재금액(20000원)\n",
      "결제금액을 입력해주세요 : 40000\n",
      "결제가 불가능합니다. 현재금액(20000원)\n"
     ]
    }
   ],
   "source": [
    "account = 50000\n",
    "print(\"현재 결제가능 금액 : {}\".format(account))\n",
    "\n",
    "while True:\n",
    "    money = int(input(\"결제금액을 입력해주세요 : \"))\n",
    "    account -= money\n",
    "    if account < 0:\n",
    "        account += money\n",
    "        break\n",
    "    else:\n",
    "        print(\"결제되었습니다. 현재금액({}원)\".format(account))\n",
    "    \n",
    "print(\"결제가 불가능합니다. 현재금액({}원)\".format(account))"
   ]
  },
  {
   "cell_type": "markdown",
   "metadata": {
    "colab_type": "text",
    "id": "IHbkK6f2-Eez"
   },
   "source": [
    "### 6. 랜덤 숫자 맞추기 (continue)\n",
    "- 0 ~ 9 까지 랜덤한 숫자를 생성하여 숫자를 맞출때까지 숫자를 입력받는 코드를 작성하세요.\n",
    "- continue를 사용하세요.\n",
    "\n",
    "```\n",
    "숫자를 입력하세요 : 1\n",
    "숫자를 입력하세요 : 2\n",
    "숫자를 입력하세요 : 3\n",
    "숫자를 입력하세요 : 4\n",
    "숫자를 입력하세요 : 5\n",
    "숫자를 입력하세요 : 6\n",
    "숫자를 입력하세요 : 7\n",
    "숫자를 입력하세요 : 8\n",
    "숫자를 맞췄습니다\n",
    "```"
   ]
  },
  {
   "cell_type": "code",
   "execution_count": 0,
   "metadata": {
    "colab": {},
    "colab_type": "code",
    "id": "EOZwMuty-Eez",
    "outputId": "27608b88-a757-4547-b4e1-0f636d320a10"
   },
   "outputs": [
    {
     "name": "stdout",
     "output_type": "stream",
     "text": [
      "숫자를 입력하세요 : 1\n",
      "숫자를 입력하세요 : 2\n",
      "숫자를 입력하세요 : 3\n",
      "숫자를 입력하세요 : 4\n",
      "숫자를 입력하세요 : 5\n",
      "숫자를 맞췄습니다\n"
     ]
    }
   ],
   "source": [
    "import random\n",
    "\n",
    "random_number = random.randint(0, 9)\n",
    "\n",
    "while True:\n",
    "    number = int(input(\"숫자를 입력하세요 : \"))\n",
    "    if random_number != number:\n",
    "        continue\n",
    "    print(\"숫자를 맞췄습니다\")\n",
    "    break"
   ]
  },
  {
   "cell_type": "markdown",
   "metadata": {
    "colab_type": "text",
    "id": "FJB39a6w-Ee1"
   },
   "source": [
    "### 7. 달리기 시합 결과 입력 및 출력 하기 (enumerate)\n",
    "- 토끼, 거북이, 사슴이 시합을 했는데 1등부터 결과를 입력받아서 등수와 동물을 출력하는 코드를 작성하세요.\n",
    "- 등수를 출력할때 enumerate 를 사용해주세요.\n",
    "- 결과\n",
    "\n",
    "```\n",
    "1등 한 동물은 ? 사슴\n",
    "2등 한 동물은 ? 토끼\n",
    "3등 한 동물은 ? 거북이\n",
    "\n",
    "결과\n",
    "1등 - 사슴\n",
    "2등 - 토끼\n",
    "3등 - 거북이\n",
    "```"
   ]
  },
  {
   "cell_type": "code",
   "execution_count": 0,
   "metadata": {
    "colab": {},
    "colab_type": "code",
    "id": "jQQ2ypHa-Ee2",
    "outputId": "aa4dbbd7-943f-4ab1-a198-00e087c6bbba"
   },
   "outputs": [
    {
     "name": "stdout",
     "output_type": "stream",
     "text": [
      "1등 한 동물은 ? 사슴\n",
      "2등 한 동물은 ? 토끼\n",
      "3등 한 동물은 ? 거북이\n",
      "\n",
      "결과\n",
      "1등 - 사슴\n",
      "2등 - 토끼\n",
      "3등 - 거북이\n"
     ]
    }
   ],
   "source": [
    "result = []\n",
    "for rank in range(1, 4):\n",
    "    result.append(input(\"{}등 한 동물은 ? \".format(rank)))\n",
    "\n",
    "print(\"\\n결과\")\n",
    "\n",
    "for rank, name in enumerate(result):\n",
    "    print(\"{}등 - {}\".format(rank + 1, name))"
   ]
  },
  {
   "cell_type": "markdown",
   "metadata": {
    "colab_type": "text",
    "id": "xYMd3xeh-Ee5"
   },
   "source": [
    "### 8. 중복 문자의 갯수 찾기 (zip)\n",
    "- 두개의 문자열을 입력받아 문자가 같고 자리가 같은 중복된 문자와 갯수를 출력하는 코드를 작성하세요.\n",
    "- \"abcde\" 와 \"adcbe\"의 중복된 문자는 3개 입니다.\n",
    "- 문자열의 갯수는 같게 설정이 되어야 합니다."
   ]
  },
  {
   "cell_type": "code",
   "execution_count": 0,
   "metadata": {
    "colab": {},
    "colab_type": "code",
    "id": "mfCnNDnD-Ee6",
    "outputId": "94404ce7-ff4a-4e19-e559-706c25bd7063"
   },
   "outputs": [
    {
     "name": "stdout",
     "output_type": "stream",
     "text": [
      "insert string1 :abcde\n",
      "insert string2 :adcbe\n",
      "중복된 문자는 ace이고, 중복된 문자의 갯수는 3개 입니다.\n"
     ]
    }
   ],
   "source": [
    "# 문자열 입력 받기\n",
    "data1 = input(\"insert string1 :\")\n",
    "data2 = input(\"insert string2 :\")\n",
    "\n",
    "# 중복된 문자의 갯수 저장하는 변수 선언\n",
    "count = 0\n",
    "\n",
    "# 중복된 문자 저장하는 변수 선언\n",
    "overlap = \"\"\n",
    "\n",
    "# 같은 문자 확인하기\n",
    "for char1, char2 in zip(data1, data2):\n",
    "    if char1 == char2:\n",
    "        count += 1\n",
    "        overlap += char1\n",
    "\n",
    "# 결과 출력\n",
    "print(\"중복된 문자는 {}이고, 중복된 문자의 갯수는 {}개 입니다.\".format(overlap, count))"
   ]
  }
 ],
 "metadata": {
  "colab": {
   "collapsed_sections": [],
   "name": "day5_예제_답안.ipynb",
   "provenance": [],
   "version": "0.3.2"
  },
  "kernelspec": {
   "display_name": "Python 3",
   "language": "python",
   "name": "python3"
  },
  "language_info": {
   "codemirror_mode": {
    "name": "ipython",
    "version": 3
   },
   "file_extension": ".py",
   "mimetype": "text/x-python",
   "name": "python",
   "nbconvert_exporter": "python",
   "pygments_lexer": "ipython3",
   "version": "3.8.3"
  }
 },
 "nbformat": 4,
 "nbformat_minor": 1
}
