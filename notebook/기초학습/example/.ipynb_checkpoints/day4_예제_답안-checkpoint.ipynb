{
 "cells": [
  {
   "cell_type": "markdown",
   "metadata": {
    "colab_type": "text",
    "id": "nkaXMl616_GW"
   },
   "source": [
    "- 연산자\n",
    "- 조건문"
   ]
  },
  {
   "cell_type": "markdown",
   "metadata": {
    "colab_type": "text",
    "id": "esCFC9G16_GX"
   },
   "source": [
    "### 예제"
   ]
  },
  {
   "cell_type": "markdown",
   "metadata": {
    "colab_type": "text",
    "id": "FE9TNFg-6_GY"
   },
   "source": [
    "### 1. 7의 9제곱을 출력하세요."
   ]
  },
  {
   "cell_type": "code",
   "execution_count": 0,
   "metadata": {
    "colab": {},
    "colab_type": "code",
    "id": "VhJPB2vq6_GY",
    "outputId": "04876fa3-7dc7-4234-8bc3-686f920d82b5"
   },
   "outputs": [
    {
     "data": {
      "text/plain": [
       "40353607"
      ]
     },
     "execution_count": 71,
     "metadata": {
      "tags": []
     },
     "output_type": "execute_result"
    }
   ],
   "source": [
    "7 ** 9"
   ]
  },
  {
   "cell_type": "markdown",
   "metadata": {
    "colab_type": "text",
    "id": "5N0kuObA6_Gj"
   },
   "source": [
    "### 2. 1234 / 123 의 몫과 나머지를 출력하세요."
   ]
  },
  {
   "cell_type": "code",
   "execution_count": 0,
   "metadata": {
    "colab": {},
    "colab_type": "code",
    "id": "jXxEpcUI6_Gj",
    "outputId": "68cfd397-a111-4cc5-d87b-98f3c7ba7d91"
   },
   "outputs": [
    {
     "name": "stdout",
     "output_type": "stream",
     "text": [
      "몫:10, 나머지:4\n"
     ]
    }
   ],
   "source": [
    "num1 = 1234 // 123\n",
    "num2 = 1234 % 123\n",
    "print(\"몫:{}, 나머지:{}\".format(num1, num2))"
   ]
  },
  {
   "cell_type": "markdown",
   "metadata": {
    "colab_type": "text",
    "id": "h1UrvSR76_Gm"
   },
   "source": [
    "### 3. 아래의 리스트 데이터에서 \"python\" 이 있으면 True를 출력, 없으면 False를 출력 하는 코드를 작성하세요.\n",
    "```\n",
    "data1 = [\"python\", \"data\", \"fast\"]\n",
    "data2 = [\"campus\", \"data\", \"fast\"]\n",
    "```"
   ]
  },
  {
   "cell_type": "code",
   "execution_count": 0,
   "metadata": {
    "colab": {},
    "colab_type": "code",
    "id": "JW_qJ-LD6_Gn",
    "outputId": "d44e4bff-b1eb-431c-8fa3-6fc3925eb254"
   },
   "outputs": [
    {
     "name": "stdout",
     "output_type": "stream",
     "text": [
      "True False\n"
     ]
    }
   ],
   "source": [
    "data1 = [\"python\", \"data\", \"fast\"]\n",
    "data2 = [\"campus\", \"data\", \"fast\"]\n",
    "\n",
    "result1 = \"python\" in data1\n",
    "result2 = \"python\" in data2\n",
    "\n",
    "print(result1, result2)"
   ]
  },
  {
   "cell_type": "markdown",
   "metadata": {
    "colab_type": "text",
    "id": "mDJ8w7Yy6_Gp"
   },
   "source": [
    "### 4. 아래의 코드를 삼항연산자로 변경하세요.\n",
    "\n",
    "```\n",
    "keyword = \"mac\"\n",
    "data = [\"mac\", \"os\", \"windows\", \"linux\"]\n",
    "if keyword in data:\n",
    "    print(\"데이터가 있습니다.\")\n",
    "else:\n",
    "    print(\"데이터가 없습니다.\")\n",
    "```"
   ]
  },
  {
   "cell_type": "code",
   "execution_count": 0,
   "metadata": {
    "colab": {},
    "colab_type": "code",
    "id": "znTU0wUB6_Gq",
    "outputId": "6e2bdb34-cd39-47ef-ec99-ad42fbe12976"
   },
   "outputs": [
    {
     "data": {
      "text/plain": [
       "'데이터가 있습니다.'"
      ]
     },
     "execution_count": 45,
     "metadata": {
      "tags": []
     },
     "output_type": "execute_result"
    }
   ],
   "source": [
    "keyword = \"mac\"\n",
    "data = [\"mac\", \"os\", \"windows\", \"linux\"]\n",
    "result = \"데이터가 있습니다.\" if keyword in data else \"데이터가 없습니다.\"\n",
    "result"
   ]
  },
  {
   "cell_type": "markdown",
   "metadata": {
    "colab_type": "text",
    "id": "om3nbVN46_Gx"
   },
   "source": [
    "### 5. not 연산자를 사용해서 홀수와 짝수를 구분하는 코드를 작성하세요.\n",
    "\n",
    "```\n",
    "number = 5\n",
    "결과 : 홀수\n",
    "```"
   ]
  },
  {
   "cell_type": "code",
   "execution_count": 0,
   "metadata": {
    "colab": {},
    "colab_type": "code",
    "id": "iVUIyrVJ6_Gy",
    "outputId": "542f0457-cbb6-4481-d83e-bc6fb80b2bee"
   },
   "outputs": [
    {
     "name": "stdout",
     "output_type": "stream",
     "text": [
      "홀수\n"
     ]
    }
   ],
   "source": [
    "number = 5\n",
    "if not number % 2:\n",
    "    print(\"짝수\")\n",
    "else:\n",
    "    print(\"홀수\")"
   ]
  },
  {
   "cell_type": "markdown",
   "metadata": {
    "colab_type": "text",
    "id": "M62Yz8Dx6_G1"
   },
   "source": [
    "### 6. num1과 num2가 둘다 홀수 일때 True를 출력하는 코드를 작성하세요.\n",
    "\n",
    "```\n",
    "num1, num2 = 3, 5\n",
    "결과 : True\n",
    "\n",
    "num1, num2 = 3, 6\n",
    "결과 : False\n",
    "```"
   ]
  },
  {
   "cell_type": "code",
   "execution_count": 0,
   "metadata": {
    "colab": {},
    "colab_type": "code",
    "id": "rg8PKJ836_G1",
    "outputId": "23288aa8-e2ba-467d-cdc6-4168b41aac1b"
   },
   "outputs": [
    {
     "name": "stdout",
     "output_type": "stream",
     "text": [
      "True\n"
     ]
    }
   ],
   "source": [
    "num1, num2 = 3, 5\n",
    "if (num1 % 2 != 0) and (num2 % 2 != 0):\n",
    "    print(True)\n",
    "else:\n",
    "    print(False)"
   ]
  },
  {
   "cell_type": "markdown",
   "metadata": {
    "colab_type": "text",
    "id": "Q-kt3TtF6_G7"
   },
   "source": [
    "### 7. number 변수의 정수가 짝수이면서 3의 배수인경우 True를 출력하는 코드를 작성하세요.\n",
    "\n",
    "```\n",
    "number = 9\n",
    "Fasle\n",
    "\n",
    "number = 6\n",
    "True\n",
    "```"
   ]
  },
  {
   "cell_type": "code",
   "execution_count": 0,
   "metadata": {
    "colab": {},
    "colab_type": "code",
    "id": "nIS3laof6_HH",
    "outputId": "36dd23af-106f-4d92-f94a-f1622872e6f2"
   },
   "outputs": [
    {
     "name": "stdout",
     "output_type": "stream",
     "text": [
      "False\n"
     ]
    }
   ],
   "source": [
    "number = 9\n",
    "\n",
    "if (number % 3 == 0) and (number % 2 == 0):\n",
    "    print(True)\n",
    "else:\n",
    "    print(False)"
   ]
  },
  {
   "cell_type": "markdown",
   "metadata": {
    "colab_type": "text",
    "id": "RZjqrRx26_HN"
   },
   "source": [
    "### 8. 한자리수를 입력하면 앞에 0을 붙이고 두자리수를 입력하면 0을 붙이지 않도록 코드를 작성하세요.\n",
    "\n",
    "```\n",
    "insert number : 7\n",
    "result => 07\n",
    "\n",
    "insert number : 22\n",
    "result => 22\n",
    "```"
   ]
  },
  {
   "cell_type": "code",
   "execution_count": 0,
   "metadata": {
    "colab": {},
    "colab_type": "code",
    "id": "tugTOdBI6_HO",
    "outputId": "928cbb24-6758-424f-8c22-5058d2111139"
   },
   "outputs": [
    {
     "name": "stdout",
     "output_type": "stream",
     "text": [
      "insert number : 7\n",
      "07\n"
     ]
    }
   ],
   "source": [
    "number = int(input(\"insert number : \"))\n",
    "if number < 10:\n",
    "    print(\"0{}\".format(number))\n",
    "else:\n",
    "    print(number)"
   ]
  },
  {
   "cell_type": "code",
   "execution_count": 0,
   "metadata": {
    "colab": {},
    "colab_type": "code",
    "id": "3nMstFnv6_HQ",
    "outputId": "184f5109-219f-440b-bf8a-ca9a9a10b98c"
   },
   "outputs": [
    {
     "name": "stdout",
     "output_type": "stream",
     "text": [
      "insert number : 22\n",
      "22\n"
     ]
    }
   ],
   "source": [
    "number = int(input(\"insert number : \"))\n",
    "if number < 10:\n",
    "    print(\"0{}\".format(number))\n",
    "else:\n",
    "    print(number)"
   ]
  },
  {
   "cell_type": "markdown",
   "metadata": {
    "colab_type": "text",
    "id": "KrvdvqMM6_Hf"
   },
   "source": [
    "### 9. 1월 1일이 월요일일때 1월 x일은 무슨 요일일까요?\n",
    "\n",
    "- x는 31이하의 수를 입력받습니다.\n",
    "\n",
    "```\n",
    "week = [\"일\", \"월\", \"화\", \"수\", \"목\", \"금\", \"토\"]\n",
    "```\n",
    "\n",
    "- 결과\n",
    "\n",
    "```\n",
    "insert day : 23\n",
    "'화'\n",
    "```"
   ]
  },
  {
   "cell_type": "code",
   "execution_count": 0,
   "metadata": {
    "colab": {},
    "colab_type": "code",
    "id": "KIf5Za1d6_Hq",
    "outputId": "baa15753-57ba-4e37-b07f-9610018bc2f1"
   },
   "outputs": [
    {
     "name": "stdout",
     "output_type": "stream",
     "text": [
      "insert day : 23\n"
     ]
    },
    {
     "data": {
      "text/plain": [
       "'화'"
      ]
     },
     "execution_count": 59,
     "metadata": {
      "tags": []
     },
     "output_type": "execute_result"
    }
   ],
   "source": [
    "week = [\"일\", \"월\", \"화\", \"수\", \"목\", \"금\", \"토\"]\n",
    "day = int(input(\"insert day : \"))\n",
    "result = week[day % 7]\n",
    "result"
   ]
  },
  {
   "cell_type": "markdown",
   "metadata": {
    "colab_type": "text",
    "id": "MFZe67dI6_Hv"
   },
   "source": [
    "### 10. 요일을 입력받아 주말인지 아닌지를 판별하는 코드를 작성하세요.\n",
    "\n",
    "- 아래와 같이 변수를 선언해서 코드를 작성하세요.\n",
    "\n",
    "```\n",
    "weekend = [\"토\", \"일\"]\n",
    "weekday = [\"월\", \"화\", \"수\", \"목\", \"금\"]\n",
    "```\n",
    "\n",
    "- 결과\n",
    "\n",
    "```\n",
    "insert week : 월\n",
    "주중\n",
    "\n",
    "insert week : 일\n",
    "주말\n",
    "```"
   ]
  },
  {
   "cell_type": "code",
   "execution_count": 0,
   "metadata": {
    "colab": {},
    "colab_type": "code",
    "id": "Cs8bPDXP6_Hw",
    "outputId": "89e74fde-d252-4945-eafd-863174c2baf9"
   },
   "outputs": [
    {
     "name": "stdout",
     "output_type": "stream",
     "text": [
      "insert week : 일\n",
      "주말\n"
     ]
    }
   ],
   "source": [
    "day = input(\"insert week : \")\n",
    "weekend = [\"토\", \"일\"]\n",
    "weekday = [\"월\", \"화\", \"수\", \"목\", \"금\"]\n",
    "if day in weekend:\n",
    "    print(\"주말\")\n",
    "elif day in weekday:\n",
    "    print(\"주중\")"
   ]
  }
 ],
 "metadata": {
  "colab": {
   "collapsed_sections": [],
   "name": "day4_예제_답안.ipynb",
   "provenance": [],
   "version": "0.3.2"
  },
  "kernelspec": {
   "display_name": "Python 3",
   "language": "python",
   "name": "python3"
  },
  "language_info": {
   "codemirror_mode": {
    "name": "ipython",
    "version": 3
   },
   "file_extension": ".py",
   "mimetype": "text/x-python",
   "name": "python",
   "nbconvert_exporter": "python",
   "pygments_lexer": "ipython3",
   "version": "3.7.3"
  }
 },
 "nbformat": 4,
 "nbformat_minor": 0
}
