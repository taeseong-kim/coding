{
 "cells": [
  {
   "cell_type": "markdown",
   "metadata": {
    "colab_type": "text",
    "id": "2POZLtCAvwsV"
   },
   "source": [
    "- 데이터 사이언스 스킬들\n",
    "- 데이터 분석 과정\n",
    "- 컴퓨터의 구조와 프로그램의 작동원리\n",
    "- 파이썬 언어 프로그램의 개요\n",
    "- 데이터 분석을 위한 파이썬 패키지 소개"
   ]
  },
  {
   "cell_type": "markdown",
   "metadata": {
    "colab_type": "text",
    "id": "Y_f1WOvWvwsW"
   },
   "source": [
    "### 예제"
   ]
  },
  {
   "cell_type": "markdown",
   "metadata": {
    "colab_type": "text",
    "id": "TyT5c_gMvwsX"
   },
   "source": [
    "### 1. 데이터를 분석하는 과정 중 맞는것은?"
   ]
  },
  {
   "cell_type": "markdown",
   "metadata": {
    "colab_type": "text",
    "id": "HmCrtG4zvwsY"
   },
   "source": [
    "1. 문제정의 - 데이터수집 - 데이터처리 - 데이터분석 - 모델링,알고리즘 생성 - 리포팅 및 서비스화\n",
    "1. 데이터수집 - 문제정의- 데이터처리 - 데이터분석 - 모델링,알고리즘 생성 - 리포팅 및 서비스화\n",
    "1. 문제정의 - 데이터수집 - 데이터분석 - 데이터처리 - 모델링,알고리즘 생성 - 리포팅 및 서비스화\n",
    "1. 문제정의 - 데이터수집 - 데이터처리 - 모델링,알고리즘 생성 - 데이터분석 - 리포팅 및 서비스화"
   ]
  },
  {
   "cell_type": "markdown",
   "metadata": {
    "colab_type": "text",
    "id": "Pz0mTus8vwsY"
   },
   "source": [
    "### 2. 데이터 수집에 사용되는 파이썬 패키지가 아닌것은?"
   ]
  },
  {
   "cell_type": "markdown",
   "metadata": {
    "colab_type": "text",
    "id": "SnUeVIGLvwsZ"
   },
   "source": [
    "1. requests\n",
    "1. selenium\n",
    "1. matplotlib\n",
    "1. scrapy"
   ]
  },
  {
   "cell_type": "markdown",
   "metadata": {
    "colab_type": "text",
    "id": "rbDiS1quvwsa"
   },
   "source": [
    "### 3. 파이썬의 특징 4가지를 작성하세요."
   ]
  },
  {
   "cell_type": "markdown",
   "metadata": {
    "colab_type": "text",
    "id": "zR8fotRZvwsc"
   },
   "source": [
    "### 4. 판별분석에 대해서 설명하세요."
   ]
  },
  {
   "cell_type": "markdown",
   "metadata": {
    "colab_type": "text",
    "id": "YSKjE6bCvwsd"
   },
   "source": [
    "### 5. 컴파일러가 하는 역할에 대하서 간략하게 서술하세요."
   ]
  },
  {
   "cell_type": "markdown",
   "metadata": {
    "colab_type": "text",
    "id": "3My9fDsCvwse"
   },
   "source": [
    "### 6. 데이터 처리를 위한 파이썬 패키지를 작성하세요."
   ]
  }
 ],
 "metadata": {
  "colab": {
   "collapsed_sections": [],
   "name": "day1_예제_문제.ipynb",
   "provenance": [],
   "version": "0.3.2"
  },
  "kernelspec": {
   "display_name": "Python 3",
   "language": "python",
   "name": "python3"
  },
  "language_info": {
   "codemirror_mode": {
    "name": "ipython",
    "version": 3
   },
   "file_extension": ".py",
   "mimetype": "text/x-python",
   "name": "python",
   "nbconvert_exporter": "python",
   "pygments_lexer": "ipython3",
   "version": "3.8.3"
  }
 },
 "nbformat": 4,
 "nbformat_minor": 1
}
