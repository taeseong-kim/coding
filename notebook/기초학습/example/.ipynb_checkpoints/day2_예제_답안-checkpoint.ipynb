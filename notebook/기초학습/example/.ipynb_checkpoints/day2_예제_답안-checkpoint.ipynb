{
 "cells": [
  {
   "cell_type": "markdown",
   "metadata": {
    "colab_type": "text",
    "id": "EAw7atV7xjx-"
   },
   "source": [
    "- 주피터 노트북 설치\n",
    "- 파이썬 기본 문법"
   ]
  },
  {
   "cell_type": "markdown",
   "metadata": {
    "colab_type": "text",
    "id": "GP4XacQixjx-"
   },
   "source": [
    "### 예제"
   ]
  },
  {
   "cell_type": "markdown",
   "metadata": {
    "colab_type": "text",
    "id": "aNysWiOExjx_"
   },
   "source": [
    "### 1. 주피터 노트북에서 두가지 모드를 작성하세요."
   ]
  },
  {
   "cell_type": "markdown",
   "metadata": {
    "colab_type": "text",
    "id": "SzekcH6XxjyA"
   },
   "source": [
    "명령모드, 편집모드"
   ]
  },
  {
   "cell_type": "markdown",
   "metadata": {
    "colab_type": "text",
    "id": "cOduQUsexjyA"
   },
   "source": [
    "### 2. 셀에 있는 코드를 실행하는 단축키는?"
   ]
  },
  {
   "cell_type": "markdown",
   "metadata": {
    "colab_type": "text",
    "id": "z8ktHIWTxjyB"
   },
   "source": [
    "shift + enter"
   ]
  },
  {
   "cell_type": "markdown",
   "metadata": {
    "colab_type": "text",
    "id": "Ihig2IN8xjyB"
   },
   "source": [
    "### 3. 출력 함수 명령은?"
   ]
  },
  {
   "cell_type": "markdown",
   "metadata": {
    "colab_type": "text",
    "id": "0k5WKi6jxjyC"
   },
   "source": [
    "print"
   ]
  },
  {
   "cell_type": "markdown",
   "metadata": {
    "colab_type": "text",
    "id": "XsmA9PYHxjyC"
   },
   "source": [
    "### 4. 셀을 삭제하는 단축키는?"
   ]
  },
  {
   "cell_type": "markdown",
   "metadata": {
    "colab_type": "text",
    "id": "rpVpheMpxjyD"
   },
   "source": [
    "(명령모드), x"
   ]
  },
  {
   "cell_type": "markdown",
   "metadata": {
    "colab_type": "text",
    "id": "LYiGIAbkxjyD"
   },
   "source": [
    "### 5. 변수 data1 에는 jupyter, 변수 data2 에는 notebook으로 변수를 선언하고 출력하세요."
   ]
  },
  {
   "cell_type": "code",
   "execution_count": 0,
   "metadata": {
    "colab": {},
    "colab_type": "code",
    "id": "T-b5qugPxjyE",
    "outputId": "52141ca3-1158-43a7-cde8-4d7c63f8586a"
   },
   "outputs": [
    {
     "name": "stdout",
     "output_type": "stream",
     "text": [
      "jupyter notebook\n"
     ]
    }
   ],
   "source": [
    "data1, data2 = \"jupyter\", \"notebook\"\n",
    "print(data1, data2)"
   ]
  }
 ],
 "metadata": {
  "colab": {
   "collapsed_sections": [],
   "name": "day2_예제_답안.ipynb",
   "provenance": [],
   "version": "0.3.2"
  },
  "kernelspec": {
   "display_name": "Python 3",
   "language": "python",
   "name": "python3"
  },
  "language_info": {
   "codemirror_mode": {
    "name": "ipython",
    "version": 3
   },
   "file_extension": ".py",
   "mimetype": "text/x-python",
   "name": "python",
   "nbconvert_exporter": "python",
   "pygments_lexer": "ipython3",
   "version": "3.7.3"
  }
 },
 "nbformat": 4,
 "nbformat_minor": 0
}
