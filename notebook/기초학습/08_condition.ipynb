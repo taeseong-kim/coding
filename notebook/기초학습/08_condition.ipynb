{
 "cells": [
  {
   "cell_type": "markdown",
   "metadata": {},
   "source": [
    "### 조건문\n",
    "- if\n",
    "- else\n",
    "- elif\n",
    "- 삼항연산자"
   ]
  },
  {
   "cell_type": "markdown",
   "metadata": {},
   "source": [
    "#### 1. if\n",
    "- 조건에 따라서 코드를 실행시키고 싶을 때 사용\n",
    "- condition이 True 이면 code_1이 실행\n",
    "```\n",
    "if <condition>:\n",
    "    <code_1>\n",
    "```"
   ]
  },
  {
   "cell_type": "code",
   "execution_count": 2,
   "metadata": {},
   "outputs": [
    {
     "name": "stdout",
     "output_type": "stream",
     "text": [
      "if\n"
     ]
    }
   ],
   "source": [
    "state = True\n",
    "if state:\n",
    "    print(\"if\")  #Tab,Space Bar x 4"
   ]
  },
  {
   "cell_type": "code",
   "execution_count": 3,
   "metadata": {},
   "outputs": [
    {
     "name": "stdout",
     "output_type": "stream",
     "text": [
      "done\n"
     ]
    }
   ],
   "source": [
    "state = False\n",
    "if state:\n",
    "    print(\"if\")\n",
    "print(\"done\")"
   ]
  },
  {
   "cell_type": "code",
   "execution_count": 7,
   "metadata": {},
   "outputs": [
    {
     "name": "stdout",
     "output_type": "stream",
     "text": [
      "수박을 산다\n"
     ]
    }
   ],
   "source": [
    "money = 20000\n",
    "if money >= 20000:\n",
    "    print(\"수박을 산다\")\n",
    "if money < 20000:\n",
    "    print(\"수박을 못산다\")\n",
    "    \n",
    "#하나씩만 할 수 있음"
   ]
  },
  {
   "cell_type": "markdown",
   "metadata": {},
   "source": [
    "#### 2. else\n",
    "- condition이 False이면 code_2가 실행됩니다.\n",
    "```\n",
    "if <condition>:\n",
    "    <code_1>\n",
    "else:\n",
    "    <code_2>\n",
    "```"
   ]
  },
  {
   "cell_type": "code",
   "execution_count": 6,
   "metadata": {},
   "outputs": [
    {
     "name": "stdout",
     "output_type": "stream",
     "text": [
      "else\n"
     ]
    }
   ],
   "source": [
    "state = False\n",
    "if state:\n",
    "    print(\"if\")\n",
    "else:\n",
    "    print(\"else\")"
   ]
  },
  {
   "cell_type": "code",
   "execution_count": 9,
   "metadata": {},
   "outputs": [
    {
     "name": "stdout",
     "output_type": "stream",
     "text": [
      "수박을 못산다\n"
     ]
    }
   ],
   "source": [
    "money = 10000\n",
    "if money >= 20000:\n",
    "    print(\"수박을 산다\")\n",
    "else:\n",
    "    print(\"수박을 못산다\")"
   ]
  },
  {
   "cell_type": "markdown",
   "metadata": {},
   "source": [
    "#### 3. elif\n",
    "- 조건이 여러개로 구분해서 코드를 실행할 때 사용\n",
    "- condition_1이 True이면 code_1이 실행, condition_2가 True이면 code_2이 실행\n",
    "- condition_1과 condition_2가 둘다 False이면 code_3이 실행\n",
    "```\n",
    "if <condition_1>:\n",
    "    <code_1>\n",
    "elif <condition_2>:\n",
    "    <code_2>\n",
    "else:\n",
    "    <code_3>\n",
    "```"
   ]
  },
  {
   "cell_type": "code",
   "execution_count": 12,
   "metadata": {},
   "outputs": [
    {
     "name": "stdout",
     "output_type": "stream",
     "text": [
      "a == b\n"
     ]
    }
   ],
   "source": [
    "a, b = 30, 30\n",
    "\n",
    "if a < b:\n",
    "    print(\"a < b\")\n",
    "elif a == b:\n",
    "    print(\"a == b\")\n",
    "else:\n",
    "    print(\"a > b\")"
   ]
  },
  {
   "cell_type": "code",
   "execution_count": 14,
   "metadata": {},
   "outputs": [
    {
     "name": "stdout",
     "output_type": "stream",
     "text": [
      "a == b\n"
     ]
    }
   ],
   "source": [
    "a, b = 30, 30\n",
    "\n",
    "if a < b:\n",
    "    print(\"a < b\")\n",
    "if a == b:\n",
    "    print(\"a == b\")\n",
    "if a > b:\n",
    "    print(\"a > b\")\n",
    "\n",
    "# 모든 문항을 다 비교해봄. 속도 낮음"
   ]
  },
  {
   "cell_type": "markdown",
   "metadata": {},
   "source": [
    "#### Quiz 1\n",
    "- 숫자를 입력받아서 짝수이면 even, 홀수이면 odd를 출력하는 코드를 작성하세요.\n",
    "```\n",
    "insert number : 13\n",
    "odd\n",
    "```"
   ]
  },
  {
   "cell_type": "code",
   "execution_count": 17,
   "metadata": {},
   "outputs": [
    {
     "name": "stdout",
     "output_type": "stream",
     "text": [
      "insert number: 13\n",
      "odd\n"
     ]
    }
   ],
   "source": [
    "data = int(input(\"insert number: \"))\n",
    "if data % 2 == 0:\n",
    "    print(\"even\")\n",
    "else:\n",
    "    print(\"odd\")"
   ]
  },
  {
   "cell_type": "code",
   "execution_count": 18,
   "metadata": {},
   "outputs": [
    {
     "name": "stdout",
     "output_type": "stream",
     "text": [
      "insert number: 20\n",
      "even\n"
     ]
    }
   ],
   "source": [
    "data = int(input(\"insert number: \"))\n",
    "if not data % 2:    # 짝수면 0- False\n",
    "    print(\"even\")\n",
    "else:\n",
    "    print(\"odd\")"
   ]
  },
  {
   "cell_type": "markdown",
   "metadata": {},
   "source": [
    "#### Quiz 2\n",
    "- 점수를 입력 받아서 학점을 출력하는 코드를 작성하세요\n",
    "- 90 ~ 100 : A\n",
    "- 80 ~  89 : B\n",
    "- 70 ~  79 : C\n",
    "- 60 ~  69 : D\n",
    "- 0  ~  59 : F\n",
    "```\n",
    "insert point : 87\n",
    "B\n",
    "```"
   ]
  },
  {
   "cell_type": "code",
   "execution_count": 21,
   "metadata": {},
   "outputs": [
    {
     "name": "stdout",
     "output_type": "stream",
     "text": [
      "insert point: 90\n",
      "A\n"
     ]
    }
   ],
   "source": [
    "point = int(input(\"insert point: \"))\n",
    "if point >= 90:\n",
    "    print(\"A\")\n",
    "elif point >= 80:\n",
    "    print(\"B\")\n",
    "elif point >= 70:\n",
    "    print(\"C\")\n",
    "elif point >= 60:\n",
    "    print(\"D\")\n",
    "else:\n",
    "    print(\"F\")"
   ]
  },
  {
   "cell_type": "markdown",
   "metadata": {},
   "source": [
    "#### Quiz 3\n",
    "- 숫자를 입력받아서 3의 배수이면 fizz를 출력, 5의 배수이면 buzz를 출력합니다.\n",
    "- 3과 5의 배수이면 fizzbuzz를 출력하는 코드를 작성하세요.\n",
    "- 3과 5의 배수가 둘 다 아니면 입력한 숫자를 그대로 출력\n",
    "\n",
    "```\n",
    "insert number : 15\n",
    "fizzbuzz\n",
    "\n",
    "insert number : 11\n",
    "11\n",
    "\n",
    "insert number : 9\n",
    "fizz\n",
    "```"
   ]
  },
  {
   "cell_type": "code",
   "execution_count": 4,
   "metadata": {},
   "outputs": [
    {
     "name": "stdout",
     "output_type": "stream",
     "text": [
      "insert number : 17\n",
      "17\n"
     ]
    }
   ],
   "source": [
    "number = int(input(\"insert number : \"))\n",
    "if number % 3 == 0 and number % 5 != 0:\n",
    "    print(\"fizz\")\n",
    "elif number % 3 != 0 and number % 5 == 0:\n",
    "    print(\"buzz\")\n",
    "elif number % 3 == 0 and number % 5 == 0:\n",
    "    print(\"fizzbuzz\")\n",
    "else:\n",
    "    print(number)"
   ]
  },
  {
   "cell_type": "code",
   "execution_count": 5,
   "metadata": {},
   "outputs": [
    {
     "name": "stdout",
     "output_type": "stream",
     "text": [
      "insert number : 15\n",
      "fizzbuzz\n"
     ]
    }
   ],
   "source": [
    "number = int(input(\"insert number : \"))\n",
    "if number % 15 == 0:\n",
    "    print(\"fizzbuzz\")\n",
    "elif number % 3 == 0:\n",
    "    print(\"fizz\")\n",
    "elif number % 5 == 0:\n",
    "    print(\"buzz\")\n",
    "else:\n",
    "    print(number)"
   ]
  },
  {
   "cell_type": "code",
   "execution_count": 7,
   "metadata": {},
   "outputs": [
    {
     "name": "stdout",
     "output_type": "stream",
     "text": [
      "insert number : 11\n",
      "11\n"
     ]
    }
   ],
   "source": [
    "number = int(input(\"insert number : \"))\n",
    "\n",
    "if number % 3 == 0:\n",
    "    print(\"fizz\", end=\"\")\n",
    "if number % 5 == 0:\n",
    "    print(\"buzz\")\n",
    "if not ((number % 3 == 0) or (number % 5 == 0)):\n",
    "    print(number)"
   ]
  },
  {
   "cell_type": "markdown",
   "metadata": {},
   "source": [
    "#### Quiz 4\n",
    "- 최초 계좌에 10000원이 들어있습니다. (account = 10000)\n",
    "- 인출금액을 입력\n",
    "- 인출이 가능하면 True와 인출 후 잔액을 출력\n",
    "- 인출이 불가능하면 False와 인출을 위해서 얼마가 부족한지를 출력\n",
    "- 인출은 여러번 가능\n",
    "\n",
    "```\n",
    "account = 10000\n",
    "\n",
    "# 첫번째 인출\n",
    "인출한 금액을 입력하세요 : 7000\n",
    "True 잔액이 3000원 남았습니다.\n",
    "\n",
    "# 두번째 인출\n",
    "인출한 금액을 입력하세요 : 5000\n",
    "False 인출금액이 2000원 부족합니다.\n",
    "```"
   ]
  },
  {
   "cell_type": "code",
   "execution_count": 3,
   "metadata": {},
   "outputs": [],
   "source": [
    "account = 10000"
   ]
  },
  {
   "cell_type": "code",
   "execution_count": 5,
   "metadata": {},
   "outputs": [
    {
     "name": "stdout",
     "output_type": "stream",
     "text": [
      "인출할 금액을 입력하세요 : 3000\n",
      "True 잔액이 7000원 남았습니다.\n"
     ]
    }
   ],
   "source": [
    "withdraw = int(input(\"인출할 금액을 입력하세요 : \"))\n",
    "\n",
    "if withdraw <= account:\n",
    "    account -= withdraw\n",
    "    print(True, \"잔액이 {}원 남았습니다.\".format(account))\n",
    "else:\n",
    "    print(False, \"인출금액이 {}원 부족합니다.\".format(withdraw-account))"
   ]
  },
  {
   "cell_type": "code",
   "execution_count": 6,
   "metadata": {},
   "outputs": [
    {
     "name": "stdout",
     "output_type": "stream",
     "text": [
      "인출할 금액을 입력하세요 : 10000\n",
      "False 인출금액이 3000원 부족합니다.\n"
     ]
    }
   ],
   "source": [
    "withdraw = int(input(\"인출할 금액을 입력하세요 : \"))\n",
    "\n",
    "if withdraw <= account:\n",
    "    account -= withdraw\n",
    "    print(True, \"잔액이 {}원 남았습니다.\".format(account))\n",
    "else:\n",
    "    print(False, \"인출금액이 {}원 부족합니다.\".format(withdraw-account))"
   ]
  },
  {
   "cell_type": "markdown",
   "metadata": {},
   "source": [
    "#### 4. 삼항연산\n",
    "- 조건이 True이면 A가 출력, False이면 B가 출력\n",
    "```\n",
    "A if (조건) else B\n",
    "```"
   ]
  },
  {
   "cell_type": "code",
   "execution_count": 8,
   "metadata": {},
   "outputs": [
    {
     "name": "stdout",
     "output_type": "stream",
     "text": [
      "2\n"
     ]
    }
   ],
   "source": [
    "data = 0\n",
    "if data:\n",
    "    print(1)\n",
    "else:\n",
    "    print(2)"
   ]
  },
  {
   "cell_type": "code",
   "execution_count": 9,
   "metadata": {},
   "outputs": [
    {
     "data": {
      "text/plain": [
       "1"
      ]
     },
     "execution_count": 9,
     "metadata": {},
     "output_type": "execute_result"
    }
   ],
   "source": [
    "data = 10\n",
    "1 if data else 2"
   ]
  },
  {
   "cell_type": "code",
   "execution_count": 10,
   "metadata": {},
   "outputs": [
    {
     "name": "stdout",
     "output_type": "stream",
     "text": [
      "female\n"
     ]
    }
   ],
   "source": [
    "# 1:male, 2:female\n",
    "data = 2\n",
    "result = \"male\" if data == 1 else \"female\"\n",
    "print(result)"
   ]
  },
  {
   "cell_type": "markdown",
   "metadata": {},
   "source": [
    "#### Quiz 5\n",
    "- 삼항연산을 이용하여 값을 입력받아서 짝수이면 even, 홀수이면 odd를 출력하는 코드를 작성하세요.\n",
    "```\n",
    "insert number : 17\n",
    "odd\n",
    "```"
   ]
  },
  {
   "cell_type": "code",
   "execution_count": 15,
   "metadata": {},
   "outputs": [
    {
     "name": "stdout",
     "output_type": "stream",
     "text": [
      "insert number : 20\n",
      "even\n"
     ]
    }
   ],
   "source": [
    "number = int(input(\"insert number : \"))\n",
    "result = \"even\" if number % 2 ==0 else \"odd\"\n",
    "print(result)"
   ]
  },
  {
   "cell_type": "code",
   "execution_count": null,
   "metadata": {},
   "outputs": [],
   "source": []
  }
 ],
 "metadata": {
  "kernelspec": {
   "display_name": "Python 3",
   "language": "python",
   "name": "python3"
  },
  "language_info": {
   "codemirror_mode": {
    "name": "ipython",
    "version": 3
   },
   "file_extension": ".py",
   "mimetype": "text/x-python",
   "name": "python",
   "nbconvert_exporter": "python",
   "pygments_lexer": "ipython3",
   "version": "3.8.3"
  }
 },
 "nbformat": 4,
 "nbformat_minor": 4
}
