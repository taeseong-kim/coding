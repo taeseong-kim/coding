{
 "cells": [
  {
   "cell_type": "markdown",
   "metadata": {},
   "source": [
    "### 입력과 출력"
   ]
  },
  {
   "cell_type": "code",
   "execution_count": 2,
   "metadata": {},
   "outputs": [
    {
     "name": "stdout",
     "output_type": "stream",
     "text": [
      "insert string : python\n",
      "<class 'str'> python\n"
     ]
    }
   ],
   "source": [
    "# 입력\n",
    "value = input(\"insert string : \")\n",
    "print(type(value), value)"
   ]
  },
  {
   "cell_type": "code",
   "execution_count": 4,
   "metadata": {},
   "outputs": [
    {
     "name": "stdout",
     "output_type": "stream",
     "text": [
      "insert integer : 1234\n",
      "<class 'int'> 1234\n"
     ]
    }
   ],
   "source": [
    "# 숫자 입력\n",
    "value = input(\"insert integer : \")\n",
    "value = int(value)\n",
    "print(type(value),value)"
   ]
  },
  {
   "cell_type": "code",
   "execution_count": 5,
   "metadata": {
    "scrolled": true
   },
   "outputs": [
    {
     "name": "stdout",
     "output_type": "stream",
     "text": [
      "insert integer : 12345\n",
      "<class 'int'> 12345\n"
     ]
    }
   ],
   "source": [
    "value = int(input(\"insert integer : \"))\n",
    "print(type(value),value)"
   ]
  },
  {
   "cell_type": "code",
   "execution_count": 6,
   "metadata": {},
   "outputs": [
    {
     "name": "stdout",
     "output_type": "stream",
     "text": [
      "12345\n"
     ]
    }
   ],
   "source": [
    "# 출력\n",
    "print(value)"
   ]
  },
  {
   "cell_type": "code",
   "execution_count": 8,
   "metadata": {},
   "outputs": [
    {
     "name": "stdout",
     "output_type": "stream",
     "text": [
      "fast-campus\n"
     ]
    }
   ],
   "source": [
    "print(\"fast\", \"campus\", sep=\"-\")\n",
    "\n",
    "#함수 사용법 확인 - 함수 끝자리에 커서 놓고, shift + Tab"
   ]
  },
  {
   "cell_type": "code",
   "execution_count": 13,
   "metadata": {},
   "outputs": [
    {
     "name": "stdout",
     "output_type": "stream",
     "text": [
      "fast\tcampus\n"
     ]
    }
   ],
   "source": [
    "print(\"fast\", end=\"\\t\")\n",
    "print(\"campus\")"
   ]
  },
  {
   "cell_type": "code",
   "execution_count": 15,
   "metadata": {},
   "outputs": [
    {
     "data": {
      "text/plain": [
       "(1234, 'fast')"
      ]
     },
     "execution_count": 15,
     "metadata": {},
     "output_type": "execute_result"
    }
   ],
   "source": [
    "# string format\n",
    "a, b = 1234, \"fast\"\n",
    "a, b"
   ]
  },
  {
   "cell_type": "code",
   "execution_count": 19,
   "metadata": {},
   "outputs": [
    {
     "name": "stdout",
     "output_type": "stream",
     "text": [
      "data1:1234 data2:fast\n"
     ]
    }
   ],
   "source": [
    "# data:1234 data2:fast\n",
    "result = \"data1:\" + str(a) + \" data2:\" + b\n",
    "print(result)"
   ]
  },
  {
   "cell_type": "code",
   "execution_count": 20,
   "metadata": {},
   "outputs": [
    {
     "name": "stdout",
     "output_type": "stream",
     "text": [
      "data1:1234 data2:fast\n"
     ]
    }
   ],
   "source": [
    "result = \"data1:{} data2:{}\".format(a, b)\n",
    "print(result)"
   ]
  },
  {
   "cell_type": "markdown",
   "metadata": {},
   "source": [
    "### quiz 1\n",
    "- 두개의 정수 값을 입력받아서 두 정수 값을 더해서 결과로 출력하는 코드를 작성하세요.\n",
    "\n",
    "```\n",
    "insert number1 : 10\n",
    "insert number2 : 7\n",
    "    \n",
    "number1:10, number2:7, number1+number2=17\n",
    "```"
   ]
  },
  {
   "cell_type": "code",
   "execution_count": 27,
   "metadata": {},
   "outputs": [
    {
     "name": "stdout",
     "output_type": "stream",
     "text": [
      "insert number1: 10\n",
      "insert number2: 7\n",
      "number1:10, number2:7, number1+number2:17\n"
     ]
    }
   ],
   "source": [
    "number1 = int(input(\"insert number1: \"))\n",
    "number2 = int(input(\"insert number2: \"))\n",
    "print(\"number1:{}, number2:{}, number1+number2:{}\".format(number1, number2, number1+number2))"
   ]
  }
 ],
 "metadata": {
  "kernelspec": {
   "display_name": "Python 3",
   "language": "python",
   "name": "python3"
  },
  "language_info": {
   "codemirror_mode": {
    "name": "ipython",
    "version": 3
   },
   "file_extension": ".py",
   "mimetype": "text/x-python",
   "name": "python",
   "nbconvert_exporter": "python",
   "pygments_lexer": "ipython3",
   "version": "3.8.3"
  }
 },
 "nbformat": 4,
 "nbformat_minor": 4
}
