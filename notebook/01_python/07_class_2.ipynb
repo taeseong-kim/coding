{
 "cells": [
  {
   "cell_type": "markdown",
   "metadata": {},
   "source": [
    "### summary\n",
    "- function\n",
    "    - docsting\n",
    "    - scope : 전역, 지역 : global\n",
    "    - innerfunction : 함수 안에 함수를 선언\n",
    "    - lambda function : 간략한 함수를 한 줄의 코드로 작성\n",
    "    - decorlator : 특정 기능을 데코레이터 함수로 만들어 함수에 특정 기능을 적용하는 방법\n",
    "- class\n",
    "    - 변수와 함수들이 모여있는 집합\n",
    "    - 기본 클래스 사용법\n",
    "        - 클래스 선언 -> 객체로 만듦 -> 객체에 함수를 호출\n",
    "    - 생성자함수\n",
    "        - 클래스가 객체로 만들어질 때 객체에 선언되는 변수를 설정하는 방법\n",
    "            - 재료가 없으면 객체로 만들어질 수 없게끔 제한하는 방법"
   ]
  },
  {
   "cell_type": "code",
   "execution_count": 23,
   "metadata": {},
   "outputs": [],
   "source": [
    "user_datas = [\n",
    "    {\"user\":\"test\",\"pw\":\"1234\",\"count\":0},\n",
    "    {\"user\":\"python\",\"pw\":\"5678\",\"count\":0},\n",
    "]"
   ]
  },
  {
   "cell_type": "code",
   "execution_count": 16,
   "metadata": {},
   "outputs": [
    {
     "ename": "AttributeError",
     "evalue": "'list' object has no attribute 'values'",
     "output_type": "error",
     "traceback": [
      "\u001b[1;31m---------------------------------------------------------------------------\u001b[0m",
      "\u001b[1;31mAttributeError\u001b[0m                            Traceback (most recent call last)",
      "\u001b[1;32m<ipython-input-16-10507fdae761>\u001b[0m in \u001b[0;36m<module>\u001b[1;34m\u001b[0m\n\u001b[1;32m----> 1\u001b[1;33m \u001b[0mdict\u001b[0m\u001b[1;33m(\u001b[0m\u001b[0muser_datas\u001b[0m\u001b[1;33m.\u001b[0m\u001b[0mvalues\u001b[0m\u001b[1;33m(\u001b[0m\u001b[1;33m)\u001b[0m\u001b[1;33m)\u001b[0m\u001b[1;33m\u001b[0m\u001b[1;33m\u001b[0m\u001b[0m\n\u001b[0m",
      "\u001b[1;31mAttributeError\u001b[0m: 'list' object has no attribute 'values'"
     ]
    }
   ],
   "source": [
    "dict(user_datas.values())"
   ]
  },
  {
   "cell_type": "code",
   "execution_count": 24,
   "metadata": {},
   "outputs": [],
   "source": [
    "# user data 를 입력 받아서 아이디와 패스워드를 체크하는 데코레이터 함수를 코드로 작성하세요.\n",
    "# 로그인 될 때마다 count를 1씩 증가"
   ]
  },
  {
   "cell_type": "code",
   "execution_count": 10,
   "metadata": {},
   "outputs": [],
   "source": [
    "@check\n",
    "def plus(num1, num2):\n",
    "    return num1 + num2x"
   ]
  },
  {
   "cell_type": "code",
   "execution_count": 11,
   "metadata": {},
   "outputs": [
    {
     "name": "stdout",
     "output_type": "stream",
     "text": [
      "insert id : test\n",
      "not id allow\n"
     ]
    },
    {
     "data": {
      "text/plain": [
       "3"
      ]
     },
     "execution_count": 11,
     "metadata": {},
     "output_type": "execute_result"
    }
   ],
   "source": [
    "plus(1, 2)"
   ]
  },
  {
   "cell_type": "code",
   "execution_count": 17,
   "metadata": {},
   "outputs": [
    {
     "name": "stdout",
     "output_type": "stream",
     "text": [
      "Once deleted, variables cannot be recovered. Proceed (y/[n])? y\n"
     ]
    }
   ],
   "source": [
    "%reset"
   ]
  },
  {
   "cell_type": "code",
   "execution_count": 18,
   "metadata": {},
   "outputs": [
    {
     "name": "stdout",
     "output_type": "stream",
     "text": [
      "Interactive namespace is empty.\n"
     ]
    }
   ],
   "source": [
    "%whos"
   ]
  },
  {
   "cell_type": "code",
   "execution_count": 36,
   "metadata": {},
   "outputs": [],
   "source": [
    "def check(func):\n",
    "    def wrapper(*args, **kwargs):\n",
    "        # 아이디 패스워드 입력\n",
    "        user, pw = tuple(input(\"inser user pw : \").split(\" \"))\n",
    "        \n",
    "        # 존재하는 아이디, 패스워드인지 확인\n",
    "        #for idx, user_data in zip(range(len(user_datas)),user_datas):\n",
    "        for idx, user_data in enumerate(user_datas):\n",
    "            \n",
    "            if (user_data[\"user\"] == user) and (user_data[\"pw\"] == pw):\n",
    "                # count 데이터 추가\n",
    "                user_datas[idx][\"count\"] += 1\n",
    "                \n",
    "                #함수 실행\n",
    "                return func(*args, **kwargs)\n",
    "        \n",
    "        return \"wrong login data!\"\n",
    "    return wrapper"
   ]
  },
  {
   "cell_type": "code",
   "execution_count": 9,
   "metadata": {},
   "outputs": [],
   "source": [
    "# 입력받음\n",
    "data = user_datas.copy()\n",
    "data = \n",
    "\n",
    "def check(func):\n",
    "    def wrapper(*args, **kwargs):\n",
    "        user_id = input(\"insert id : \")\n",
    "        if user_id in user_datas:\n",
    "            user_pw = input(\"insert pw : \")\n",
    "            if user_pw in user_datas.values():\n",
    "                count += 1\n",
    "            else:\n",
    "                print(\"not pw allow\")\n",
    "        else:\n",
    "            print(\"not id allow\")\n",
    "        result = func(*args, **kwargs)\n",
    "        return result\n",
    "    return wrapper\n",
    "# 체크함\n",
    "# 있으면 count +1"
   ]
  },
  {
   "cell_type": "code",
   "execution_count": 37,
   "metadata": {},
   "outputs": [],
   "source": [
    "@check\n",
    "def plus(a, b):\n",
    "    return a + b"
   ]
  },
  {
   "cell_type": "code",
   "execution_count": 38,
   "metadata": {},
   "outputs": [
    {
     "name": "stdout",
     "output_type": "stream",
     "text": [
      "inser user pw : test 1234\n"
     ]
    },
    {
     "data": {
      "text/plain": [
       "3"
      ]
     },
     "execution_count": 38,
     "metadata": {},
     "output_type": "execute_result"
    }
   ],
   "source": [
    "plus(1, 2)"
   ]
  },
  {
   "cell_type": "code",
   "execution_count": 39,
   "metadata": {},
   "outputs": [
    {
     "data": {
      "text/plain": [
       "[{'user': 'test', 'pw': '1234', 'count': 2},\n",
       " {'user': 'python', 'pw': '5678', 'count': 0}]"
      ]
     },
     "execution_count": 39,
     "metadata": {},
     "output_type": "execute_result"
    }
   ],
   "source": [
    "user_datas"
   ]
  },
  {
   "cell_type": "code",
   "execution_count": null,
   "metadata": {},
   "outputs": [],
   "source": [
    "# 스타크래프트의 마린을 클래스로 설계\n",
    "# 체력(health : 40), 공격력(attack_pow : 5), 공격(attack())\n",
    "# 마린 클래스로 마린 객체 2개를 생성해서 마린 1이 마린 2를 공격하는 코드를 작성\n",
    "# attack(self, unit)\n",
    "# 체력이 0인 경우 \"사망\"을 출력하고 체력이 (-)가 되지 않도록 코드를 작성\n",
    "\n",
    "# 메딕 만들기 (heal_pow : 6), heal()"
   ]
  },
  {
   "cell_type": "code",
   "execution_count": 99,
   "metadata": {},
   "outputs": [],
   "source": [
    "class Marine:\n",
    "    def __init__(self, health=40, attack_pow=5): # 객체 생성할 때 바꿀 수 있음\n",
    "        self.health = health\n",
    "        self.attack_pow = attack_pow\n",
    "    \n",
    "    def attack(self, unit):\n",
    "        unit.health -= self.attack_pow\n",
    "        \n",
    "        if unit.health <= 0:\n",
    "            unit.health = 0\n",
    "            print(\"사망\")\n",
    "        "
   ]
  },
  {
   "cell_type": "code",
   "execution_count": 108,
   "metadata": {},
   "outputs": [],
   "source": [
    "marine_1 = Marine()"
   ]
  },
  {
   "cell_type": "code",
   "execution_count": 109,
   "metadata": {},
   "outputs": [],
   "source": [
    "marine_2 = Marine()"
   ]
  },
  {
   "cell_type": "code",
   "execution_count": 110,
   "metadata": {},
   "outputs": [],
   "source": [
    "marine_1.attack(marine_2)"
   ]
  },
  {
   "cell_type": "code",
   "execution_count": 111,
   "metadata": {},
   "outputs": [
    {
     "data": {
      "text/plain": [
       "(40, 35)"
      ]
     },
     "execution_count": 111,
     "metadata": {},
     "output_type": "execute_result"
    }
   ],
   "source": [
    "marine_1.health, marine_2.health # 40, 35"
   ]
  },
  {
   "cell_type": "code",
   "execution_count": 78,
   "metadata": {},
   "outputs": [],
   "source": [
    "# 메딕 : heal_pow, heal(unit)\n",
    "class Medic:\n",
    "    \n",
    "    def __init__(self, health=40, heal_pow=6):\n",
    "        self.health = health\n",
    "        self.heal_pow = heal_pow\n",
    "        \n",
    "    def heal(self, unit):\n",
    "        if unit.health > 0:\n",
    "            unit.health += self.heal_pow\n",
    "            if unit.health >= 40:\n",
    "                unit.health = 40\n",
    "        else:\n",
    "            print(\"이미 사망\")"
   ]
  },
  {
   "cell_type": "code",
   "execution_count": 79,
   "metadata": {},
   "outputs": [],
   "source": [
    "medic = Medic()"
   ]
  },
  {
   "cell_type": "code",
   "execution_count": 96,
   "metadata": {},
   "outputs": [
    {
     "data": {
      "text/plain": [
       "0"
      ]
     },
     "execution_count": 96,
     "metadata": {},
     "output_type": "execute_result"
    }
   ],
   "source": [
    "marine_1.attack(marine_2)"
   ]
  },
  {
   "cell_type": "code",
   "execution_count": 89,
   "metadata": {},
   "outputs": [
    {
     "data": {
      "text/plain": [
       "(40, 35)"
      ]
     },
     "execution_count": 89,
     "metadata": {},
     "output_type": "execute_result"
    }
   ],
   "source": [
    "marine_1.health, marine_2.health"
   ]
  },
  {
   "cell_type": "code",
   "execution_count": 97,
   "metadata": {},
   "outputs": [
    {
     "name": "stdout",
     "output_type": "stream",
     "text": [
      "이미 사망\n"
     ]
    }
   ],
   "source": [
    "medic.heal(marine_2)"
   ]
  },
  {
   "cell_type": "code",
   "execution_count": 105,
   "metadata": {},
   "outputs": [],
   "source": [
    "marine_3 = Marine(attack_pow=25)"
   ]
  },
  {
   "cell_type": "code",
   "execution_count": 112,
   "metadata": {},
   "outputs": [],
   "source": [
    "marine_3.attack(marine_1)"
   ]
  },
  {
   "cell_type": "code",
   "execution_count": 113,
   "metadata": {},
   "outputs": [
    {
     "data": {
      "text/plain": [
       "15"
      ]
     },
     "execution_count": 113,
     "metadata": {},
     "output_type": "execute_result"
    }
   ],
   "source": [
    "marine_1.health"
   ]
  },
  {
   "cell_type": "markdown",
   "metadata": {},
   "source": [
    "### 1. 상속\n",
    "- 클래스의 기능을 가져다가 수정하거나 추가할 때 사용하는 방법"
   ]
  },
  {
   "cell_type": "code",
   "execution_count": 117,
   "metadata": {},
   "outputs": [],
   "source": [
    "class Calculator:\n",
    "    def __init__(self, num1, num2):\n",
    "        self.num1 = num1\n",
    "        self.num2 = num2\n",
    "        \n",
    "    def plus(self):\n",
    "        return self.num1 + self.num2"
   ]
  },
  {
   "cell_type": "code",
   "execution_count": 119,
   "metadata": {},
   "outputs": [
    {
     "data": {
      "text/plain": [
       "3"
      ]
     },
     "execution_count": 119,
     "metadata": {},
     "output_type": "execute_result"
    }
   ],
   "source": [
    "calc = Calculator(1, 2)\n",
    "calc.plus()"
   ]
  },
  {
   "cell_type": "code",
   "execution_count": null,
   "metadata": {},
   "outputs": [],
   "source": [
    "# minus  기능을 추가한 계산기"
   ]
  },
  {
   "cell_type": "code",
   "execution_count": 120,
   "metadata": {},
   "outputs": [],
   "source": [
    "class Calculator:\n",
    "    def __init__(self, num1, num2):\n",
    "        self.num1 = num1\n",
    "        self.num2 = num2\n",
    "        \n",
    "    def plus(self):\n",
    "        return self.num1 + self.num2\n",
    "    \n",
    "    def minus(self):\n",
    "        return self.num1 - self.num2"
   ]
  },
  {
   "cell_type": "code",
   "execution_count": 121,
   "metadata": {},
   "outputs": [],
   "source": [
    "calc2 = Calculator(1, 2)"
   ]
  },
  {
   "cell_type": "code",
   "execution_count": 122,
   "metadata": {},
   "outputs": [
    {
     "data": {
      "text/plain": [
       "(3, -1)"
      ]
     },
     "execution_count": 122,
     "metadata": {},
     "output_type": "execute_result"
    }
   ],
   "source": [
    "calc2.plus(), calc2.minus()"
   ]
  },
  {
   "cell_type": "code",
   "execution_count": 123,
   "metadata": {},
   "outputs": [],
   "source": [
    "# 상속을 사용하여 minus 함수 추가\n",
    "class Calculator3(Calculator):\n",
    "     def minus(self):\n",
    "        return self.num1 - self.num2"
   ]
  },
  {
   "cell_type": "code",
   "execution_count": 124,
   "metadata": {},
   "outputs": [],
   "source": [
    "calc3 = Calculator3(1, 2)"
   ]
  },
  {
   "cell_type": "code",
   "execution_count": 125,
   "metadata": {},
   "outputs": [
    {
     "data": {
      "text/plain": [
       "(3, -1)"
      ]
     },
     "execution_count": 125,
     "metadata": {},
     "output_type": "execute_result"
    }
   ],
   "source": [
    "calc3.plus(),calc3.minus()"
   ]
  },
  {
   "cell_type": "code",
   "execution_count": 126,
   "metadata": {},
   "outputs": [],
   "source": [
    "# 메서드 오버라이딩\n",
    "class Calculator4(Calculator3):\n",
    "     def plus(self):\n",
    "        return self.num1**2 + self.num2**2"
   ]
  },
  {
   "cell_type": "code",
   "execution_count": 127,
   "metadata": {},
   "outputs": [],
   "source": [
    "calc4 = Calculator4(1, 2)"
   ]
  },
  {
   "cell_type": "code",
   "execution_count": 128,
   "metadata": {},
   "outputs": [
    {
     "data": {
      "text/plain": [
       "5"
      ]
     },
     "execution_count": 128,
     "metadata": {},
     "output_type": "execute_result"
    }
   ],
   "source": [
    "calc4.plus()"
   ]
  },
  {
   "cell_type": "code",
   "execution_count": null,
   "metadata": {},
   "outputs": [],
   "source": [
    "# 아이폰 1, 2, 3\n",
    "# 아이폰 1 : calling : print(\"calling\")\n",
    "# 아이폰 2 : calling, send msg\n",
    "# 아이폰 3 : calling, send msg, internet"
   ]
  },
  {
   "cell_type": "code",
   "execution_count": 140,
   "metadata": {},
   "outputs": [],
   "source": [
    "class Iphone1:\n",
    "    def calling(self):\n",
    "        print(\"calling\")"
   ]
  },
  {
   "cell_type": "code",
   "execution_count": 141,
   "metadata": {},
   "outputs": [],
   "source": [
    "class Iphone2(iphone1):\n",
    "    def send_msg(self):\n",
    "        print(\"send_msg\")"
   ]
  },
  {
   "cell_type": "code",
   "execution_count": 142,
   "metadata": {},
   "outputs": [],
   "source": [
    "class Iphone3(iphone2):\n",
    "    def internet(self):\n",
    "        print(\"internet\")"
   ]
  },
  {
   "cell_type": "code",
   "execution_count": 143,
   "metadata": {},
   "outputs": [],
   "source": [
    "iphone3 = Iphone3()"
   ]
  },
  {
   "cell_type": "code",
   "execution_count": 144,
   "metadata": {},
   "outputs": [
    {
     "name": "stdout",
     "output_type": "stream",
     "text": [
      "calling\n",
      "send_msg\n",
      "internet\n"
     ]
    },
    {
     "data": {
      "text/plain": [
       "(None, None, None)"
      ]
     },
     "execution_count": 144,
     "metadata": {},
     "output_type": "execute_result"
    }
   ],
   "source": [
    "iphone3.calling(), iphone3.send_msg(), iphone3.internet()"
   ]
  },
  {
   "cell_type": "markdown",
   "metadata": {},
   "source": [
    "#### 다중 상속"
   ]
  },
  {
   "cell_type": "code",
   "execution_count": 145,
   "metadata": {},
   "outputs": [],
   "source": [
    "class Galaxy:\n",
    "    def show_img(self):\n",
    "        print(\"show_img\")"
   ]
  },
  {
   "cell_type": "code",
   "execution_count": 146,
   "metadata": {},
   "outputs": [],
   "source": [
    "class DssPhone(Iphone3, Galaxy):\n",
    "    def camera(self):\n",
    "        print(\"camera\")"
   ]
  },
  {
   "cell_type": "code",
   "execution_count": 147,
   "metadata": {},
   "outputs": [],
   "source": [
    "dss_phone = DssPhone()"
   ]
  },
  {
   "cell_type": "code",
   "execution_count": 150,
   "metadata": {},
   "outputs": [
    {
     "data": {
      "text/plain": [
       "['calling', 'camera', 'internet', 'send_msg', 'show_img']"
      ]
     },
     "execution_count": 150,
     "metadata": {},
     "output_type": "execute_result"
    }
   ],
   "source": [
    "[func for func in dir(dss_phone) if func[:2] != \"__\"]"
   ]
  },
  {
   "cell_type": "markdown",
   "metadata": {},
   "source": [
    "### 2. super\n",
    "- 부모 클래스에서 사용된 함수의 코드를 가져다가 자식 클래스의 함수에서 재사용할 때 사용\n",
    "\n",
    "```\n",
    "class A:\n",
    "    def plus(self):\n",
    "        code1\n",
    "        \n",
    "class B(A):\n",
    "    def minus(self):\n",
    "        code1 # super().plus()\n",
    "        code2\n",
    "```"
   ]
  },
  {
   "cell_type": "code",
   "execution_count": 152,
   "metadata": {},
   "outputs": [],
   "source": [
    "class Marine:\n",
    "    \n",
    "    def __init__(self):\n",
    "        self.health = 40\n",
    "        self.attack_pow = 5\n",
    "    \n",
    "    def attack(self, unit):\n",
    "        unit.health -= self.attack_pow\n",
    "        \n",
    "        if unit.health <= 0:\n",
    "            unit.health = 0"
   ]
  },
  {
   "cell_type": "code",
   "execution_count": 156,
   "metadata": {},
   "outputs": [],
   "source": [
    "class Marine2(Marine):\n",
    "    \n",
    "    def __init__(self):\n",
    "        #self.health = 40\n",
    "        #self.attack_pow = 5\n",
    "        super().__init__()\n",
    "        self.max_health = 40"
   ]
  },
  {
   "cell_type": "code",
   "execution_count": 157,
   "metadata": {},
   "outputs": [],
   "source": [
    "marine = Marine2()"
   ]
  },
  {
   "cell_type": "code",
   "execution_count": 159,
   "metadata": {},
   "outputs": [
    {
     "data": {
      "text/plain": [
       "(40, 5, 40)"
      ]
     },
     "execution_count": 159,
     "metadata": {},
     "output_type": "execute_result"
    }
   ],
   "source": [
    "marine.health, marine.attack_pow, marine.max_health"
   ]
  },
  {
   "cell_type": "markdown",
   "metadata": {},
   "source": [
    "### 3. class의 getter, setter\n",
    "- 객체의 내부 변수에 접근할 때 특정 로직을 거쳐서 접근시키는 방법"
   ]
  },
  {
   "cell_type": "code",
   "execution_count": 185,
   "metadata": {},
   "outputs": [],
   "source": [
    "class User:\n",
    "    \n",
    "    def __init__(self, first_name):\n",
    "        self.first_name = first_name\n",
    "        \n",
    "    def setter(self, first_name):\n",
    "        if len(first_name) >= 3:\n",
    "            self.first_name = first_name\n",
    "        else:\n",
    "            print(\"error\")\n",
    "            \n",
    "    def getter(self):\n",
    "        print(\"getter\")\n",
    "        return self.first_name.upper()\n",
    "    \n",
    "    name = property(getter, setter)"
   ]
  },
  {
   "cell_type": "code",
   "execution_count": 186,
   "metadata": {},
   "outputs": [],
   "source": [
    "user1 = User(\"andy\")"
   ]
  },
  {
   "cell_type": "code",
   "execution_count": 187,
   "metadata": {},
   "outputs": [
    {
     "data": {
      "text/plain": [
       "'andy'"
      ]
     },
     "execution_count": 187,
     "metadata": {},
     "output_type": "execute_result"
    }
   ],
   "source": [
    "user1.first_name"
   ]
  },
  {
   "cell_type": "code",
   "execution_count": 189,
   "metadata": {},
   "outputs": [],
   "source": [
    "# setter 함수 실행\n",
    "user1.name = \"john\""
   ]
  },
  {
   "cell_type": "code",
   "execution_count": 193,
   "metadata": {},
   "outputs": [
    {
     "data": {
      "text/plain": [
       "'john'"
      ]
     },
     "execution_count": 193,
     "metadata": {},
     "output_type": "execute_result"
    }
   ],
   "source": [
    "user1.first_name"
   ]
  },
  {
   "cell_type": "code",
   "execution_count": 191,
   "metadata": {},
   "outputs": [
    {
     "name": "stdout",
     "output_type": "stream",
     "text": [
      "getter\n"
     ]
    },
    {
     "data": {
      "text/plain": [
       "'JOHN'"
      ]
     },
     "execution_count": 191,
     "metadata": {},
     "output_type": "execute_result"
    }
   ],
   "source": [
    "# getter 함수 실행\n",
    "user1.name"
   ]
  },
  {
   "cell_type": "markdown",
   "metadata": {},
   "source": [
    "### 4. non public\n",
    "- mangling 이라는 방법으로 다이렉트로 객체의 변수에 접근하지 못하게 하는 방법"
   ]
  },
  {
   "cell_type": "code",
   "execution_count": 1,
   "metadata": {},
   "outputs": [],
   "source": [
    "class Calculator:\n",
    "    \n",
    "    def __init__(self, num1, num2):\n",
    "        self.num1 = num1\n",
    "        self.__num2 = num2\n",
    "        \n",
    "    def getter(self):\n",
    "        return self.__num2\n",
    "    \n",
    "    # num2에 0이 들어가지 않도록 함\n",
    "    def setter(self, num2):\n",
    "        num2 = 1 if num2 == 0 else num2\n",
    "        self.__num2 = num2\n",
    "   \n",
    "    def __disp(self):\n",
    "        prnit(self.num1, self.__num2)\n",
    "\n",
    "\n",
    "    def div(self):\n",
    "        self.__disp()\n",
    "        return self.num1 / self.__num2\n",
    "    \n",
    "    number2 = property(getter, setter)"
   ]
  },
  {
   "cell_type": "code",
   "execution_count": 2,
   "metadata": {},
   "outputs": [],
   "source": [
    "calc = Calculator(1, 2)"
   ]
  },
  {
   "cell_type": "code",
   "execution_count": 3,
   "metadata": {},
   "outputs": [
    {
     "data": {
      "text/plain": [
       "0.5"
      ]
     },
     "execution_count": 3,
     "metadata": {},
     "output_type": "execute_result"
    }
   ],
   "source": [
    "calc.div()"
   ]
  },
  {
   "cell_type": "code",
   "execution_count": 4,
   "metadata": {},
   "outputs": [
    {
     "data": {
      "text/plain": [
       "2"
      ]
     },
     "execution_count": 4,
     "metadata": {},
     "output_type": "execute_result"
    }
   ],
   "source": [
    "calc.number2"
   ]
  },
  {
   "cell_type": "code",
   "execution_count": 5,
   "metadata": {},
   "outputs": [],
   "source": [
    "calc.number2 = 0"
   ]
  },
  {
   "cell_type": "code",
   "execution_count": 9,
   "metadata": {},
   "outputs": [
    {
     "ename": "AttributeError",
     "evalue": "'Calculator' object has no attribute '__num2'",
     "output_type": "error",
     "traceback": [
      "\u001b[1;31m---------------------------------------------------------------------------\u001b[0m",
      "\u001b[1;31mAttributeError\u001b[0m                            Traceback (most recent call last)",
      "\u001b[1;32m<ipython-input-9-2a133f79b627>\u001b[0m in \u001b[0;36m<module>\u001b[1;34m\u001b[0m\n\u001b[1;32m----> 1\u001b[1;33m \u001b[0mcalc\u001b[0m\u001b[1;33m.\u001b[0m\u001b[0m__num2\u001b[0m \u001b[1;31m# calc._Calculator__num2\u001b[0m\u001b[1;33m\u001b[0m\u001b[1;33m\u001b[0m\u001b[0m\n\u001b[0m",
      "\u001b[1;31mAttributeError\u001b[0m: 'Calculator' object has no attribute '__num2'"
     ]
    }
   ],
   "source": [
    "calc.__num2 # calc._Calculator__num2"
   ]
  },
  {
   "cell_type": "markdown",
   "metadata": {},
   "source": [
    "### 5. is a & has a\n",
    "- 클래스를 설계하는 개념\n",
    "- A is a B\n",
    "    - A는 B이다. 상속을 이용해서 클래스를 만드는 방법\n",
    "- A has a B\n",
    "    - A는 B를 가진다. A가 B객체를 가지고 클래스를 만드는 방법"
   ]
  },
  {
   "cell_type": "code",
   "execution_count": 11,
   "metadata": {},
   "outputs": [],
   "source": [
    "# 사람 : 이름, 이메일, 정보출력()"
   ]
  },
  {
   "cell_type": "code",
   "execution_count": 12,
   "metadata": {},
   "outputs": [],
   "source": [
    "# is a\n",
    "class Person:\n",
    "    \n",
    "    def __init__(self, name, email):\n",
    "        self.name = name\n",
    "        self.email = email"
   ]
  },
  {
   "cell_type": "code",
   "execution_count": 13,
   "metadata": {},
   "outputs": [],
   "source": [
    "class Person2(Person):\n",
    "    def info(self):\n",
    "        print(self.name, self.email)"
   ]
  },
  {
   "cell_type": "code",
   "execution_count": 14,
   "metadata": {},
   "outputs": [],
   "source": [
    "p = Person2(\"andy\", \"andy@gmail.com\")"
   ]
  },
  {
   "cell_type": "code",
   "execution_count": 15,
   "metadata": {},
   "outputs": [
    {
     "name": "stdout",
     "output_type": "stream",
     "text": [
      "andy andy@gmail.com\n"
     ]
    }
   ],
   "source": [
    "p.info()"
   ]
  },
  {
   "cell_type": "code",
   "execution_count": 18,
   "metadata": {},
   "outputs": [],
   "source": [
    "# has a\n",
    "class Name:\n",
    "    def __init__(self, name):\n",
    "        self.name_str = name\n",
    "class Email:\n",
    "    def __init__(self, email):\n",
    "        self.email_str = email"
   ]
  },
  {
   "cell_type": "code",
   "execution_count": 21,
   "metadata": {},
   "outputs": [],
   "source": [
    "class Person:\n",
    "    def __init__(self, name_obj, email_obj):\n",
    "        self.name = name_obj\n",
    "        self.email = email_obj\n",
    "    def info(self):\n",
    "        print(name.name_str, email.email_str)"
   ]
  },
  {
   "cell_type": "code",
   "execution_count": 22,
   "metadata": {},
   "outputs": [],
   "source": [
    "name = Name(\"andy\")\n",
    "email = Email(\"andy@gamil.com\")\n",
    "p = Person(name, email)"
   ]
  },
  {
   "cell_type": "code",
   "execution_count": 23,
   "metadata": {},
   "outputs": [
    {
     "name": "stdout",
     "output_type": "stream",
     "text": [
      "andy andy@gamil.com\n"
     ]
    }
   ],
   "source": [
    "p.info()"
   ]
  },
  {
   "cell_type": "markdown",
   "metadata": {},
   "source": [
    "### Magic(special) Method\n",
    "- compare\n",
    "    - `__eq__` : ==\n",
    "    - `__ne__` : !=\n",
    "    - `__lt__` : <\n",
    "- calculate\n",
    "    - `__add__` : +\n",
    "    - `__sub__` : -\n",
    "- `__repr__` : 객체의 내용을 출력(개발자용)\n",
    "- `__str__` : 객체의 내용을 출력"
   ]
  },
  {
   "cell_type": "code",
   "execution_count": 25,
   "metadata": {},
   "outputs": [
    {
     "data": {
      "text/plain": [
       "True"
      ]
     },
     "execution_count": 25,
     "metadata": {},
     "output_type": "execute_result"
    }
   ],
   "source": [
    "\"test\" == \"test\""
   ]
  },
  {
   "cell_type": "code",
   "execution_count": 26,
   "metadata": {},
   "outputs": [
    {
     "data": {
      "text/plain": [
       "True"
      ]
     },
     "execution_count": 26,
     "metadata": {},
     "output_type": "execute_result"
    }
   ],
   "source": [
    "\"test\".__eq__(\"test\")"
   ]
  },
  {
   "cell_type": "code",
   "execution_count": 41,
   "metadata": {},
   "outputs": [],
   "source": [
    "class Txt:\n",
    "    def __init__(self, txt):\n",
    "        self.txt = txt\n",
    "        \n",
    "    def __eq__(self, txt_obj):   # 오버라이딩\n",
    "        return self.txt.lower() == txt_obj.txt.lower()\n",
    "    \n",
    "    def __repr__(self):\n",
    "        return \"Txt(txt={})\".format(self.txt)\n",
    "    \n",
    "    def __str__(self):\n",
    "        return self.txt"
   ]
  },
  {
   "cell_type": "code",
   "execution_count": 42,
   "metadata": {},
   "outputs": [],
   "source": [
    "t1 = Txt(\"python\")\n",
    "t2 = Txt(\"Python\")\n",
    "t3 = t1"
   ]
  },
  {
   "cell_type": "code",
   "execution_count": 29,
   "metadata": {},
   "outputs": [
    {
     "data": {
      "text/plain": [
       "(False, True, False)"
      ]
     },
     "execution_count": 29,
     "metadata": {},
     "output_type": "execute_result"
    }
   ],
   "source": [
    "t1 == t2, t1 == t3, t2 == t3 #주소값 비교"
   ]
  },
  {
   "cell_type": "code",
   "execution_count": 32,
   "metadata": {},
   "outputs": [
    {
     "data": {
      "text/plain": [
       "(True, True, True)"
      ]
     },
     "execution_count": 32,
     "metadata": {},
     "output_type": "execute_result"
    }
   ],
   "source": [
    "t1 == t2, t1 == t3, t2 == t3 #==을 재정의함"
   ]
  },
  {
   "cell_type": "code",
   "execution_count": 43,
   "metadata": {},
   "outputs": [
    {
     "data": {
      "text/plain": [
       "Txt(txt=python)"
      ]
     },
     "execution_count": 43,
     "metadata": {},
     "output_type": "execute_result"
    }
   ],
   "source": [
    "t1"
   ]
  },
  {
   "cell_type": "code",
   "execution_count": 44,
   "metadata": {},
   "outputs": [
    {
     "name": "stdout",
     "output_type": "stream",
     "text": [
      "python\n"
     ]
    }
   ],
   "source": [
    "print(t1)"
   ]
  },
  {
   "cell_type": "code",
   "execution_count": null,
   "metadata": {},
   "outputs": [],
   "source": []
  },
  {
   "cell_type": "code",
   "execution_count": null,
   "metadata": {},
   "outputs": [],
   "source": []
  }
 ],
 "metadata": {
  "kernelspec": {
   "display_name": "Python 3",
   "language": "python",
   "name": "python3"
  },
  "language_info": {
   "codemirror_mode": {
    "name": "ipython",
    "version": 3
   },
   "file_extension": ".py",
   "mimetype": "text/x-python",
   "name": "python",
   "nbconvert_exporter": "python",
   "pygments_lexer": "ipython3",
   "version": "3.8.3"
  }
 },
 "nbformat": 4,
 "nbformat_minor": 4
}
