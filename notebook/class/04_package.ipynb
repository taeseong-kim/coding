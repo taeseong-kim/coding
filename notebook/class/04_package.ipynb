{
 "cells": [
  {
   "cell_type": "markdown",
   "metadata": {},
   "source": [
    "#### 패키지\n",
    "- 패키지는 디렉토리와 모듈로 구성이 되어 있습니다.\n",
    "- 함수 < 클래스 < 모듈 < 패키지"
   ]
  },
  {
   "cell_type": "code",
   "execution_count": 1,
   "metadata": {},
   "outputs": [],
   "source": [
    "# 1. 디렉토리 만들기"
   ]
  },
  {
   "cell_type": "code",
   "execution_count": null,
   "metadata": {},
   "outputs": [],
   "source": [
    "!rm -rf mypack\n",
    "!mkdir mypack\n",
    "!mkdir mypack/mypack\n",
    "!mkdir mypack/mypack/mypack1\n",
    "!mkdir mypack/mypack/mypack2"
   ]
  },
  {
   "cell_type": "code",
   "execution_count": 5,
   "metadata": {},
   "outputs": [],
   "source": [
    "!mkdir -p mypack/mypack/mypack1\n",
    "!mkdir -p mypack/mypack/mypack2\n",
    "!touch mypack/setup.py"
   ]
  },
  {
   "cell_type": "code",
   "execution_count": null,
   "metadata": {},
   "outputs": [],
   "source": [
    "# ! : 쉘 명령어\n",
    "# % : 주피터 노트북의 스페셜 커멘트 : 한줄\n",
    "# %% : 셀"
   ]
  },
  {
   "cell_type": "code",
   "execution_count": null,
   "metadata": {},
   "outputs": [],
   "source": [
    "# $ brew install tree"
   ]
  },
  {
   "cell_type": "code",
   "execution_count": null,
   "metadata": {},
   "outputs": [],
   "source": [
    "#!tree /f"
   ]
  },
  {
   "cell_type": "code",
   "execution_count": 6,
   "metadata": {
    "scrolled": true
   },
   "outputs": [
    {
     "name": "stdout",
     "output_type": "stream",
     "text": [
      "\u001b[01;34mmypack\u001b[00m\r\n",
      "├── \u001b[01;34mmypack\u001b[00m\r\n",
      "│   ├── \u001b[01;34mmypack1\u001b[00m\r\n",
      "│   └── \u001b[01;34mmypack2\u001b[00m\r\n",
      "└── setup.py\r\n",
      "\r\n",
      "3 directories, 1 file\r\n"
     ]
    }
   ],
   "source": [
    "!tree mypack"
   ]
  },
  {
   "cell_type": "code",
   "execution_count": 8,
   "metadata": {},
   "outputs": [],
   "source": [
    "# 절대경로 : 최상위 경로에서 파일을 찾아가는 방법\n",
    "# /home/ubuntu/datas/world.sql\n",
    "\n",
    "# 상대경로 : 현재 위치에서 파일을 찾아가는 방법 : \"./\", \"../\"\n",
    "# 현재위치가 /home/ubunt 일때 ./datas/world.sql\n",
    "# 현재위치가 /home/ubunt/notebooks 일때 ../datas/world.sql\n",
    "\n",
    "# \"~/\" : 현재 로그인 되어 있는 계정의 최상위 디렉토리로 이동\n",
    "# 관리자계정(root), 사용자계정(ubuntu)"
   ]
  },
  {
   "cell_type": "code",
   "execution_count": 2,
   "metadata": {},
   "outputs": [],
   "source": [
    "# 2. __init__ 파일 추가 : 모든 디렉토리에 만들어 줍니다.(python 3.3 버전 이상에서는 X)"
   ]
  },
  {
   "cell_type": "code",
   "execution_count": 11,
   "metadata": {},
   "outputs": [
    {
     "name": "stdout",
     "output_type": "stream",
     "text": [
      "Writing mypack/mypack/__init__.py\n"
     ]
    }
   ],
   "source": [
    "%%writefile mypack/mypack/__init__.py\n",
    "\n"
   ]
  },
  {
   "cell_type": "code",
   "execution_count": 12,
   "metadata": {},
   "outputs": [
    {
     "name": "stdout",
     "output_type": "stream",
     "text": [
      "Writing mypack/mypack/mypack1/__init__.py\n"
     ]
    }
   ],
   "source": [
    "%%writefile mypack/mypack/mypack1/__init__.py\n",
    "\n"
   ]
  },
  {
   "cell_type": "code",
   "execution_count": 13,
   "metadata": {},
   "outputs": [
    {
     "name": "stdout",
     "output_type": "stream",
     "text": [
      "Writing mypack/mypack/mypack2/__init__.py\n"
     ]
    }
   ],
   "source": [
    "%%writefile mypack/mypack/mypack2/__init__.py\n",
    "\n"
   ]
  },
  {
   "cell_type": "code",
   "execution_count": 14,
   "metadata": {},
   "outputs": [
    {
     "name": "stdout",
     "output_type": "stream",
     "text": [
      "\u001b[01;34mmypack/\u001b[00m\r\n",
      "├── \u001b[01;34mmypack\u001b[00m\r\n",
      "│   ├── __init__.py\r\n",
      "│   ├── \u001b[01;34mmypack1\u001b[00m\r\n",
      "│   │   └── __init__.py\r\n",
      "│   └── \u001b[01;34mmypack2\u001b[00m\r\n",
      "│       └── __init__.py\r\n",
      "└── setup.py\r\n",
      "\r\n",
      "3 directories, 4 files\r\n"
     ]
    }
   ],
   "source": [
    "!tree mypack/"
   ]
  },
  {
   "cell_type": "code",
   "execution_count": null,
   "metadata": {},
   "outputs": [],
   "source": [
    "# 3. 모듈 파일 만들기"
   ]
  },
  {
   "cell_type": "code",
   "execution_count": 15,
   "metadata": {},
   "outputs": [
    {
     "name": "stdout",
     "output_type": "stream",
     "text": [
      "Writing mypack/mypack/mypack1/calc1.py\n"
     ]
    }
   ],
   "source": [
    "%%writefile mypack/mypack/mypack1/calc1.py\n",
    "\n",
    "def plus(num1, num2):\n",
    "    print(\"mypack1 calc1 plus\")\n",
    "    return num1 + num2"
   ]
  },
  {
   "cell_type": "code",
   "execution_count": 16,
   "metadata": {},
   "outputs": [
    {
     "name": "stdout",
     "output_type": "stream",
     "text": [
      "Writing mypack/mypack/mypack2/calc2.py\n"
     ]
    }
   ],
   "source": [
    "%%writefile mypack/mypack/mypack2/calc2.py\n",
    "\n",
    "def minus(num1, num2):\n",
    "    print(\"mypack2 calc2 minus\")\n",
    "    return num1 - num2"
   ]
  },
  {
   "cell_type": "code",
   "execution_count": 17,
   "metadata": {
    "scrolled": true
   },
   "outputs": [
    {
     "name": "stdout",
     "output_type": "stream",
     "text": [
      "\u001b[01;34mmypack\u001b[00m\r\n",
      "├── \u001b[01;34mmypack\u001b[00m\r\n",
      "│   ├── __init__.py\r\n",
      "│   ├── \u001b[01;34mmypack1\u001b[00m\r\n",
      "│   │   ├── __init__.py\r\n",
      "│   │   └── calc1.py\r\n",
      "│   └── \u001b[01;34mmypack2\u001b[00m\r\n",
      "│       ├── __init__.py\r\n",
      "│       └── calc2.py\r\n",
      "└── setup.py\r\n",
      "\r\n",
      "3 directories, 6 files\r\n"
     ]
    }
   ],
   "source": [
    "!tree mypack"
   ]
  },
  {
   "cell_type": "code",
   "execution_count": 21,
   "metadata": {},
   "outputs": [
    {
     "name": "stdout",
     "output_type": "stream",
     "text": [
      "Overwriting mypack/mypack/__init__.py\n"
     ]
    }
   ],
   "source": [
    "%%writefile mypack/mypack/__init__.py\n",
    "\n",
    "from .mypack1.calc1 import plus\n",
    "from .mypack2.calc2 import minus"
   ]
  },
  {
   "cell_type": "code",
   "execution_count": null,
   "metadata": {},
   "outputs": [],
   "source": [
    "# 4. setup.py 파일 만들기 : 패키지 설치 파일"
   ]
  },
  {
   "cell_type": "code",
   "execution_count": 22,
   "metadata": {},
   "outputs": [
    {
     "name": "stdout",
     "output_type": "stream",
     "text": [
      "Overwriting mypack/setup.py\n"
     ]
    }
   ],
   "source": [
    "%%writefile mypack/setup.py\n",
    "\n",
    "from setuptools import setup, find_packages\n",
    "\n",
    "setup(\n",
    "    name=\"mypack\",\n",
    "    version=\"0.0.1\",\n",
    "    author=\"DoojinPark\",\n",
    "    author_email=\"pdj1224@gmail.com\",\n",
    "    packages=find_packages(),\n",
    "    include_package_data=True,\n",
    ")"
   ]
  },
  {
   "cell_type": "code",
   "execution_count": 3,
   "metadata": {},
   "outputs": [],
   "source": [
    "# 5. 패키지 설치 확인 및 사용"
   ]
  },
  {
   "cell_type": "code",
   "execution_count": 23,
   "metadata": {},
   "outputs": [
    {
     "name": "stdout",
     "output_type": "stream",
     "text": [
      "Obtaining file:///Users/rada/Documents/lecture/dss/dss_15/01_python/code/mypack\n",
      "Installing collected packages: mypack\n",
      "  Running setup.py develop for mypack\n",
      "Successfully installed mypack\n"
     ]
    }
   ],
   "source": [
    "!pip install -e mypack/"
   ]
  },
  {
   "cell_type": "code",
   "execution_count": 25,
   "metadata": {},
   "outputs": [
    {
     "name": "stdout",
     "output_type": "stream",
     "text": [
      "mypack                            0.0.1               /Users/rada/Documents/lecture/dss/dss_15/01_python/code/mypack\r\n"
     ]
    }
   ],
   "source": [
    "!pip list | grep mypack"
   ]
  },
  {
   "cell_type": "code",
   "execution_count": 4,
   "metadata": {},
   "outputs": [],
   "source": [
    "# 6. 패키지 제거 : uninstall"
   ]
  },
  {
   "cell_type": "code",
   "execution_count": 26,
   "metadata": {},
   "outputs": [
    {
     "name": "stdout",
     "output_type": "stream",
     "text": [
      "Found existing installation: mypack 0.0.1\n",
      "Uninstalling mypack-0.0.1:\n",
      "  Successfully uninstalled mypack-0.0.1\n"
     ]
    }
   ],
   "source": [
    "!pip uninstall -y mypack"
   ]
  },
  {
   "cell_type": "code",
   "execution_count": 27,
   "metadata": {},
   "outputs": [],
   "source": [
    "!pip list | grep mypack"
   ]
  }
 ],
 "metadata": {
  "kernelspec": {
   "display_name": "Python 3",
   "language": "python",
   "name": "python3"
  },
  "language_info": {
   "codemirror_mode": {
    "name": "ipython",
    "version": 3
   },
   "file_extension": ".py",
   "mimetype": "text/x-python",
   "name": "python",
   "nbconvert_exporter": "python",
   "pygments_lexer": "ipython3",
   "version": "3.8.3"
  }
 },
 "nbformat": 4,
 "nbformat_minor": 4
}
