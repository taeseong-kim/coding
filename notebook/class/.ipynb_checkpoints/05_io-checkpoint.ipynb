{
 "cells": [
  {
   "cell_type": "code",
   "execution_count": 1,
   "metadata": {},
   "outputs": [],
   "source": [
    "# 1. 파일 (File) : 파일 쓰기, 파일 읽기"
   ]
  },
  {
   "cell_type": "code",
   "execution_count": 5,
   "metadata": {},
   "outputs": [],
   "source": [
    "# 텍스트 파일 쓰기"
   ]
  },
  {
   "cell_type": "code",
   "execution_count": 6,
   "metadata": {},
   "outputs": [],
   "source": [
    "data = \"\"\"python\n",
    "jupyter notebook\n",
    "pandas!!\"\"\""
   ]
  },
  {
   "cell_type": "code",
   "execution_count": 8,
   "metadata": {},
   "outputs": [],
   "source": [
    "!mkdir datas"
   ]
  },
  {
   "cell_type": "code",
   "execution_count": 9,
   "metadata": {},
   "outputs": [
    {
     "name": "stdout",
     "output_type": "stream",
     "text": [
      "01_python_syntax.ipynb  04_package.ipynb        \u001b[1m\u001b[36mdatas\u001b[m\u001b[m/\r\n",
      "02_decorator.ipynb      05_io.ipynb             \u001b[1m\u001b[36mmypack\u001b[m\u001b[m/\r\n",
      "03_linked_list.ipynb    \u001b[1m\u001b[36marticles\u001b[m\u001b[m/\r\n"
     ]
    }
   ],
   "source": [
    "%ls"
   ]
  },
  {
   "cell_type": "code",
   "execution_count": 10,
   "metadata": {},
   "outputs": [],
   "source": [
    "# wt : write text\n",
    "f = open(\"datas/test1.txt\", \"wt\")\n",
    "f.write(data)\n",
    "f.close()"
   ]
  },
  {
   "cell_type": "code",
   "execution_count": 11,
   "metadata": {},
   "outputs": [
    {
     "name": "stdout",
     "output_type": "stream",
     "text": [
      "test1.txt\r\n"
     ]
    }
   ],
   "source": [
    "%ls datas"
   ]
  },
  {
   "cell_type": "code",
   "execution_count": 12,
   "metadata": {},
   "outputs": [
    {
     "name": "stdout",
     "output_type": "stream",
     "text": [
      "python\r\n",
      "jupyter notebook\r\n",
      "pandas!!"
     ]
    }
   ],
   "source": [
    "%cat datas/test1.txt"
   ]
  },
  {
   "cell_type": "code",
   "execution_count": 13,
   "metadata": {},
   "outputs": [],
   "source": [
    "# 텍스트 파일 읽기"
   ]
  },
  {
   "cell_type": "code",
   "execution_count": 15,
   "metadata": {},
   "outputs": [],
   "source": [
    "# rt : read text\n",
    "f = open(\"datas/test1.txt\", \"rt\")\n",
    "load_data = f.read()\n",
    "f.close()"
   ]
  },
  {
   "cell_type": "code",
   "execution_count": 17,
   "metadata": {},
   "outputs": [
    {
     "name": "stdout",
     "output_type": "stream",
     "text": [
      "python\n",
      "jupyter notebook\n",
      "pandas!!\n"
     ]
    }
   ],
   "source": [
    "print(load_data)"
   ]
  },
  {
   "cell_type": "code",
   "execution_count": null,
   "metadata": {},
   "outputs": [],
   "source": [
    "# 객체(바이너리)파일을 쓰기\n",
    "# RAM -> 직렬화(bytes()) -> Hard Disk"
   ]
  },
  {
   "cell_type": "code",
   "execution_count": 20,
   "metadata": {},
   "outputs": [],
   "source": [
    "data = bytes(range(1, 5))\n",
    "\n",
    "f = open(\"datas/range.b\", \"wb\")\n",
    "f.write(data)\n",
    "f.close()\n",
    "\n",
    "# type(data)"
   ]
  },
  {
   "cell_type": "code",
   "execution_count": 21,
   "metadata": {},
   "outputs": [
    {
     "name": "stdout",
     "output_type": "stream",
     "text": [
      "b'\\x01\\x02\\x03\\x04'\n"
     ]
    }
   ],
   "source": [
    "print(data)"
   ]
  },
  {
   "cell_type": "code",
   "execution_count": null,
   "metadata": {},
   "outputs": [],
   "source": [
    "# 객체(바이너리)파일을 읽어오기"
   ]
  },
  {
   "cell_type": "code",
   "execution_count": 22,
   "metadata": {},
   "outputs": [],
   "source": [
    "f = open(\"datas/range.b\", \"rb\")\n",
    "load_data = f.read()\n",
    "f.close()"
   ]
  },
  {
   "cell_type": "code",
   "execution_count": 23,
   "metadata": {},
   "outputs": [
    {
     "data": {
      "text/plain": [
       "[1, 2, 3, 4]"
      ]
     },
     "execution_count": 23,
     "metadata": {},
     "output_type": "execute_result"
    }
   ],
   "source": [
    "list(load_data)"
   ]
  },
  {
   "cell_type": "code",
   "execution_count": 24,
   "metadata": {},
   "outputs": [],
   "source": [
    "# 2. Pickle : 직렬화를 해서 RAM에 있는 데이터를 Hard Disk로 저장하는 방법\n",
    "\n",
    "# pickle에서 자동으로 직렬화를 해주기때문에 직렬화를 신경쓸 필요 X\n",
    "# input output의 속도가 빠릅니다.\n",
    "\n",
    "# 데이터 -> 학습(8시간) -> 모델 객체(RAM) -> 모델 pickle(Hard Disk 저장) \n",
    "# 모델 pickle(Hard Disk 로드) -> 사용"
   ]
  },
  {
   "cell_type": "code",
   "execution_count": 25,
   "metadata": {},
   "outputs": [],
   "source": [
    "import pickle"
   ]
  },
  {
   "cell_type": "code",
   "execution_count": 26,
   "metadata": {},
   "outputs": [],
   "source": [
    "class User:\n",
    "    \n",
    "    def __init__(self, name, age):\n",
    "        self.name = name\n",
    "        self.age = age"
   ]
  },
  {
   "cell_type": "code",
   "execution_count": 27,
   "metadata": {},
   "outputs": [],
   "source": [
    "user1 = User(\"andy\", 24)"
   ]
  },
  {
   "cell_type": "code",
   "execution_count": 28,
   "metadata": {},
   "outputs": [],
   "source": [
    "# pickle로 파일 저장하기\n",
    "# wb : write binary\n",
    "with open(\"datas/user.pkl\", \"wb\") as f:\n",
    "    pickle.dump(user1, f)"
   ]
  },
  {
   "cell_type": "code",
   "execution_count": 29,
   "metadata": {},
   "outputs": [
    {
     "name": "stdout",
     "output_type": "stream",
     "text": [
      "range.b   test1.txt user.pkl\r\n"
     ]
    }
   ],
   "source": [
    "!ls datas"
   ]
  },
  {
   "cell_type": "code",
   "execution_count": 30,
   "metadata": {},
   "outputs": [],
   "source": [
    "# pickle로 파일 불러오기\n",
    "with open(\"datas/user.pkl\", \"rb\") as f:\n",
    "    load_user = pickle.load(f)"
   ]
  },
  {
   "cell_type": "code",
   "execution_count": 32,
   "metadata": {},
   "outputs": [
    {
     "data": {
      "text/plain": [
       "('andy', 24)"
      ]
     },
     "execution_count": 32,
     "metadata": {},
     "output_type": "execute_result"
    }
   ],
   "source": [
    "load_user.name, load_user.age"
   ]
  },
  {
   "cell_type": "code",
   "execution_count": 3,
   "metadata": {},
   "outputs": [],
   "source": [
    "# 3. OS 모듈 : 디렉토리 생성, 삭제, 파일 이동, 삭제 등등"
   ]
  },
  {
   "cell_type": "code",
   "execution_count": 33,
   "metadata": {},
   "outputs": [],
   "source": [
    "import os"
   ]
  },
  {
   "cell_type": "code",
   "execution_count": 34,
   "metadata": {},
   "outputs": [],
   "source": [
    "# 디렉토리 만들기"
   ]
  },
  {
   "cell_type": "code",
   "execution_count": 35,
   "metadata": {},
   "outputs": [],
   "source": [
    "os.makedirs(\"test_dir\")"
   ]
  },
  {
   "cell_type": "code",
   "execution_count": 36,
   "metadata": {},
   "outputs": [
    {
     "name": "stdout",
     "output_type": "stream",
     "text": [
      "01_python_syntax.ipynb  04_package.ipynb        \u001b[1m\u001b[36mdatas\u001b[m\u001b[m/\r\n",
      "02_decorator.ipynb      05_io.ipynb             \u001b[1m\u001b[36mmypack\u001b[m\u001b[m/\r\n",
      "03_linked_list.ipynb    \u001b[1m\u001b[36marticles\u001b[m\u001b[m/               \u001b[1m\u001b[36mtest_dir\u001b[m\u001b[m/\r\n"
     ]
    }
   ],
   "source": [
    "%ls"
   ]
  },
  {
   "cell_type": "code",
   "execution_count": 37,
   "metadata": {},
   "outputs": [],
   "source": [
    "# 디렉토리내 파일 쓰기"
   ]
  },
  {
   "cell_type": "code",
   "execution_count": 50,
   "metadata": {},
   "outputs": [],
   "source": [
    "data1 = \"data1 text\"\n",
    "with open(\"test_dir/test3.txt\", \"wt\") as f:\n",
    "    f.write(data1)"
   ]
  },
  {
   "cell_type": "code",
   "execution_count": 51,
   "metadata": {},
   "outputs": [],
   "source": [
    "data2 = \"data2,text\"\n",
    "with open(\"test_dir/test4.csv\", \"wt\") as f:\n",
    "    f.write(data2)"
   ]
  },
  {
   "cell_type": "code",
   "execution_count": 40,
   "metadata": {},
   "outputs": [
    {
     "name": "stdout",
     "output_type": "stream",
     "text": [
      "test.txt   test2.csv\r\n"
     ]
    }
   ],
   "source": [
    "%ls test_dir/"
   ]
  },
  {
   "cell_type": "code",
   "execution_count": 41,
   "metadata": {},
   "outputs": [],
   "source": [
    "# 디렉토리내 파일 리스트 읽기"
   ]
  },
  {
   "cell_type": "code",
   "execution_count": 43,
   "metadata": {},
   "outputs": [
    {
     "data": {
      "text/plain": [
       "['test2.csv', 'test.txt']"
      ]
     },
     "execution_count": 43,
     "metadata": {},
     "output_type": "execute_result"
    }
   ],
   "source": [
    "files = os.listdir(\"test_dir/\")\n",
    "files"
   ]
  },
  {
   "cell_type": "code",
   "execution_count": 44,
   "metadata": {},
   "outputs": [],
   "source": [
    "# 파일 삭제"
   ]
  },
  {
   "cell_type": "code",
   "execution_count": 45,
   "metadata": {},
   "outputs": [],
   "source": [
    "os.remove(\"test_dir/test.txt\")"
   ]
  },
  {
   "cell_type": "code",
   "execution_count": 46,
   "metadata": {},
   "outputs": [
    {
     "name": "stdout",
     "output_type": "stream",
     "text": [
      "test2.csv\r\n"
     ]
    }
   ],
   "source": [
    "%ls test_dir/"
   ]
  },
  {
   "cell_type": "code",
   "execution_count": 47,
   "metadata": {},
   "outputs": [],
   "source": [
    "# 특정 디렉토리에서 csv 확장자 파일을 모두 삭제하기"
   ]
  },
  {
   "cell_type": "code",
   "execution_count": 52,
   "metadata": {},
   "outputs": [
    {
     "name": "stdout",
     "output_type": "stream",
     "text": [
      "test.txt   test2.csv  test3.txt  test4.csv\r\n"
     ]
    }
   ],
   "source": [
    "%ls test_dir/"
   ]
  },
  {
   "cell_type": "code",
   "execution_count": 54,
   "metadata": {},
   "outputs": [
    {
     "data": {
      "text/plain": [
       "['test4.csv', 'test2.csv']"
      ]
     },
     "execution_count": 54,
     "metadata": {},
     "output_type": "execute_result"
    }
   ],
   "source": [
    "files = os.listdir(\"test_dir/\")\n",
    "files_csv = [file for file in files if file.split(\".\")[-1] == \"csv\"]\n",
    "files_csv"
   ]
  },
  {
   "cell_type": "code",
   "execution_count": 55,
   "metadata": {},
   "outputs": [],
   "source": [
    "for file in files_csv:\n",
    "    os.remove(\"test_dir/{}\".format(file))"
   ]
  },
  {
   "cell_type": "code",
   "execution_count": 56,
   "metadata": {},
   "outputs": [
    {
     "name": "stdout",
     "output_type": "stream",
     "text": [
      "test.txt   test3.txt\r\n"
     ]
    }
   ],
   "source": [
    "%ls test_dir/"
   ]
  },
  {
   "cell_type": "code",
   "execution_count": 57,
   "metadata": {},
   "outputs": [
    {
     "name": "stdout",
     "output_type": "stream",
     "text": [
      "01_python_syntax.ipynb  04_package.ipynb        \u001b[1m\u001b[36mdatas\u001b[m\u001b[m/\r\n",
      "02_decorator.ipynb      05_io.ipynb             \u001b[1m\u001b[36mmypack\u001b[m\u001b[m/\r\n",
      "03_linked_list.ipynb    \u001b[1m\u001b[36marticles\u001b[m\u001b[m/               \u001b[1m\u001b[36mtest_dir\u001b[m\u001b[m/\r\n"
     ]
    }
   ],
   "source": [
    "%ls"
   ]
  },
  {
   "cell_type": "code",
   "execution_count": 58,
   "metadata": {},
   "outputs": [
    {
     "name": "stdout",
     "output_type": "stream",
     "text": [
      "range.b    test1.txt  user.pkl\r\n"
     ]
    }
   ],
   "source": [
    "%ls datas"
   ]
  },
  {
   "cell_type": "code",
   "execution_count": 59,
   "metadata": {},
   "outputs": [],
   "source": [
    "# 파일 이동(이름 바꾸기)"
   ]
  },
  {
   "cell_type": "code",
   "execution_count": 60,
   "metadata": {},
   "outputs": [],
   "source": [
    "os.rename(\"test_dir/test.txt\", \"datas/test.txt\")"
   ]
  },
  {
   "cell_type": "code",
   "execution_count": 61,
   "metadata": {},
   "outputs": [
    {
     "name": "stdout",
     "output_type": "stream",
     "text": [
      "range.b    test.txt   test1.txt  user.pkl\r\n"
     ]
    }
   ],
   "source": [
    "%ls datas"
   ]
  },
  {
   "cell_type": "code",
   "execution_count": 62,
   "metadata": {},
   "outputs": [
    {
     "name": "stdout",
     "output_type": "stream",
     "text": [
      "test3.txt\r\n"
     ]
    }
   ],
   "source": [
    "%ls test_dir"
   ]
  },
  {
   "cell_type": "code",
   "execution_count": 4,
   "metadata": {},
   "outputs": [],
   "source": [
    "# 4. 카테고리 분류 모델을 이용해서 기사 파일을 해당 카테고리 디렉토리로 자동으로 이동"
   ]
  },
  {
   "cell_type": "code",
   "execution_count": 67,
   "metadata": {},
   "outputs": [],
   "source": [
    "categories = {100:\"정치\", 101:\"경제\", 102:\"사회\", 103:\"생활/문화\", 104:\"세계\", 105:\"IT/과학\"}"
   ]
  },
  {
   "cell_type": "code",
   "execution_count": 63,
   "metadata": {},
   "outputs": [],
   "source": [
    "# 1. 카테고리 디렉토리 생성"
   ]
  },
  {
   "cell_type": "code",
   "execution_count": 71,
   "metadata": {},
   "outputs": [
    {
     "name": "stdout",
     "output_type": "stream",
     "text": [
      "model.pkl  \u001b[1m\u001b[36mtexts\u001b[m\u001b[m/\r\n"
     ]
    }
   ],
   "source": [
    "%ls articles/"
   ]
  },
  {
   "cell_type": "code",
   "execution_count": 72,
   "metadata": {},
   "outputs": [],
   "source": [
    "for dir_name in categories.keys():\n",
    "    # print(dir_name)\n",
    "    os.makedirs(\"articles/{}\".format(dir_name))"
   ]
  },
  {
   "cell_type": "code",
   "execution_count": 73,
   "metadata": {},
   "outputs": [
    {
     "name": "stdout",
     "output_type": "stream",
     "text": [
      "\u001b[1m\u001b[36m100\u001b[m\u001b[m/       \u001b[1m\u001b[36m102\u001b[m\u001b[m/       \u001b[1m\u001b[36m104\u001b[m\u001b[m/       model.pkl\r\n",
      "\u001b[1m\u001b[36m101\u001b[m\u001b[m/       \u001b[1m\u001b[36m103\u001b[m\u001b[m/       \u001b[1m\u001b[36m105\u001b[m\u001b[m/       \u001b[1m\u001b[36mtexts\u001b[m\u001b[m/\r\n"
     ]
    }
   ],
   "source": [
    "%ls articles/"
   ]
  },
  {
   "cell_type": "code",
   "execution_count": 64,
   "metadata": {},
   "outputs": [],
   "source": [
    "# 2. 텍스트 데이터 파일 이름 리스트 가져오기"
   ]
  },
  {
   "cell_type": "code",
   "execution_count": 75,
   "metadata": {},
   "outputs": [
    {
     "data": {
      "text/plain": [
       "(100,\n",
       " ['101_일본차3만대수입할때한국차는고작32대수출.txt',\n",
       "  '102_한라산에기습폭우고립됐던초등생·교사28명구조.txt'])"
      ]
     },
     "execution_count": 75,
     "metadata": {},
     "output_type": "execute_result"
    }
   ],
   "source": [
    "articles = os.listdir(\"articles/texts\")\n",
    "len(articles), articles[:2]"
   ]
  },
  {
   "cell_type": "code",
   "execution_count": 65,
   "metadata": {},
   "outputs": [],
   "source": [
    "# 3. 모델(카테고리분류) 불러오기"
   ]
  },
  {
   "cell_type": "code",
   "execution_count": 77,
   "metadata": {},
   "outputs": [],
   "source": [
    "with open(\"articles/model.pkl\", \"rb\") as f:\n",
    "    model = pickle.load(f)"
   ]
  },
  {
   "cell_type": "code",
   "execution_count": 82,
   "metadata": {},
   "outputs": [
    {
     "data": {
      "text/plain": [
       "('IT/과학', 105)"
      ]
     },
     "execution_count": 82,
     "metadata": {},
     "output_type": "execute_result"
    }
   ],
   "source": [
    "predict = model.predict([\"카카오와 네이버는 기술 산업 발전에 주력합니다.\"])[0]\n",
    "categories[predict], predict"
   ]
  },
  {
   "cell_type": "code",
   "execution_count": 83,
   "metadata": {},
   "outputs": [],
   "source": [
    "# 파일이름에서 문자열 읽어오기"
   ]
  },
  {
   "cell_type": "code",
   "execution_count": 84,
   "metadata": {},
   "outputs": [
    {
     "data": {
      "text/plain": [
       "'101_일본차3만대수입할때한국차는고작32대수출.txt'"
      ]
     },
     "execution_count": 84,
     "metadata": {},
     "output_type": "execute_result"
    }
   ],
   "source": [
    "articles[0]"
   ]
  },
  {
   "cell_type": "code",
   "execution_count": 87,
   "metadata": {},
   "outputs": [
    {
     "data": {
      "text/plain": [
       "'그동안 일본 수입차는 국내에서 승승장구해왔습니다. 올해 상반기에만 3만대가 팔렸습니다.   역대 가장 좋은 성적인데요. 국산차가 일본에 딱 32대가 팔린 것과는 대조적이죠.   하'"
      ]
     },
     "execution_count": 87,
     "metadata": {},
     "output_type": "execute_result"
    }
   ],
   "source": [
    "with open(\"articles/texts/{}\".format(articles[0]), \"rt\") as f:\n",
    "    txt = f.read()\n",
    "\n",
    "txt[:100]"
   ]
  },
  {
   "cell_type": "code",
   "execution_count": 89,
   "metadata": {},
   "outputs": [
    {
     "data": {
      "text/plain": [
       "101"
      ]
     },
     "execution_count": 89,
     "metadata": {},
     "output_type": "execute_result"
    }
   ],
   "source": [
    "# 4. 모델 동작 테스트\n",
    "model.predict([txt])[0]"
   ]
  },
  {
   "cell_type": "code",
   "execution_count": 66,
   "metadata": {},
   "outputs": [],
   "source": [
    "# 5. 결과에 따라서 파일 이동하기"
   ]
  },
  {
   "cell_type": "code",
   "execution_count": 93,
   "metadata": {
    "collapsed": true
   },
   "outputs": [
    {
     "name": "stdout",
     "output_type": "stream",
     "text": [
      "0 101_일본차3만대수입할때한국차는고작32대수출.txt 그동안 일본 수입차는 국내에서 승승장구해왔습니다. 올해 101\n",
      "1 102_한라산에기습폭우고립됐던초등생·교사28명구조.txt 막바지 장맛비로 어제 제주에는 많은 비가 쏟아졌습니다. 102\n",
      "2 103_서울시전기버스구매기준첫마련중국車배제허들될까.txt 서울시가 올 하반기 전기버스 보급을 앞두고, 전국 지방 103\n",
      "3 105_이젠식료품배송경쟁시대.txt 월마트·아마존의 경쟁 박빙…젊은층 식료품 온라인 구입  105\n",
      "4 104_”경찰폭력진압에분노”홍콩,오늘도대규모반중시위.txt [앵커] 홍콩에서는 오늘도  대규모 반중 시위가 이어지 104\n",
      "5 101_위기의코스닥한달새시총14조증발.txt 日 수출규제에 투자심리 꽁꽁 / 코스피보다 두배 넘게  101\n",
      "6 105_눈치안주고승차거부없고타다가입자100만명.txt 서비스 출시 9개월만에 기록.. 바로배차·쾌적한 환경  105\n",
      "7 101_엎친데덮친韓‘개도국제외’현실화땐농산물직격탄트럼프WTO개도국지위시정지시.txt 한국에 어떤 영향 미치나 / 마늘·인삼 등 대폭적 관세 101\n",
      "8 100_‘아베분신’처럼日,한국의원앞에서“신뢰잃었다”도발.txt 방미 의원단이 전한 한미일 의원회의[서울신문]박경미 “ 100\n",
      "9 104_주말마다시위대·경찰충돌격화홍콩긴장최고조.txt 시민들 ‘백색테러’ 항의에 경찰 강경 진압 부상자 속출 104\n",
      "10 100_문대통령,여름휴가취소풀어야할숙제많은탓.txt 문재인 대통령이 29일부터 예정됐던 올해 하계휴가를 취 100\n",
      "11 102_본격더위시작재첩축제서더위탈출.txt [앵커]중부 지방의 막바지 장마에 이어 남부 지방에는  102\n",
      "12 102_포항제철고일반고전환추진에반발확산.txt 포스코교육재단, 비용 등 부담 / 운동부 폐지 ‘구조조 102\n",
      "13 105_네이버페이,카페기반으로간편송금2强토스·카카오에도전장.txt 네이버페이의 카페 송금 홍보 페이지.   네이버페이가  105\n",
      "14 100_엔진정상인데남쪽연안불빛보며내려와월선미스터리.txt 한달여 만에 또…北소형목선 월선 의문점정황상 표류 가능 100\n",
      "15 100_北_경고무시하면靑주인자멸_文대통령직접겨냥.txt [앵커]북한의 말폭탄이 최근 더욱 거칠고 노골적입니다. 100\n",
      "16 105_韓소재부품산업,일본의존도점점줄었다.txt 한국의 대(對)일본 소재부품 의존도는 줄어들지만, 일본 105\n",
      "17 105_IR52장영실상오티에스CCTV승하강장치.txt CCTV 올리거나 내려 지상서 안전 보수작업자 추락사고 103\n",
      "18 102_문옆에떡하니비밀번호가원룸공동현관문무용지물.txt 【 앵커멘트 】  1인 가구가 많이 사는 원룸 공동현관 102\n",
      "19 101_르노삼성사태후반전시작되나_수출물량확보에악재될것_.txt 다시 파국 조짐 보이는 르노삼성르노삼성자동차 부산공장  101\n",
      "20 102_예견된혼란인데고용부,직장괴롭힘상담센터뒤늦게추진.txt [앵커]직장 내 괴롭힘 금지법이 시행된 지 열흘 남짓  102\n",
      "21 100_‘흰색천’걸고NLL넘은北선원들“귀순,일없습니다”.txt 지난달 15일 북한 목선이 NLL을 넘어 군의 경계 실 100\n",
      "22 101_이재용의반도체뚝심9월日서`파운드리포럼`강행.txt 사업에 차질 없다 메시지 강조시스템반도체 육성 등 의지 101\n",
      "23 100_또동해NLL넘은北목선1명은군복착용.txt [앵커]북한 소형 목선이 어젯밤 또  동해 북방한계선  100\n",
      "24 102_투표조작의혹프로듀스X101,결국경찰내사착수.txt [앵커]투표 조작 논란에 휩싸인 인기 오디션 프로그램  102\n",
      "25 101_글로벌금리인하타고채권시장훨훨.txt 濠 이어 유럽·美도 금리인하 예고안전자산 채권에 자금  101\n",
      "26 100_與_금배지내놔라_野중진에거센도전장.txt 정태호 靑일자리수석 사임후관악을서 오신환에 설욕 채비나 100\n",
      "27 103_이굴뚝을보면윤선도가아른거린다.txt [오래된 마을 옛집굴뚝34] 전남 해남(1) 해남읍 연 103\n",
      "28 105_콘텐츠투자뒤늦게빛보는네이버·카카오.txt 웹툰, 국내수익화·해외진출 성공가도 이어가카카오, 페이 105\n",
      "29 104_美뉴욕서총기난사사건1명사망·11명부상.txt [머니투데이 강민수 기자] [용의자 아직 체포 안 돼… 104\n",
      "30 102_복면가왕트루디♡이대은자랑부터곽정은·변정수까지(종합).txt [머니투데이 한지연 기자] /사진=복면가왕 캡처, 뉴스 104\n",
      "31 100__韓규제철회하라_일본지식인77명의외침.txt 와다 하루키(和田春樹) 도쿄대 명예교수 등 일본 지식인 100\n",
      "32 104_강제징용조선인피와땀서려명부공개부터.txt [뉴스데스크]◀ 앵커 ▶일본은, 우리 정부가` 대법원  104\n",
      "33 102_학교에서하룻밤,_스마트폰없어도즐거웠다_는아이들.txt 춘천 성수고 독서캠프 참가기... \"경쟁없이 다른 생각 102\n",
      "34 104_모스크바휩쓰는`反푸틴`시위러,1000명이상체포.txt 9월 모스크바 시의회 선거야당 후보 등록 배제 파문푸틴 104\n",
      "35 103_김태호놀면뭐하니시청률4_“역시신선““산만하더라_.txt 무한도전 이후 1년 4개월 만의 복귀27일 첫 방송 시 103\n",
      "36 105_트럼프개도국제외발언에日수출규제이어한국통상또깜짝.txt 도널드 트럼프 대통령. <전자신문 DB>도널드 트럼프  105\n",
      "37 104_“여행비도와주세요”벡패커골치동남아국들단속강화.txt 한 서양 여성이 태국 방콕의 한 거리에서 자신의 무전여 104\n",
      "38 105_`일본제품불매`운동제약시장으로확산.txt 대한약사회 전북·부산 지부 등잇따라 日 경제보복 규탄  105\n",
      "39 102_전국호우특보해제내일오전까지는중부에국지적비.txt 비 구름대 빠르게 동해상으로…호우특보 해제경기·강원 영 102\n",
      "40 101_“아베분신처럼도발하더라”워싱턴서도한일의원설전.txt 유명희 귀국 “미, 일본 조치 악영향에 공감”… WTO 101\n",
      "41 105_블록체인게임등급심사신청0관련규정마련도지연.txt 지난해 유나의 옷장 신청때 암호화폐 투기 열풍 일어 등 105\n",
      "42 104_일본국민민주당,아베총리개헌손짓에화답파문.txt 다마키 유이치로 대표 “논의 진행하겠다” 당 내에서도  104\n",
      "43 105_TV홈쇼핑,모바일퍼스트올해취급액7조돌파할듯.txt 올해 TV홈쇼핑 업계의 전체 취급액 가운데 모바일 비중 105\n",
      "44 104_막오른대만대선‘반중-친중’구도재연.txt 국민당 28일 한궈위 가오슝 시장 후보 지명 민진당 후 104\n",
      "45 103_신안산선8월착공현지선시큰둥.txt 주택공급이 넘쳐 교통호재에도 안산 부동산시장은 잠잠하다 103\n",
      "46 102_중부지방막바지장맛비내일부터전국폭염.txt [뉴스데스크]◀ 앵커 ▶오늘 비가 정말 많이 왔죠.침수 102\n",
      "47 102_성추행·붕괴광주수영대회물흐린각종사고.txt [서울신문]클럽서 성추행한 외국인 선수 혐의 부인 불법 102\n",
      "48 105_소프트웨어공제조합,20년만에연대보증폐지.txt 소프트웨어공제조합이 입찰, 계약, 선급금 등 보증서 발 105\n",
      "49 100_한밤중에하얀천달고北소형목선또남하.txt 지난 27일 밤 동해 북방한계선(NLL)을 넘어온 북한 100\n",
      "50 102_전국흐리고일부호우장맛비그친뒤엔본격폭염.txt [앵커]막바지 장마 영향으로 전국이 흐린 가운데, 일부 102\n",
      "51 105_방통위,페이스북개인정보책임자국내로불러조사···징계속도낼듯.txt 페이스북방송통신위원회가 페이스북 국내 이용자 개인정보  105\n",
      "52 103_멀어지는역세권청년주택누굴믿나.txt 박원순표 희망 부풀리기, 허술한 정책·지역이기에 발목“ 103\n",
      "53 102_고유정체포영상유출경찰청,진상조사착수.txt [앵커]경찰이 고유정을 처음 체포하던 동영상이 일부 언 102\n",
      "54 100_부인할수록주목받는조국·유시민의정치.txt 유시민 ‘사람사는세상 노무현재단’ 이사장이 팟캐스트방송 100\n",
      "55 100_최악의국회,정치가없다.txt 민생 법안 처리 사실상 ‘0’, 본회의 딱 세번 해도  100\n",
      "56 102_가족의장례직접치른장례지도사.txt [인터뷰] 소명으로서의 직업 19년차 여성 장례지도사  102\n",
      "57 101_전자업계2强,하반기전략전망LG,TV성장세견인카드관건.txt HE 사업 영업익 5% 안팎 전망신가전 중심으로 성과  101\n",
      "58 103_1500자의학상식자궁경부무력증조산막으려면.txt 최근 들어 유산과 조산 발생률이 가파르게 상승해 대책  103\n",
      "59 104_추락7개월동생붙잡은5살언니의사투,시리아공습이부른비극.txt [서소문사진관]    세 딸이 시리아 정부군의 폭격으로 104\n",
      "60 102_클럽구조물붕괴사고경찰수사속도공동대표추가입건(종합).txt 경찰, 불법 증·개축 확인…전날부터 관계자·피해자 18 102\n",
      "61 105_전동킥보드춘추전국시대8월에만서울에3천대추가투입.txt &apos씽씽&apos만 2천대 추가...1위 사업자  105\n",
      "62 104_홍콩경찰과잉진압논란시위부상자속출.txt 27일 백색테러 규탄집회에서 17명 부상2명 위중. 과 104\n",
      "63 101_CB·BW,평가손실주의보올들어벌써24개社속출.txt 주식 전환가 조정 가능한 경우현주가가 전환가보다 높으면 101\n",
      "64 101_취재파일미중무역전쟁에일본수출규제까지세계무역환경의변화.txt ● 미중 무역전쟁에 일본 수출규제 속 신음하는 한국미중 101\n",
      "65 103_일본3만대팔릴때국산차日수출32대.txt 상반기 수입물량 역대최대 기록점유율도 작년 17%서 2 103\n",
      "66 100_7월국회앞두고도여야추경-안보네탓공방만(종합).txt 내일부터 국회 열리지만…여야, 추경-안보국회 이견與 \" 100\n",
      "67 103_세대별평균월9069원내고1인당130만원받는다.txt 노인장기요양보험 빨간불  “2022년 준비금 소진”노인 103\n",
      "68 104_美,佛디지털세에와인세로맞불예고.txt 佛 재무장관 “美 겨냥한 것 아니다” / 美, 자국기업 104\n",
      "69 101_아사히입지흔들·일본車수입꺾여日불매운동확산.txt [앵커]국내에서 일본산 제품에 대한 불매운동이 이어지는 101\n",
      "70 101_치열해지는부동산신탁경쟁우리·교보가세.txt 교보, 생보신탁 지분 100% 확보우리금융, 국제자산신 101\n",
      "71 100_北,선원석방통보않고美는北미사일‘무신경’패싱당한韓.txt 갈 길 잃은 한국 외교안보/ 10여차례 신변안전 확인  100\n",
      "72 105_위기의식량안보곡물소비77_가`수입산`.txt 韓, 최근 3년간 자급률 23%OECD 회원국중 최하위 105\n",
      "73 104_홍콩,오늘도행진경찰과충돌예상.txt 홍콩 시민들이 어제에 이어 오늘도 집회에 이어 거리 행 104\n",
      "74 103_“인간의품격갖춘지도자는‘민중가슴’에영원히살아남죠”.txt [짬] ‘평전’ 전문 김삼웅 작가 김삼웅 전 독립기념관 103\n",
      "75 102_춤업소허용조례사례언급되기도_특혜여부조사_.txt [앵커]사고가 난 클럽은 구 의회에서 조례를 바꾸면서  102\n",
      "76 105_재작년나온V30도신제품처럼LG전자,믿고오래쓰는스마트폰업그레이드.txt LG전자는 재작년 하반기에 출시한 LG V30와 LG  105\n",
      "77 104_“日,도쿄올림픽앞두고방사능오염수1만8000톤통제안돼”.txt 아사히 “원전 지하 보관… 제어 힘들어”   2020년 104\n",
      "78 103_프로듀스X투표조작의혹결국법의판단받는다.txt 방송사는 제작진 수사의뢰, 시청자는 방송사 고소… 과거 103\n",
      "79 105_가격·경쟁사폰·日규제갤럭시폴드의3대변수이슈분석.txt 9월 출시 앞둔 삼성 첫 폴더블폰         삼성전 105\n",
      "80 105_전파법전면개정추진`주파수면허제·면허료`도입.txt 정부가 전파법 체계를 개편하고 할당·지정·사용승인으로  105\n",
      "81 103_인니대통령만난정의선현대차,1조원규모인니전기차공장설립_.txt 印尼 장관 \"현대차 1조 투자..11월 양국 대통령과  103\n",
      "82 102_단독“대마구할수있어”대성건물유흥업소마약유통정황.txt 저희 채널A는 그룹 빅뱅의 멤버, 강대성 씨가 소유한  102\n",
      "83 100_조국“정치권·언론,한일중어디동의하나밝혀라”.txt [서울신문]조국 전 청와대 민정수석. 서울신문 DB대일 100\n",
      "84 101_美가제시한`개도국혜택박탈`4대조건한국만모두해당.txt 비상 걸린 한국 통상WTO 개도국서 실제 제외땐수입쌀  101\n",
      "85 104_마크롱디지털稅강행에뿔난트럼프와인稅로보복선언.txt 佛, 구글·아마존·페이스북 겨냥연매출의 3% 부과 법안 104\n",
      "86 103_쓰레기봉투와테이프가탈출도구_한국형클라이밍액션극‘엑시트’.txt 고요한 밤 국내 한 신도시의 화학회사 건물 앞에서 유독 103\n",
      "87 101_믿고직구했는데가습기살균제성분검출.txt [뉴스데스크]◀ 앵커 ▶요즘 해외 직구로 물건 많이들  101\n",
      "88 102_광주클럽붕괴경찰-지자체책임은_발뺌논란(종합).txt \"인지 못했다\"는 이유로 수사·관리 이뤄지지 않아\"막을 102\n",
      "89 104_중국군,최신예J-20전투기동부전구배치_대만겨냥_.txt 美 \"J-20 실전 배치는 태평양 지역 큰 위협\"출격하 104\n",
      "90 100_법이없다직접심판주민소환제실상은있으나마나_.txt [뉴스데스크]◀ 앵커 ▶네, 이번 시간은 꼭 필요하지만 100\n",
      "91 103__드라이브취소하고카페로_주말장맛비에실내로피신.txt 빗길에 고속도로 정체…오후 5∼6시 절정 달했다가 풀릴 103\n",
      "92 104_보리스존슨,브렉시트완수_아니면최단명총리_.txt 집권 보수당 내 반대파와 노동당 연대, 노딜 브렉시트  104\n",
      "93 102_도시어부도_안사요_日낚시용품불매운동.txt [뉴스데스크]◀ 앵커 ▶일본 제품 불매운동 소식 알아봅 102\n",
      "94 104_일본도쿄신문_작년11월북한이작성한내부문서입수_.txt [앵커]일본 도쿄신문이 북한이 지난해 11월 작성한 내 104\n",
      "95 104_계속해서中압박하는트럼프_美대통령바뀔때까지기다리나_.txt 30일 미중 무역협상 의식한 발언디지털세 부과 佛엔 와 104\n",
      "96 103_기아‘니로’없어서못판다생산계획20_확대키로.txt 당장 계약해도 두 달 넘게 대기.. 수출·내수 비중 7 103\n",
      "97 105_상반기후후앱스팸신고1048만건전년比29_↑.txt [머니투데이 서진욱 기자] [2013년 앱 출시 이후  101\n",
      "98 104__WTO개도국서韓빼라_한국농업옥죄는트럼프.txt 中이 주타깃…한국도 불똥◆ 美, WTO 개도국서 韓제외 104\n",
      "99 101_상장사영업익-37_보릿고개韓경제.txt 反시장 정책에 생산성 악화 겹쳐반도체·디스플레이 등 실 101\n"
     ]
    }
   ],
   "source": [
    "for idx, filename in enumerate(articles):\n",
    "    \n",
    "    # 1. 텍스트 불러오기\n",
    "    with open(\"articles/texts/{}\".format(filename), \"rt\") as f:\n",
    "        txt = f.read()\n",
    "    \n",
    "    # 2. 모델로 카테고리 예측하기\n",
    "    category = model.predict([txt])[0]\n",
    "    \n",
    "    # 3. 해당 카테고리로 파일 이동하기\n",
    "    os.rename(\"articles/texts/{}\".format(filename), \"articles/{}/{}\".format(category, filename))\n",
    "    \n",
    "    print(idx, filename, txt[:30], category)"
   ]
  },
  {
   "cell_type": "code",
   "execution_count": 94,
   "metadata": {},
   "outputs": [],
   "source": [
    "%ls articles/texts/"
   ]
  },
  {
   "cell_type": "code",
   "execution_count": 100,
   "metadata": {},
   "outputs": [
    {
     "name": "stdout",
     "output_type": "stream",
     "text": [
      "105_TV홈쇼핑,모바일퍼스트올해취급액7조돌파할듯.txt\r\n",
      "105_`일본제품불매`운동제약시장으로확산.txt\r\n",
      "105_가격·경쟁사폰·日규제갤럭시폴드의3대변수이슈분석.txt\r\n",
      "105_방통위,페이스북개인정보책임자국내로불러조사···징계속도낼듯.txt\r\n",
      "105_네이버페이,카페기반으로간편송금2强토스·카카오에도전장.txt\r\n",
      "105_재작년나온V30도신제품처럼LG전자,믿고오래쓰는스마트폰업그레이드.txt\r\n",
      "105_韓소재부품산업,일본의존도점점줄었다.txt\r\n",
      "105_소프트웨어공제조합,20년만에연대보증폐지.txt\r\n",
      "105_전파법전면개정추진`주파수면허제·면허료`도입.txt\r\n",
      "105_위기의식량안보곡물소비77_가`수입산`.txt\r\n",
      "105_이젠식료품배송경쟁시대.txt\r\n",
      "105_전동킥보드춘추전국시대8월에만서울에3천대추가투입.txt\r\n",
      "105_블록체인게임등급심사신청0관련규정마련도지연.txt\r\n",
      "105_콘텐츠투자뒤늦게빛보는네이버·카카오.txt\r\n",
      "105_눈치안주고승차거부없고타다가입자100만명.txt\r\n",
      "105_트럼프개도국제외발언에日수출규제이어한국통상또깜짝.txt\r\n"
     ]
    }
   ],
   "source": [
    "%ls articles/105/"
   ]
  },
  {
   "cell_type": "code",
   "execution_count": null,
   "metadata": {},
   "outputs": [],
   "source": []
  },
  {
   "cell_type": "code",
   "execution_count": null,
   "metadata": {},
   "outputs": [],
   "source": []
  },
  {
   "cell_type": "code",
   "execution_count": null,
   "metadata": {},
   "outputs": [],
   "source": []
  },
  {
   "cell_type": "code",
   "execution_count": null,
   "metadata": {},
   "outputs": [],
   "source": []
  }
 ],
 "metadata": {
  "kernelspec": {
   "display_name": "Python 3",
   "language": "python",
   "name": "python3"
  },
  "language_info": {
   "codemirror_mode": {
    "name": "ipython",
    "version": 3
   },
   "file_extension": ".py",
   "mimetype": "text/x-python",
   "name": "python",
   "nbconvert_exporter": "python",
   "pygments_lexer": "ipython3",
   "version": "3.7.6"
  }
 },
 "nbformat": 4,
 "nbformat_minor": 4
}
