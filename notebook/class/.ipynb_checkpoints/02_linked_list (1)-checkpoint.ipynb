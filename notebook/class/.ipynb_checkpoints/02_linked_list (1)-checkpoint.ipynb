{
 "cells": [
  {
   "cell_type": "markdown",
   "metadata": {},
   "source": [
    "#### 얕은복사와 깊은복사\n",
    "- 객체 타입 종류 : mutable, immutable\n",
    "- immutable \n",
    "    - int, float, str, bool, tuple\n",
    "    - = 연산자를 쓰고 다른 값을 대입하면 새로운 메모리 생성\n",
    "- mutable\n",
    "    - list, dict, set\n",
    "    - = 연산자를 쓰면 주소값이 복사"
   ]
  },
  {
   "cell_type": "code",
   "execution_count": 1,
   "metadata": {},
   "outputs": [],
   "source": [
    "# immutable\n",
    "data1 = 1\n",
    "data2 = data1\n",
    "data3 = 1\n",
    "data4 = 2"
   ]
  },
  {
   "cell_type": "code",
   "execution_count": 2,
   "metadata": {},
   "outputs": [
    {
     "data": {
      "text/plain": [
       "(4392830080, 4392830080, 4392830080, 4392830112)"
      ]
     },
     "execution_count": 2,
     "metadata": {},
     "output_type": "execute_result"
    }
   ],
   "source": [
    "id(data1), id(data2), id(data3), id(data4)"
   ]
  },
  {
   "cell_type": "code",
   "execution_count": 3,
   "metadata": {},
   "outputs": [],
   "source": [
    "# mutable\n",
    "data1 = [1, 2, 3]\n",
    "data2 = data1 # 얕은 복사 : 주소 복사 : call by reference\n",
    "data3 = [1, 2, 3]\n",
    "data4 = data1.copy() # 깊은 복사 : 값 복사 : call by value"
   ]
  },
  {
   "cell_type": "code",
   "execution_count": 4,
   "metadata": {},
   "outputs": [
    {
     "data": {
      "text/plain": [
       "(140647945900592, 140647945900592, 140647994873968, 140647995591248)"
      ]
     },
     "execution_count": 4,
     "metadata": {},
     "output_type": "execute_result"
    }
   ],
   "source": [
    "id(data1), id(data2), id(data3), id(data4)"
   ]
  },
  {
   "cell_type": "markdown",
   "metadata": {},
   "source": [
    "#### 클래스\n",
    "- 코드의 규모가 커져서 변수, 함수를 묶어서 사용\n",
    "- 코드의 규모가 커져서 여러명이 효율적으로 개발하는 방법인 객체지향을 구현\n",
    "- 객체지향 : 실제세계를 모델링해서 개발하는 방법\n",
    "- 객체에는 변수와 메서드가 있다.\n",
    "- 클래스로 만들어진 객체 > mutable"
   ]
  },
  {
   "cell_type": "code",
   "execution_count": 40,
   "metadata": {},
   "outputs": [],
   "source": [
    "# 생성자, 상속, super, getter-setter, private, spacial method"
   ]
  },
  {
   "cell_type": "markdown",
   "metadata": {},
   "source": [
    "#### 링크드 리스트\n",
    "- RAM 영역의 자료구조에서 객체의 데이터와 주소값에 대한 이해하는데 좋은 알고리즘\n",
    "- RAM 영역의 자료구조를 잘 알아야 RAM을 효율적으로 사용할수 있는 코드를 작성할수 있다.\n",
    "- 코딩 테스트에 잘 나오는 기본적인 문제\n",
    "- 단방향 링크드 리스트(Singly Linked List)\n",
    "- 양방향 링크드 리스트(Doubly Linked List)"
   ]
  },
  {
   "cell_type": "markdown",
   "metadata": {},
   "source": [
    "#### 1. 단방향 링크드 리스트"
   ]
  },
  {
   "cell_type": "markdown",
   "metadata": {},
   "source": [
    "<img src=\"./imgs/01_linked_list_01.png\" style=\"width:50%;\">"
   ]
  },
  {
   "cell_type": "markdown",
   "metadata": {},
   "source": [
    "#### Quiz 1 : 링크드 리스트의 구현\n",
    "- 아래와 같은 모양을 갖는 링크드 리스트를 구현\n",
    "- [1.파이썬] -> [2.자바] -> [3.HTML] -> [4.CSS] -> [5.Pandas]"
   ]
  },
  {
   "cell_type": "code",
   "execution_count": 5,
   "metadata": {},
   "outputs": [],
   "source": [
    "# 1. Node 클래스 선언 : 생성자 함수에 data, next_node 변수 선언"
   ]
  },
  {
   "cell_type": "code",
   "execution_count": 6,
   "metadata": {},
   "outputs": [],
   "source": [
    "class Node:\n",
    "    \n",
    "    def __init__(self, data, next_node=None):\n",
    "        self.data = data\n",
    "        self.next_node = next_node\n",
    "    \n",
    "    def __repr__(self):\n",
    "        return \"<Node data:{}, next_node:{}>\".format(self.data, id(self.next_node))"
   ]
  },
  {
   "cell_type": "code",
   "execution_count": 7,
   "metadata": {},
   "outputs": [],
   "source": [
    "# 2. 객체 5개 생성"
   ]
  },
  {
   "cell_type": "code",
   "execution_count": 8,
   "metadata": {},
   "outputs": [],
   "source": [
    "n1 = Node(\"1.파이썬\")\n",
    "n2 = Node(\"2.자바\")\n",
    "n3 = Node(\"3.HTML\")\n",
    "n4 = Node(\"4.CSS\")\n",
    "n5 = Node(\"5.PANDAS\")"
   ]
  },
  {
   "cell_type": "code",
   "execution_count": 9,
   "metadata": {},
   "outputs": [
    {
     "data": {
      "text/plain": [
       "(<Node data:1.파이썬, next_node:4392527976>, None)"
      ]
     },
     "execution_count": 9,
     "metadata": {},
     "output_type": "execute_result"
    }
   ],
   "source": [
    "n1, n1.next_node"
   ]
  },
  {
   "cell_type": "code",
   "execution_count": 10,
   "metadata": {},
   "outputs": [],
   "source": [
    "# 3. 링크연결"
   ]
  },
  {
   "cell_type": "code",
   "execution_count": 11,
   "metadata": {},
   "outputs": [],
   "source": [
    "n1.next_node = n2\n",
    "n2.next_node = n3\n",
    "n3.next_node = n4\n",
    "n4.next_node = n5"
   ]
  },
  {
   "cell_type": "code",
   "execution_count": 12,
   "metadata": {},
   "outputs": [
    {
     "data": {
      "text/plain": [
       "(<Node data:1.파이썬, next_node:140647995735184>,\n",
       " <Node data:2.자바, next_node:140647995735312>)"
      ]
     },
     "execution_count": 12,
     "metadata": {},
     "output_type": "execute_result"
    }
   ],
   "source": [
    "n1, n1.next_node"
   ]
  },
  {
   "cell_type": "code",
   "execution_count": 13,
   "metadata": {},
   "outputs": [
    {
     "data": {
      "text/plain": [
       "(<Node data:5.PANDAS, next_node:4392527976>, None)"
      ]
     },
     "execution_count": 13,
     "metadata": {},
     "output_type": "execute_result"
    }
   ],
   "source": [
    "n5, n5.next_node"
   ]
  },
  {
   "cell_type": "markdown",
   "metadata": {},
   "source": [
    "#### Quiz 2 : 링크드 리스트의 데이터 출력\n",
    "- display : 출력 함수 작성\n",
    "- node 객체를 아규먼트로 함수를 호출하면 해당 노드를 포함하여 \n",
    "- 마지막 노드까지 순서대로 데이터 출력\n",
    "- obj is None, while, break, if "
   ]
  },
  {
   "cell_type": "markdown",
   "metadata": {},
   "source": [
    "```\n",
    "[1.파이썬] -> [2.자바] -> [3.HTML] -> [4.CSS] -> [5.Pandas]\n",
    "```"
   ]
  },
  {
   "cell_type": "code",
   "execution_count": 14,
   "metadata": {},
   "outputs": [],
   "source": [
    "def display(node):\n",
    "    \n",
    "    curr_node = start_node = node\n",
    "    \n",
    "    # next node가 None이 나올때까지 아래 과정 반복\n",
    "    while True:\n",
    "        \n",
    "        # 현재 노드 출력\n",
    "        print(curr_node.data)\n",
    "        \n",
    "        # curr_node의 next_node가 None이면 반복 종료\n",
    "        if curr_node.next_node is None:\n",
    "            break\n",
    "            \n",
    "        # curr_node를 현재 노드의 다음 노드 객체로 변경\n",
    "        curr_node = curr_node.next_node\n",
    "        \n",
    "        # curr_node가 start_node가 None이면 반복 종료\n",
    "        if curr_node is start_node:\n",
    "            break"
   ]
  },
  {
   "cell_type": "code",
   "execution_count": 15,
   "metadata": {},
   "outputs": [
    {
     "name": "stdout",
     "output_type": "stream",
     "text": [
      "3.HTML\n",
      "4.CSS\n",
      "5.PANDAS\n"
     ]
    }
   ],
   "source": [
    "display(n3) # \"3.HTML 4.CSS 5.PANDAS\" 출력"
   ]
  },
  {
   "cell_type": "markdown",
   "metadata": {},
   "source": [
    "#### Quiz 3\n",
    "- circle 링크드 리스트의 경우 : 마지막 노드까지 순서대로 데이터 출력"
   ]
  },
  {
   "cell_type": "code",
   "execution_count": 16,
   "metadata": {},
   "outputs": [],
   "source": [
    "# node 5번을 1번과 연결\n",
    "n5.next_node = n1"
   ]
  },
  {
   "cell_type": "code",
   "execution_count": 17,
   "metadata": {},
   "outputs": [
    {
     "name": "stdout",
     "output_type": "stream",
     "text": [
      "3.HTML\n",
      "4.CSS\n",
      "5.PANDAS\n",
      "1.파이썬\n",
      "2.자바\n"
     ]
    }
   ],
   "source": [
    "display(n3)"
   ]
  },
  {
   "cell_type": "markdown",
   "metadata": {},
   "source": [
    "#### Quiz 4 : 링크드 리스트에 node를 추가하는 add_node 메서드 구현\n",
    "- Node 클래스에 add_node 메서드 구현"
   ]
  },
  {
   "cell_type": "code",
   "execution_count": 18,
   "metadata": {},
   "outputs": [],
   "source": [
    "class Node2(Node):\n",
    "#     def __init__(self, data, next_node=None):\n",
    "#         self.data = data\n",
    "#         self.next_node = next_node\n",
    "        \n",
    "    # n1.add_next_node(node) : n1 - n2 -> n1 - node - n2\n",
    "    def add_node(self, node):\n",
    "        \n",
    "        # node의 next_node를 self의 next_node로 수정\n",
    "        node.next_node = self.next_node\n",
    "        \n",
    "        # self의 next_node를 node 객체의 주소값으로 수정\n",
    "        self.next_node = node\n",
    "        \n",
    "#     def __repr__(self):\n",
    "#         return \"<Node data:{}, next_node:{}>\".format(self.data, id(self.next_node))"
   ]
  },
  {
   "cell_type": "code",
   "execution_count": 19,
   "metadata": {},
   "outputs": [],
   "source": [
    "n1 = Node2(\"1.파이썬\")\n",
    "n2 = Node2(\"2.자바\")\n",
    "n3 = Node2(\"3.HTML\")\n",
    "n4 = Node2(\"4.CSS\")\n",
    "n5 = Node2(\"5.PANDAS\")"
   ]
  },
  {
   "cell_type": "code",
   "execution_count": 20,
   "metadata": {},
   "outputs": [],
   "source": [
    "n1.next_node = n2\n",
    "n2.next_node = n3\n",
    "n3.next_node = n1"
   ]
  },
  {
   "cell_type": "code",
   "execution_count": 21,
   "metadata": {},
   "outputs": [],
   "source": [
    "n2.add_node(n4)"
   ]
  },
  {
   "cell_type": "code",
   "execution_count": 22,
   "metadata": {},
   "outputs": [
    {
     "name": "stdout",
     "output_type": "stream",
     "text": [
      "1.파이썬\n",
      "2.자바\n",
      "4.CSS\n",
      "3.HTML\n"
     ]
    }
   ],
   "source": [
    "display(n1)"
   ]
  },
  {
   "cell_type": "markdown",
   "metadata": {},
   "source": [
    "#### 2. 양방향 링크드 리스트\n",
    "<img src=\"./imgs/01_linked_list_02.png\" style=\"width:50%;\">"
   ]
  },
  {
   "cell_type": "markdown",
   "metadata": {},
   "source": [
    "#### Quiz 5 : 양방향 링크드 리스트 구현\n",
    "- [1.파이썬] <-> [2.자바] <-> [3.HTML] <-> [1.파이썬]\n",
    "- Node 클래스에 prev_node 를 추가해서 양방향 링크드 리스트 구현"
   ]
  },
  {
   "cell_type": "code",
   "execution_count": 23,
   "metadata": {},
   "outputs": [],
   "source": [
    "class Node3(Node2):\n",
    "    \n",
    "    def __init__(self, data, prev_node=None, next_node=None):\n",
    "        super().__init__(data, prev_node)\n",
    "        # self.data = data\n",
    "        # self.next_node = next_node\n",
    "        self.prev_node = prev_node\n",
    "\n",
    "    def add_node(self, node):\n",
    "        \n",
    "        # node의 next_node를 self의 next_node로 수정\n",
    "        # node.next_node = self.next_node\n",
    "\n",
    "        # self의 next_node를 node 객체의 주소값으로 수정\n",
    "        # self.next_node = node\n",
    "        \n",
    "        super().add_node(node)\n",
    "                \n",
    "        node.prev_node = self\n",
    "        node.next_node.prev_node = node\n",
    "\n",
    "    def __repr__(self):\n",
    "        return \"<Node data:{}, prev_node:{}, next_node:{}>\".format(self.data, id(self.prev_node), id(self.next_node))"
   ]
  },
  {
   "cell_type": "code",
   "execution_count": 24,
   "metadata": {},
   "outputs": [],
   "source": [
    "n1 = Node3(\"1.파이썬\")\n",
    "n2 = Node3(\"2.자바\")\n",
    "n3 = Node3(\"3.HTML\")"
   ]
  },
  {
   "cell_type": "code",
   "execution_count": 25,
   "metadata": {},
   "outputs": [],
   "source": [
    "# next node 연결\n",
    "n1.next_node = n2\n",
    "n2.next_node = n3\n",
    "n3.next_node = n1"
   ]
  },
  {
   "cell_type": "code",
   "execution_count": 26,
   "metadata": {},
   "outputs": [],
   "source": [
    "# prev node 연결\n",
    "n1.prev_node = n3\n",
    "n2.prev_node = n1\n",
    "n3.prev_node = n2"
   ]
  },
  {
   "cell_type": "code",
   "execution_count": 27,
   "metadata": {},
   "outputs": [
    {
     "data": {
      "text/plain": [
       "'3.HTML'"
      ]
     },
     "execution_count": 27,
     "metadata": {},
     "output_type": "execute_result"
    }
   ],
   "source": [
    "n1.prev_node.data"
   ]
  },
  {
   "cell_type": "markdown",
   "metadata": {},
   "source": [
    "- 2번 노드 뒤에 [4.CSS] 추가"
   ]
  },
  {
   "cell_type": "code",
   "execution_count": 28,
   "metadata": {},
   "outputs": [],
   "source": [
    "n4 = Node3(\"4.CSS\")"
   ]
  },
  {
   "cell_type": "code",
   "execution_count": 29,
   "metadata": {},
   "outputs": [
    {
     "name": "stdout",
     "output_type": "stream",
     "text": [
      "1.파이썬\n",
      "2.자바\n",
      "3.HTML\n"
     ]
    }
   ],
   "source": [
    "display(n1)"
   ]
  },
  {
   "cell_type": "code",
   "execution_count": 30,
   "metadata": {},
   "outputs": [],
   "source": [
    "n2.add_node(n4)"
   ]
  },
  {
   "cell_type": "code",
   "execution_count": 31,
   "metadata": {},
   "outputs": [
    {
     "name": "stdout",
     "output_type": "stream",
     "text": [
      "1.파이썬\n",
      "2.자바\n",
      "4.CSS\n",
      "3.HTML\n"
     ]
    }
   ],
   "source": [
    "display(n1)"
   ]
  },
  {
   "cell_type": "code",
   "execution_count": 32,
   "metadata": {},
   "outputs": [
    {
     "data": {
      "text/plain": [
       "(<Node data:4.CSS, prev_node:140647995832592, next_node:140647995834320>,\n",
       " 140647995832592,\n",
       " 140647995834320)"
      ]
     },
     "execution_count": 32,
     "metadata": {},
     "output_type": "execute_result"
    }
   ],
   "source": [
    "n4, id(n2), id(n3)"
   ]
  },
  {
   "cell_type": "markdown",
   "metadata": {},
   "source": [
    "#### Quiz 6 : node를 삭제하는 메서드 구현\n",
    "- - [1.파이썬] <-> [2.자바][delete] <-> [3.HTML] <-> [1.파이썬]\n",
    "- Node 클래스에 delete 메서드 구현"
   ]
  },
  {
   "cell_type": "code",
   "execution_count": 33,
   "metadata": {},
   "outputs": [],
   "source": [
    "class Node4(Node3):\n",
    "            \n",
    "    def delete(self):\n",
    "        self.prev_node.next_node = self.next_node\n",
    "        self.next_node.prev_node = self.prev_node\n",
    "        self.prev_node = self.next_node = None"
   ]
  },
  {
   "cell_type": "code",
   "execution_count": 34,
   "metadata": {},
   "outputs": [],
   "source": [
    "n1 = Node4(\"1.파이썬\")\n",
    "n2 = Node4(\"2.자바\")\n",
    "n3 = Node4(\"3.HTML\")"
   ]
  },
  {
   "cell_type": "code",
   "execution_count": 35,
   "metadata": {},
   "outputs": [],
   "source": [
    "n1.next_node = n2\n",
    "n2.next_node = n3\n",
    "n3.next_node = n1"
   ]
  },
  {
   "cell_type": "code",
   "execution_count": 36,
   "metadata": {},
   "outputs": [],
   "source": [
    "n1.prev_node = n3\n",
    "n2.prev_node = n1\n",
    "n3.prev_node = n2"
   ]
  },
  {
   "cell_type": "code",
   "execution_count": 37,
   "metadata": {},
   "outputs": [
    {
     "name": "stdout",
     "output_type": "stream",
     "text": [
      "1.파이썬\n",
      "2.자바\n",
      "3.HTML\n"
     ]
    }
   ],
   "source": [
    "display(n1)"
   ]
  },
  {
   "cell_type": "code",
   "execution_count": 38,
   "metadata": {},
   "outputs": [],
   "source": [
    "n2.delete()"
   ]
  },
  {
   "cell_type": "code",
   "execution_count": 39,
   "metadata": {},
   "outputs": [
    {
     "name": "stdout",
     "output_type": "stream",
     "text": [
      "1.파이썬\n",
      "3.HTML\n"
     ]
    }
   ],
   "source": [
    "display(n1)"
   ]
  }
 ],
 "metadata": {
  "kernelspec": {
   "display_name": "Python 3",
   "language": "python",
   "name": "python3"
  },
  "language_info": {
   "codemirror_mode": {
    "name": "ipython",
    "version": 3
   },
   "file_extension": ".py",
   "mimetype": "text/x-python",
   "name": "python",
   "nbconvert_exporter": "python",
   "pygments_lexer": "ipython3",
   "version": "3.7.6"
  }
 },
 "nbformat": 4,
 "nbformat_minor": 4
}
