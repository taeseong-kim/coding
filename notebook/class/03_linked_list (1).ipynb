{
 "cells": [
  {
   "cell_type": "markdown",
   "metadata": {},
   "source": [
    "#### 얕은복사, 깊은복사\n",
    "- 객체 타입 : mutable, immutable\n",
    "- immutable\n",
    "    - int, float, bool, str, tuple\n",
    "    - = 연산자를 쓰고 같은 값을 대입하면 주소값이 복사\n",
    "- mutable\n",
    "    - list, dict, set\n",
    "    - = 연산자를 쓰고 값을 대입하면 새로운 메모리를 사용\n",
    "- 클래스로 만들어진 객체의 타입은 mutable 입니다."
   ]
  },
  {
   "cell_type": "code",
   "execution_count": 1,
   "metadata": {},
   "outputs": [],
   "source": [
    "# immutable\n",
    "data1 = 1\n",
    "data2 = data1\n",
    "data3 = 1\n",
    "data4 = 2"
   ]
  },
  {
   "cell_type": "code",
   "execution_count": 1,
   "metadata": {},
   "outputs": [
    {
     "ename": "NameError",
     "evalue": "name 'data1' is not defined",
     "output_type": "error",
     "traceback": [
      "\u001b[1;31m---------------------------------------------------------------------------\u001b[0m",
      "\u001b[1;31mNameError\u001b[0m                                 Traceback (most recent call last)",
      "\u001b[1;32m<ipython-input-1-0f751ce685c5>\u001b[0m in \u001b[0;36m<module>\u001b[1;34m\u001b[0m\n\u001b[1;32m----> 1\u001b[1;33m \u001b[0mid\u001b[0m\u001b[1;33m(\u001b[0m\u001b[0mdata1\u001b[0m\u001b[1;33m)\u001b[0m\u001b[1;33m,\u001b[0m \u001b[0mid\u001b[0m\u001b[1;33m(\u001b[0m\u001b[0mdata2\u001b[0m\u001b[1;33m)\u001b[0m\u001b[1;33m,\u001b[0m \u001b[0mid\u001b[0m\u001b[1;33m(\u001b[0m\u001b[0mdata3\u001b[0m\u001b[1;33m)\u001b[0m\u001b[1;33m,\u001b[0m \u001b[0mid\u001b[0m\u001b[1;33m(\u001b[0m\u001b[0mdata4\u001b[0m\u001b[1;33m)\u001b[0m\u001b[1;33m\u001b[0m\u001b[1;33m\u001b[0m\u001b[0m\n\u001b[0m",
      "\u001b[1;31mNameError\u001b[0m: name 'data1' is not defined"
     ]
    }
   ],
   "source": [
    "id(data1), id(data2), id(data3), id(data4)"
   ]
  },
  {
   "cell_type": "code",
   "execution_count": null,
   "metadata": {},
   "outputs": [],
   "source": [
    "# data1 -> [1:4456076416] <- data3"
   ]
  },
  {
   "cell_type": "code",
   "execution_count": 3,
   "metadata": {},
   "outputs": [],
   "source": [
    "# mutable\n",
    "data1 = [1, 2, 3]\n",
    "data2 = data1        # 얕은복사\n",
    "data3 = [1, 2, 3]\n",
    "data4 = data1.copy() # 깊은복사"
   ]
  },
  {
   "cell_type": "code",
   "execution_count": 4,
   "metadata": {},
   "outputs": [
    {
     "data": {
      "text/plain": [
       "(140640378268800, 140640378268800, 140640378917104, 140640378273616)"
      ]
     },
     "execution_count": 4,
     "metadata": {},
     "output_type": "execute_result"
    }
   ],
   "source": [
    "id(data1), id(data2), id(data3), id(data4)"
   ]
  },
  {
   "cell_type": "code",
   "execution_count": null,
   "metadata": {},
   "outputs": [],
   "source": [
    "# data1 -> [1,2,3:140640378268800]\n",
    "# data3 -> [1,2,3:140640378917104]"
   ]
  },
  {
   "cell_type": "code",
   "execution_count": 5,
   "metadata": {},
   "outputs": [],
   "source": [
    "# data:변수, TOKEN:상수\n",
    "TOKEN = \"asldkfj1235dalskf\"\n",
    "\n",
    "data = \"python\"\n",
    "data = \"jupyter\" "
   ]
  },
  {
   "cell_type": "code",
   "execution_count": 6,
   "metadata": {},
   "outputs": [
    {
     "data": {
      "text/plain": [
       "(140640379083232, 140640314407152)"
      ]
     },
     "execution_count": 6,
     "metadata": {},
     "output_type": "execute_result"
    }
   ],
   "source": [
    "id(TOKEN), id(data)"
   ]
  },
  {
   "cell_type": "code",
   "execution_count": 7,
   "metadata": {},
   "outputs": [],
   "source": [
    "# RAM 공간의 위치값을 주소값이라고 함\n",
    "# [], [], []"
   ]
  },
  {
   "cell_type": "code",
   "execution_count": 8,
   "metadata": {},
   "outputs": [],
   "source": [
    "# 클래스"
   ]
  },
  {
   "cell_type": "code",
   "execution_count": 9,
   "metadata": {},
   "outputs": [],
   "source": [
    "class User:\n",
    "    \n",
    "    def __init__(self, name):\n",
    "        self.name = name"
   ]
  },
  {
   "cell_type": "code",
   "execution_count": 11,
   "metadata": {},
   "outputs": [],
   "source": [
    "user1 = User(\"andy\")\n",
    "user2 = User(\"peter\")\n",
    "user3 = User(\"andy\")"
   ]
  },
  {
   "cell_type": "code",
   "execution_count": 12,
   "metadata": {},
   "outputs": [
    {
     "data": {
      "text/plain": [
       "(140640379117392, 140640379117328, 140640379115792)"
      ]
     },
     "execution_count": 12,
     "metadata": {},
     "output_type": "execute_result"
    }
   ],
   "source": [
    "id(user1), id(user2), id(user3)"
   ]
  },
  {
   "cell_type": "code",
   "execution_count": 13,
   "metadata": {},
   "outputs": [],
   "source": [
    "user4 = user1 # 얕은복사"
   ]
  },
  {
   "cell_type": "code",
   "execution_count": 14,
   "metadata": {},
   "outputs": [
    {
     "data": {
      "text/plain": [
       "(140640379117392, 140640379117392)"
      ]
     },
     "execution_count": 14,
     "metadata": {},
     "output_type": "execute_result"
    }
   ],
   "source": [
    "id(user1), id(user4)"
   ]
  },
  {
   "cell_type": "code",
   "execution_count": null,
   "metadata": {},
   "outputs": [],
   "source": [
    "user1.addr = user4 # 주소값이 변수에 저장"
   ]
  },
  {
   "cell_type": "markdown",
   "metadata": {},
   "source": [
    "#### 링크드 리스트\n",
    "- 자료구조에서 객체의 데이터와 주소값에 대한 이해를 하는 좋은 알고리즘\n",
    "- 객체와 주소값에 대한 개념을 잘 이해해야 RAM을 효율적으로 사용할수 있습니다. (C언어 포인터)\n",
    "- 코딩 테스트에 많이 사용됨\n",
    "- 단방향 링크드 리스트(원형 링크드 리스트)\n",
    "- 양방향 링크드 리스트"
   ]
  },
  {
   "cell_type": "markdown",
   "metadata": {},
   "source": [
    "#### Quiz 1\n",
    "- 아래의 구조를 갖는 링크드 리스트를 구현\n",
    "- [1.파이썬] -> [2.자바] -> [3.HTML]\n",
    "- user1.addr = user4 # 주소값이 변수에 저장"
   ]
  },
  {
   "cell_type": "code",
   "execution_count": 17,
   "metadata": {},
   "outputs": [],
   "source": [
    "# 1. Node 클래스 선언\n",
    "# data(현재 노드의 데이터 저장), next_node(다음 노드의 주소값 저장)\n",
    "# __repr__ 오버라이딩"
   ]
  },
  {
   "cell_type": "code",
   "execution_count": 1,
   "metadata": {},
   "outputs": [],
   "source": [
    "class Node:\n",
    "    \n",
    "    def __init__(self, data, next_node=None):\n",
    "        self.data = data\n",
    "        self.next_node = next_node\n",
    "    \n",
    "    def __repr__(self):\n",
    "        return \"<Node data:{}, next_node:{}>\".format(self.data, id(self.next_node))"
   ]
  },
  {
   "cell_type": "code",
   "execution_count": 2,
   "metadata": {},
   "outputs": [],
   "source": [
    "# 2. Node 객체 3개 생성\n",
    "# [1.파이썬] [2.자바] [3.HTML]"
   ]
  },
  {
   "cell_type": "code",
   "execution_count": 5,
   "metadata": {},
   "outputs": [],
   "source": [
    "n1 = Node(\"1.Python\")\n",
    "n2 = Node(\"2.Java\")\n",
    "n3 = Node(\"3.HTML\")"
   ]
  },
  {
   "cell_type": "code",
   "execution_count": 8,
   "metadata": {},
   "outputs": [
    {
     "data": {
      "text/plain": [
       "(__main__.Node, None, <Node data:1.Python, next_node:4399597672>)"
      ]
     },
     "execution_count": 8,
     "metadata": {},
     "output_type": "execute_result"
    }
   ],
   "source": [
    "type(n1), n1.next_node, n1"
   ]
  },
  {
   "cell_type": "code",
   "execution_count": 11,
   "metadata": {},
   "outputs": [
    {
     "data": {
      "text/plain": [
       "(__main__.Node,\n",
       " <Node data:2.Java, next_node:140234771771280>,\n",
       " <Node data:1.Python, next_node:140234771770128>)"
      ]
     },
     "execution_count": 11,
     "metadata": {},
     "output_type": "execute_result"
    }
   ],
   "source": [
    "type(n1), n1.next_node, n1"
   ]
  },
  {
   "cell_type": "code",
   "execution_count": 12,
   "metadata": {},
   "outputs": [
    {
     "data": {
      "text/plain": [
       "(__main__.Node,\n",
       " <Node data:3.HTML, next_node:4399597672>,\n",
       " <Node data:2.Java, next_node:140234771771280>)"
      ]
     },
     "execution_count": 12,
     "metadata": {},
     "output_type": "execute_result"
    }
   ],
   "source": [
    "type(n2), n2.next_node, n2"
   ]
  },
  {
   "cell_type": "code",
   "execution_count": null,
   "metadata": {},
   "outputs": [],
   "source": [
    "# 3. 링크 연결\n",
    "# [1.파이썬] -> [2.자바] -> [3.HTML]"
   ]
  },
  {
   "cell_type": "code",
   "execution_count": 10,
   "metadata": {},
   "outputs": [],
   "source": [
    "n1.next_node = n2 # 얕은복사 : 주소값이 복사 : n1.next_node는 n2 객체를 참조\n",
    "n2.next_node = n3"
   ]
  },
  {
   "cell_type": "code",
   "execution_count": null,
   "metadata": {},
   "outputs": [],
   "source": [
    "# n2(data=\"2.Java\", next_node=\"n3 객체의 주소값\")"
   ]
  },
  {
   "cell_type": "code",
   "execution_count": null,
   "metadata": {},
   "outputs": [],
   "source": [
    "# 4. 노드의 데이터와 주소값 확인"
   ]
  },
  {
   "cell_type": "code",
   "execution_count": 26,
   "metadata": {},
   "outputs": [
    {
     "data": {
      "text/plain": [
       "(<Node data:1.Python, next_node:140640379168080>,\n",
       " <Node data:2.Java, next_node:140640379168208>,\n",
       " 140640379168080)"
      ]
     },
     "execution_count": 26,
     "metadata": {},
     "output_type": "execute_result"
    }
   ],
   "source": [
    "n1, n1.next_node, id(n2)"
   ]
  },
  {
   "cell_type": "code",
   "execution_count": 28,
   "metadata": {},
   "outputs": [],
   "source": [
    "n3 = Node(\"3.HTML\")\n",
    "n2 = Node(\"2.Java\", n3)\n",
    "n1 = Node(\"1.Python\", n2)"
   ]
  },
  {
   "cell_type": "code",
   "execution_count": 29,
   "metadata": {},
   "outputs": [],
   "source": [
    "a = 1"
   ]
  },
  {
   "cell_type": "code",
   "execution_count": null,
   "metadata": {},
   "outputs": [],
   "source": [
    "a(식별자)[1234] -> [1234]1(데이터)"
   ]
  },
  {
   "cell_type": "code",
   "execution_count": 31,
   "metadata": {},
   "outputs": [
    {
     "data": {
      "text/plain": [
       "(<Node data:1.Python, next_node:140640379153488>,\n",
       " <Node data:2.Java, next_node:140640379154256>)"
      ]
     },
     "execution_count": 31,
     "metadata": {},
     "output_type": "execute_result"
    }
   ],
   "source": [
    "n1, n2"
   ]
  },
  {
   "cell_type": "code",
   "execution_count": 33,
   "metadata": {},
   "outputs": [
    {
     "data": {
      "text/plain": [
       "'2.Java'"
      ]
     },
     "execution_count": 33,
     "metadata": {},
     "output_type": "execute_result"
    }
   ],
   "source": [
    "n1.next_node.data"
   ]
  },
  {
   "cell_type": "code",
   "execution_count": 34,
   "metadata": {},
   "outputs": [],
   "source": [
    "n1.next_node = n2\n",
    "n2.next_node = n3\n",
    "n3.next_node = n1"
   ]
  },
  {
   "cell_type": "code",
   "execution_count": 40,
   "metadata": {},
   "outputs": [
    {
     "data": {
      "text/plain": [
       "('1.Python', '2.Java', '3.HTML', '1.Python')"
      ]
     },
     "execution_count": 40,
     "metadata": {},
     "output_type": "execute_result"
    }
   ],
   "source": [
    "n1.data, n1.next_node.data, n1.next_node.next_node.data, n1.next_node.next_node.next_node.data"
   ]
  },
  {
   "cell_type": "code",
   "execution_count": 39,
   "metadata": {},
   "outputs": [],
   "source": [
    "# 도서관리 시스템"
   ]
  },
  {
   "cell_type": "markdown",
   "metadata": {},
   "source": [
    "#### Quiz 2\n",
    "- 노드 객체를 아규먼트로 설정하면 연결된 객체의 데이터를 모두 출력하는 함수를 작성\n",
    "- [1.파이썬] -> [2.자바] -> [3.HTML]\n",
    "- [1.파이썬] -> [2.자바] -> [3.HTML] -> [1.파이썬]"
   ]
  },
  {
   "cell_type": "code",
   "execution_count": 20,
   "metadata": {},
   "outputs": [],
   "source": [
    "def display(node):\n",
    "    \n",
    "    # 현재 노드 변수 선언\n",
    "    curr_node = start_node = node\n",
    "    \n",
    "    # next node 가 None이 나올때까지 반복적으로 현재 노드의 데이터를 출력\n",
    "    while True:\n",
    "        \n",
    "        # 현재 노드의 데이터 출력\n",
    "        print(curr_node.data)\n",
    "        \n",
    "        # next_node가 None이면 반복문을 빠져나온다\n",
    "        if curr_node.next_node is None:\n",
    "            break\n",
    "            \n",
    "        # next_node가 None이 아니면 curr_node를 next_node로 변경한다.\n",
    "        curr_node = curr_node.next_node\n",
    "    \n",
    "        # curr_node가 start_node가 같으면 반복문을 빠져나온다.\n",
    "        if curr_node is start_node:\n",
    "            break\n",
    "        "
   ]
  },
  {
   "cell_type": "code",
   "execution_count": 14,
   "metadata": {},
   "outputs": [
    {
     "name": "stdout",
     "output_type": "stream",
     "text": [
      "2.Java\n",
      "3.HTML\n"
     ]
    }
   ],
   "source": [
    "# [1.파이썬] -> [2.자바] -> [3.HTML] -> None : 원형 구조가 아님\n",
    "display(n2) # '2.Java', '3.HTML'"
   ]
  },
  {
   "cell_type": "code",
   "execution_count": 15,
   "metadata": {},
   "outputs": [
    {
     "name": "stdout",
     "output_type": "stream",
     "text": [
      "1.Python\n",
      "2.Java\n",
      "3.HTML\n"
     ]
    }
   ],
   "source": [
    "display(n1)"
   ]
  },
  {
   "cell_type": "code",
   "execution_count": 17,
   "metadata": {},
   "outputs": [],
   "source": [
    "n1.next_node = n2\n",
    "n2.next_node = n3\n",
    "n3.next_node = n1"
   ]
  },
  {
   "cell_type": "code",
   "execution_count": 22,
   "metadata": {},
   "outputs": [
    {
     "name": "stdout",
     "output_type": "stream",
     "text": [
      "3.HTML\n",
      "1.Python\n",
      "2.Java\n"
     ]
    }
   ],
   "source": [
    "# [1.파이썬] -> [2.자바] -> [3.HTML] -> [1.파이썬] : 원형 구조\n",
    "display(n3) # '2.Java', '3.HTML', '1.Python'"
   ]
  },
  {
   "cell_type": "code",
   "execution_count": 40,
   "metadata": {},
   "outputs": [],
   "source": [
    "class User:\n",
    "    \n",
    "    def __init__(self, name, age):\n",
    "        self.name = name\n",
    "        self.__age = age\n",
    "        \n",
    "    def __repr__(self): # 개발자용\n",
    "        return \"<User name:{}, age:{}>\".format(self.name, self.__age)\n",
    "    \n",
    "    def __str__(self): # 외부사용자용\n",
    "        return \"<User name:{}>\".format(self.name)\n",
    "        "
   ]
  },
  {
   "cell_type": "code",
   "execution_count": 41,
   "metadata": {},
   "outputs": [],
   "source": [
    "user1 = User(\"andy\", 23)\n",
    "user2 = User(\"peter\", 33)"
   ]
  },
  {
   "cell_type": "code",
   "execution_count": 43,
   "metadata": {},
   "outputs": [
    {
     "data": {
      "text/plain": [
       "'andy'"
      ]
     },
     "execution_count": 43,
     "metadata": {},
     "output_type": "execute_result"
    }
   ],
   "source": [
    "user1.name"
   ]
  },
  {
   "cell_type": "code",
   "execution_count": 44,
   "metadata": {},
   "outputs": [
    {
     "data": {
      "text/plain": [
       "<User name:andy, age:23>"
      ]
     },
     "execution_count": 44,
     "metadata": {},
     "output_type": "execute_result"
    }
   ],
   "source": [
    "user1"
   ]
  },
  {
   "cell_type": "code",
   "execution_count": 45,
   "metadata": {},
   "outputs": [
    {
     "name": "stdout",
     "output_type": "stream",
     "text": [
      "<User name:andy>\n"
     ]
    }
   ],
   "source": [
    "print(user1)"
   ]
  },
  {
   "cell_type": "code",
   "execution_count": null,
   "metadata": {},
   "outputs": [],
   "source": [
    "기사데이터 -> 카테고리분류모델\n",
    "카테고리분류모델(기사) -> 정치/사회/경제\n",
    "카테고리분류모델(기사) -> 정치 -> 기사 파일을 정치 카테고리 디렉토리로 이동"
   ]
  }
 ],
 "metadata": {
  "kernelspec": {
   "display_name": "Python 3",
   "language": "python",
   "name": "python3"
  },
  "language_info": {
   "codemirror_mode": {
    "name": "ipython",
    "version": 3
   },
   "file_extension": ".py",
   "mimetype": "text/x-python",
   "name": "python",
   "nbconvert_exporter": "python",
   "pygments_lexer": "ipython3",
   "version": "3.8.3"
  }
 },
 "nbformat": 4,
 "nbformat_minor": 4
}
