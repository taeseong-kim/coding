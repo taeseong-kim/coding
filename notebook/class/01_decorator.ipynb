{
 "cells": [
  {
   "cell_type": "markdown",
   "metadata": {},
   "source": [
    "#### scope\n",
    "- inner function : 지역함수"
   ]
  },
  {
   "cell_type": "markdown",
   "metadata": {},
   "source": [
    "#### 데코레이터\n",
    "- 함수에서 코드를 변경하지 않고 기능을 수정하거나 추가할때 사용하는 문법"
   ]
  },
  {
   "cell_type": "code",
   "execution_count": 1,
   "metadata": {},
   "outputs": [],
   "source": [
    "def func1():\n",
    "    print(\"code1\")\n",
    "    print(\"code2\")\n",
    "    print(\"code3\")"
   ]
  },
  {
   "cell_type": "code",
   "execution_count": 2,
   "metadata": {},
   "outputs": [],
   "source": [
    "def func2():\n",
    "    print(\"code1\")\n",
    "    print(\"code4\")\n",
    "    print(\"code3\")"
   ]
  },
  {
   "cell_type": "code",
   "execution_count": 3,
   "metadata": {},
   "outputs": [
    {
     "name": "stdout",
     "output_type": "stream",
     "text": [
      "code1\n",
      "code2\n",
      "code3\n"
     ]
    }
   ],
   "source": [
    "func1()"
   ]
  },
  {
   "cell_type": "code",
   "execution_count": 4,
   "metadata": {},
   "outputs": [
    {
     "name": "stdout",
     "output_type": "stream",
     "text": [
      "code1\n",
      "code4\n",
      "code3\n"
     ]
    }
   ],
   "source": [
    "func2()"
   ]
  },
  {
   "cell_type": "code",
   "execution_count": 5,
   "metadata": {},
   "outputs": [],
   "source": [
    "def deco(func):\n",
    "    \n",
    "    def wrapper(*args, **kwargs):\n",
    "        print(\"code1\")\n",
    "        func(*args, **kwargs)\n",
    "        print(\"code3\")\n",
    "        \n",
    "    return wrapper"
   ]
  },
  {
   "cell_type": "code",
   "execution_count": 6,
   "metadata": {},
   "outputs": [],
   "source": [
    "@deco\n",
    "def func1():\n",
    "    print(\"code2\")"
   ]
  },
  {
   "cell_type": "code",
   "execution_count": 7,
   "metadata": {},
   "outputs": [],
   "source": [
    "@deco\n",
    "def func2():\n",
    "    print(\"code4\")"
   ]
  },
  {
   "cell_type": "code",
   "execution_count": 8,
   "metadata": {},
   "outputs": [
    {
     "name": "stdout",
     "output_type": "stream",
     "text": [
      "code1\n",
      "code2\n",
      "code3\n"
     ]
    }
   ],
   "source": [
    "func1()"
   ]
  },
  {
   "cell_type": "code",
   "execution_count": 9,
   "metadata": {},
   "outputs": [
    {
     "name": "stdout",
     "output_type": "stream",
     "text": [
      "code1\n",
      "code4\n",
      "code3\n"
     ]
    }
   ],
   "source": [
    "func2()"
   ]
  },
  {
   "cell_type": "markdown",
   "metadata": {},
   "source": [
    "#### 함수의 실행 시간을 측정해주는 데코레이터"
   ]
  },
  {
   "cell_type": "code",
   "execution_count": 10,
   "metadata": {},
   "outputs": [],
   "source": [
    "def timer(func):\n",
    "    \n",
    "    def wrapper(*args, **kwargs):\n",
    "        start_time = time.time()\n",
    "        func(*args, **kwargs)\n",
    "        end_time = time.time()\n",
    "        print(\"running time :\", end_time - start_time)\n",
    "    \n",
    "    return wrapper"
   ]
  },
  {
   "cell_type": "code",
   "execution_count": 11,
   "metadata": {},
   "outputs": [],
   "source": [
    "def func1(msg):\n",
    "    print(\"code2\", msg)"
   ]
  },
  {
   "cell_type": "code",
   "execution_count": 12,
   "metadata": {},
   "outputs": [],
   "source": [
    "func1 = timer(func1)"
   ]
  },
  {
   "cell_type": "code",
   "execution_count": 13,
   "metadata": {},
   "outputs": [
    {
     "name": "stdout",
     "output_type": "stream",
     "text": [
      "code2 python\n",
      "running time : 0.00024700164794921875\n"
     ]
    }
   ],
   "source": [
    "func1(\"python\")"
   ]
  },
  {
   "cell_type": "code",
   "execution_count": 14,
   "metadata": {},
   "outputs": [],
   "source": [
    "@timer\n",
    "def func1(msg):\n",
    "    print(\"code2\", msg)"
   ]
  },
  {
   "cell_type": "code",
   "execution_count": 15,
   "metadata": {},
   "outputs": [
    {
     "name": "stdout",
     "output_type": "stream",
     "text": [
      "code2 jupyter\n",
      "running time : 0.0006263256072998047\n"
     ]
    }
   ],
   "source": [
    "func1(\"jupyter\")"
   ]
  },
  {
   "cell_type": "markdown",
   "metadata": {},
   "source": [
    "#### 패스워드 체크하는 데코레이터 "
   ]
  },
  {
   "cell_type": "code",
   "execution_count": 16,
   "metadata": {},
   "outputs": [],
   "source": [
    "def check_pw(func):\n",
    "    \n",
    "    def wrapper(*args, **kwargs):\n",
    "        pw = \"dss\"\n",
    "        input_pw = input(\"insert pw : \")\n",
    "        if input_pw == pw:\n",
    "            func(*args, **kwargs)\n",
    "        else:\n",
    "            print(\"wrong pw!\")\n",
    "            \n",
    "    return wrapper"
   ]
  },
  {
   "cell_type": "code",
   "execution_count": 17,
   "metadata": {},
   "outputs": [],
   "source": [
    "# 여러개의 데코레이터 사용가능\n",
    "@check_pw\n",
    "@timer\n",
    "def func2(msg):\n",
    "    print(\"code4\", msg)"
   ]
  },
  {
   "cell_type": "code",
   "execution_count": 18,
   "metadata": {},
   "outputs": [
    {
     "name": "stdout",
     "output_type": "stream",
     "text": [
      "insert pw : dss2\n",
      "wrong pw!\n"
     ]
    }
   ],
   "source": [
    "func2(\"notebook\")"
   ]
  },
  {
   "cell_type": "code",
   "execution_count": 19,
   "metadata": {},
   "outputs": [
    {
     "name": "stdout",
     "output_type": "stream",
     "text": [
      "insert pw : dss\n",
      "code4 notebook\n",
      "running time : 0.00022029876708984375\n"
     ]
    }
   ],
   "source": [
    "func2(\"notebook\")"
   ]
  },
  {
   "cell_type": "code",
   "execution_count": 20,
   "metadata": {},
   "outputs": [],
   "source": [
    "# 여러개의 데코레이터 없이 사용"
   ]
  },
  {
   "cell_type": "code",
   "execution_count": 21,
   "metadata": {},
   "outputs": [],
   "source": [
    "def func2(msg):\n",
    "    print(\"code4\", msg)"
   ]
  },
  {
   "cell_type": "code",
   "execution_count": 22,
   "metadata": {},
   "outputs": [
    {
     "name": "stdout",
     "output_type": "stream",
     "text": [
      "insert pw : dss2\n",
      "wrong pw!\n"
     ]
    }
   ],
   "source": [
    "check_pw(timer(func2))(\"notebook\")"
   ]
  },
  {
   "cell_type": "code",
   "execution_count": 23,
   "metadata": {
    "scrolled": true
   },
   "outputs": [
    {
     "name": "stdout",
     "output_type": "stream",
     "text": [
      "insert pw : dss\n",
      "code4 notebook\n",
      "running time : 0.0009360313415527344\n"
     ]
    }
   ],
   "source": [
    "check_pw(timer(func2))(\"notebook\")"
   ]
  },
  {
   "cell_type": "code",
   "execution_count": 24,
   "metadata": {},
   "outputs": [],
   "source": [
    "# 데코레이터 아규먼트"
   ]
  },
  {
   "cell_type": "code",
   "execution_count": 25,
   "metadata": {},
   "outputs": [],
   "source": [
    "from functools import wraps\n",
    "\n",
    "def timer(fname):\n",
    "    \n",
    "    def inner_function(func):\n",
    "        \n",
    "        @wraps(func)\n",
    "        def wrapper(*args, **kwargs):\n",
    "            print(\"func_name:\", fname)\n",
    "            start_time = time.time()\n",
    "            result = func(*args, **kwargs) # code 2, code 4\n",
    "            end_time = time.time() # code 3\n",
    "            print(\"running time : {}\".format(end_time - start_time)) # code 3 return result\n",
    "        return wrapper \n",
    "    \n",
    "    return inner_function"
   ]
  },
  {
   "cell_type": "code",
   "execution_count": 26,
   "metadata": {},
   "outputs": [],
   "source": [
    "@timer(\"lotto_func\") \n",
    "def lotto_func():\n",
    "    lotto = [] \n",
    "    while True:\n",
    "        number = random.randint(1, 45) \n",
    "        if number not in lotto:\n",
    "            lotto.append(number) \n",
    "        if len(lotto) >= 6:\n",
    "            lotto.sort()\n",
    "            break\n",
    "    return lotto"
   ]
  },
  {
   "cell_type": "code",
   "execution_count": 27,
   "metadata": {},
   "outputs": [
    {
     "name": "stdout",
     "output_type": "stream",
     "text": [
      "func_name: lotto_func\n",
      "running time : 3.528594970703125e-05\n"
     ]
    }
   ],
   "source": [
    "lotto_func()"
   ]
  },
  {
   "cell_type": "code",
   "execution_count": 28,
   "metadata": {},
   "outputs": [],
   "source": [
    "# function decorator\n",
    "# method decorator\n",
    "# class decorator"
   ]
  },
  {
   "cell_type": "code",
   "execution_count": 29,
   "metadata": {},
   "outputs": [],
   "source": [
    "class DecoClass(object): \n",
    "    def __init__(self, f):\n",
    "        self.f = f\n",
    "        \n",
    "    def __call__(self, *args, **kwargs): \n",
    "        \n",
    "        # before f actions \n",
    "        print('decorator initialised') \n",
    "        \n",
    "        self.f(*args, **kwargs) \n",
    "        \n",
    "        # after f actions\n",
    "        print('decorator terminated')\n",
    "        \n",
    "@DecoClass\n",
    "def deco_func(): \n",
    "    print('class')"
   ]
  },
  {
   "cell_type": "code",
   "execution_count": 30,
   "metadata": {},
   "outputs": [
    {
     "name": "stdout",
     "output_type": "stream",
     "text": [
      "decorator initialised\n",
      "class\n",
      "decorator terminated\n"
     ]
    }
   ],
   "source": [
    "deco_func()"
   ]
  }
 ],
 "metadata": {
  "kernelspec": {
   "display_name": "Python 3",
   "language": "python",
   "name": "python3"
  },
  "language_info": {
   "codemirror_mode": {
    "name": "ipython",
    "version": 3
   },
   "file_extension": ".py",
   "mimetype": "text/x-python",
   "name": "python",
   "nbconvert_exporter": "python",
   "pygments_lexer": "ipython3",
   "version": "3.8.3"
  }
 },
 "nbformat": 4,
 "nbformat_minor": 4
}
