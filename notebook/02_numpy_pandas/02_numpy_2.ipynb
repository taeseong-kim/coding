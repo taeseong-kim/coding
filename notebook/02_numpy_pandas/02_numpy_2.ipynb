{
 "cells": [
  {
   "cell_type": "markdown",
   "metadata": {},
   "source": [
    "### summary\n",
    "- numpy : 선형대수를 빠르게 연산해주는 패키지\n",
    "- 행렬의 생성 1 : ndarray타입, np.array(iterable)\n",
    "- 행렬의 생성 2 : ones, zeros\n",
    "- 행렬 데이터 선택 : array[x, y, z]\n",
    "- 행렬 데이터 수정\n",
    "    - 행렬 데이터를 선택\n",
    "    - =, > (값(scala, vector, matrix))\n",
    "    - 브로드 캐스팅 개념\n",
    "- arange : list에서 사용하는 range : 결과가 ndarray"
   ]
  },
  {
   "cell_type": "markdown",
   "metadata": {},
   "source": [
    "### quiz \n",
    "- 100 ~ 130 까지 랜덤한 숫자를 가지는 8*8행렬을 만들고,\n",
    "- 3의 배수는 fiz, 5의 배수는 buz, 3과 5의 배수는 fbz 문자로 변환\n",
    "- 위의 조건에 맞지 않는 데이터는 랜덤하게 생성된 정수로 출력\n",
    "- 랜덤한 행렬 데이터\n",
    "\n",
    "```\n",
    "datas = np.random.randint(100, 130, size=(8, 8))\n",
    "```\n",
    "- 데이터 타입이 정수 -> 문자열 : ndarray.astype()"
   ]
  },
  {
   "cell_type": "code",
   "execution_count": 14,
   "metadata": {},
   "outputs": [],
   "source": [
    "import numpy as np"
   ]
  },
  {
   "cell_type": "code",
   "execution_count": 22,
   "metadata": {},
   "outputs": [
    {
     "data": {
      "text/plain": [
       "array([[107, 128, 102, 103, 103, 122, 118, 115],\n",
       "       [127, 105, 127, 100, 114, 125, 105, 120],\n",
       "       [125, 111, 111, 113, 104, 106, 104, 127],\n",
       "       [113, 113, 109, 101, 129, 111, 109, 122],\n",
       "       [129, 104, 111, 123, 126, 112, 104, 112],\n",
       "       [114, 112, 129, 111, 115, 105, 128, 103],\n",
       "       [104, 102, 114, 121, 108, 123, 117, 112],\n",
       "       [128, 119, 103, 129, 107, 116, 112, 126]])"
      ]
     },
     "execution_count": 22,
     "metadata": {},
     "output_type": "execute_result"
    }
   ],
   "source": [
    "datas = np.random.randint(100, 130, size=(8,8))\n",
    "datas"
   ]
  },
  {
   "cell_type": "code",
   "execution_count": 23,
   "metadata": {},
   "outputs": [
    {
     "data": {
      "text/plain": [
       "array([1, 3])"
      ]
     },
     "execution_count": 23,
     "metadata": {},
     "output_type": "execute_result"
    }
   ],
   "source": [
    "data1 = np.array([1,2,3])\n",
    "data2 = [True, False, True]\n",
    "data1[data2]"
   ]
  },
  {
   "cell_type": "code",
   "execution_count": 24,
   "metadata": {},
   "outputs": [],
   "source": [
    "# 3의 배수, 5의 배수, 15의 배수 위치값에 대한 T, F matrix 생성\n",
    "idx_3 = datas % 3 == 0\n",
    "idx_5 = datas % 5 == 0\n",
    "idx_15 = datas % 15 == 0"
   ]
  },
  {
   "cell_type": "code",
   "execution_count": 25,
   "metadata": {},
   "outputs": [
    {
     "data": {
      "text/plain": [
       "dtype('int32')"
      ]
     },
     "execution_count": 25,
     "metadata": {},
     "output_type": "execute_result"
    }
   ],
   "source": [
    "# 데이터의 타입을 str으로 변환\n",
    "datas.dtype"
   ]
  },
  {
   "cell_type": "code",
   "execution_count": 26,
   "metadata": {},
   "outputs": [
    {
     "data": {
      "text/plain": [
       "array([['107', '128', '102', '103', '103', '122', '118', '115'],\n",
       "       ['127', '105', '127', '100', '114', '125', '105', '120'],\n",
       "       ['125', '111', '111', '113', '104', '106', '104', '127'],\n",
       "       ['113', '113', '109', '101', '129', '111', '109', '122'],\n",
       "       ['129', '104', '111', '123', '126', '112', '104', '112'],\n",
       "       ['114', '112', '129', '111', '115', '105', '128', '103'],\n",
       "       ['104', '102', '114', '121', '108', '123', '117', '112'],\n",
       "       ['128', '119', '103', '129', '107', '116', '112', '126']],\n",
       "      dtype='<U11')"
      ]
     },
     "execution_count": 26,
     "metadata": {},
     "output_type": "execute_result"
    }
   ],
   "source": [
    "result = datas.astype(\"str\")\n",
    "result"
   ]
  },
  {
   "cell_type": "code",
   "execution_count": 27,
   "metadata": {},
   "outputs": [],
   "source": [
    "# T, F matrix를 이용하여 특정 조건의 데이터를 선택 후 브로드캐스팅하게 값을 대입\n",
    "result[idx_3] = \"fiz\"\n",
    "result[idx_5] = \"buz\"\n",
    "result[idx_15] = \"fbz\""
   ]
  },
  {
   "cell_type": "code",
   "execution_count": 28,
   "metadata": {},
   "outputs": [
    {
     "data": {
      "text/plain": [
       "array([['107', '128', 'fiz', '103', '103', '122', '118', 'buz'],\n",
       "       ['127', 'fbz', '127', 'buz', 'fiz', 'buz', 'fbz', 'fbz'],\n",
       "       ['buz', 'fiz', 'fiz', '113', '104', '106', '104', '127'],\n",
       "       ['113', '113', '109', '101', 'fiz', 'fiz', '109', '122'],\n",
       "       ['fiz', '104', 'fiz', 'fiz', 'fiz', '112', '104', '112'],\n",
       "       ['fiz', '112', 'fiz', 'fiz', 'buz', 'fbz', '128', '103'],\n",
       "       ['104', 'fiz', 'fiz', '121', 'fiz', 'fiz', 'fiz', '112'],\n",
       "       ['128', '119', '103', 'fiz', '107', '116', '112', 'fiz']],\n",
       "      dtype='<U11')"
      ]
     },
     "execution_count": 28,
     "metadata": {},
     "output_type": "execute_result"
    }
   ],
   "source": [
    "result"
   ]
  },
  {
   "cell_type": "markdown",
   "metadata": {},
   "source": [
    "### Quiz\n",
    "- 1 ~ 20까지 랜덤한 숫자를 가지는 5*5 행렬 생성\n",
    "- 최대값에는 MAX, 최소값에는 MIN 문자열이 들어가도록 치환하는 코드\n",
    "- 최대값과 최소값 함수\n",
    "```\n",
    "np.min(ndarray), np.max(ndarray)\n",
    "```"
   ]
  },
  {
   "cell_type": "code",
   "execution_count": 83,
   "metadata": {},
   "outputs": [
    {
     "data": {
      "text/plain": [
       "array([[11,  1, 13,  6,  6],\n",
       "       [ 5,  1, 16, 11, 12],\n",
       "       [14, 14,  8, 13, 10],\n",
       "       [ 5, 14, 16, 13,  8],\n",
       "       [ 2, 15,  1,  1,  7]])"
      ]
     },
     "execution_count": 83,
     "metadata": {},
     "output_type": "execute_result"
    }
   ],
   "source": [
    "datas = np.random.randint(1, 20, (5,5))\n",
    "datas"
   ]
  },
  {
   "cell_type": "code",
   "execution_count": 84,
   "metadata": {},
   "outputs": [
    {
     "data": {
      "text/plain": [
       "(1, 16)"
      ]
     },
     "execution_count": 84,
     "metadata": {},
     "output_type": "execute_result"
    }
   ],
   "source": [
    "min_num, max_num = np.min(datas), np.max(datas)\n",
    "min_num, max_num"
   ]
  },
  {
   "cell_type": "code",
   "execution_count": 85,
   "metadata": {},
   "outputs": [],
   "source": [
    "idx_min = datas == min_num\n",
    "idx_max = datas == max_num"
   ]
  },
  {
   "cell_type": "code",
   "execution_count": 86,
   "metadata": {},
   "outputs": [],
   "source": [
    "result = datas.astype(\"str\")"
   ]
  },
  {
   "cell_type": "code",
   "execution_count": 87,
   "metadata": {},
   "outputs": [],
   "source": [
    "result[idx_min] = \"MIN\"\n",
    "result[idx_max] = \"MAX\""
   ]
  },
  {
   "cell_type": "code",
   "execution_count": 88,
   "metadata": {},
   "outputs": [
    {
     "data": {
      "text/plain": [
       "array([['11', 'MIN', '13', '6', '6'],\n",
       "       ['5', 'MIN', 'MAX', '11', '12'],\n",
       "       ['14', '14', '8', '13', '10'],\n",
       "       ['5', '14', 'MAX', '13', '8'],\n",
       "       ['2', '15', 'MIN', 'MIN', '7']], dtype='<U11')"
      ]
     },
     "execution_count": 88,
     "metadata": {},
     "output_type": "execute_result"
    }
   ],
   "source": [
    "result"
   ]
  },
  {
   "cell_type": "markdown",
   "metadata": {},
   "source": [
    "### 1. linspace, logspace 함수\n",
    "- linspace : 설정한 범위에서 선형적으로 분할한 위치의 값을 출력 \n",
    "- logspace : 설정한 범위에서 로그로 분할한 위치의 값을 출력"
   ]
  },
  {
   "cell_type": "code",
   "execution_count": 3,
   "metadata": {},
   "outputs": [
    {
     "data": {
      "text/plain": [
       "array([  0.,  25.,  50.,  75., 100.])"
      ]
     },
     "execution_count": 3,
     "metadata": {},
     "output_type": "execute_result"
    }
   ],
   "source": [
    "# linspace\n",
    "np.linspace(0, 100, 5)"
   ]
  },
  {
   "cell_type": "code",
   "execution_count": 5,
   "metadata": {},
   "outputs": [
    {
     "data": {
      "text/plain": [
       "array([  100.,  1000., 10000.])"
      ]
     },
     "execution_count": 5,
     "metadata": {},
     "output_type": "execute_result"
    }
   ],
   "source": [
    "# logspace\n",
    "# log10(x1)=2, log10(x2)=3, log10(x3)=4\n",
    "np.logspace(2, 4, 3)"
   ]
  },
  {
   "cell_type": "code",
   "execution_count": 6,
   "metadata": {},
   "outputs": [],
   "source": [
    "# 30세에 연봉이 $100000 이고 60세의 연봉이 $1000000 일 때\n",
    "# 연봉이 선형으로 증가, 지수함수로 증가하는 두 경우에서의 40세, 50세 연봉을 출력"
   ]
  },
  {
   "cell_type": "code",
   "execution_count": 7,
   "metadata": {},
   "outputs": [],
   "source": [
    "age_30 = 100000\n",
    "age_60 = 1000000"
   ]
  },
  {
   "cell_type": "code",
   "execution_count": 8,
   "metadata": {},
   "outputs": [
    {
     "data": {
      "text/plain": [
       "array([ 100000.,  400000.,  700000., 1000000.])"
      ]
     },
     "execution_count": 8,
     "metadata": {},
     "output_type": "execute_result"
    }
   ],
   "source": [
    "np.linspace(age_30, age_60, 4)"
   ]
  },
  {
   "cell_type": "code",
   "execution_count": 9,
   "metadata": {},
   "outputs": [
    {
     "data": {
      "text/plain": [
       "array([ 100000.        ,  215443.46900319,  464158.88336128,\n",
       "       1000000.        ])"
      ]
     },
     "execution_count": 9,
     "metadata": {},
     "output_type": "execute_result"
    }
   ],
   "source": [
    "np.logspace(np.log10(age_30), np.log10(age_60), 4)"
   ]
  },
  {
   "cell_type": "markdown",
   "metadata": {},
   "source": [
    "### 2. numpy random\n",
    "- seed : 랜덤값을 설정값\n",
    "- rand : 균등분포로 난수를 발생\n",
    "- randn : 정규분포로 난수를 발생\n",
    "- randint : 균등분포로 정수값을 발생\n",
    "- suffle : 행렬 데이터를 섞어 줍니다.\n",
    "- choice : 특정 확률로 데이터를 선택"
   ]
  },
  {
   "cell_type": "code",
   "execution_count": 10,
   "metadata": {},
   "outputs": [
    {
     "data": {
      "text/plain": [
       "(array([47, 22, 82, 19, 85, 15, 89, 74, 26, 11]),\n",
       " array([47, 22, 82, 19, 85, 15, 89, 74, 26, 11]),\n",
       " array([50, 25, 82, 32, 53, 92, 85, 17, 44, 59]))"
      ]
     },
     "execution_count": 10,
     "metadata": {},
     "output_type": "execute_result"
    }
   ],
   "source": [
    "# seed\n",
    "np.random.seed(1)\n",
    "result1 = np.random.randint(10, 100, 10)\n",
    "\n",
    "np.random.seed(1)\n",
    "result2 = np.random.randint(10, 100, 10)\n",
    "\n",
    "np.random.seed(2)\n",
    "result3 = np.random.randint(10, 100, 10)\n",
    "\n",
    "result1, result2, result3"
   ]
  },
  {
   "cell_type": "code",
   "execution_count": 11,
   "metadata": {},
   "outputs": [
    {
     "data": {
      "text/plain": [
       "array([0.20464863, 0.61927097, 0.29965467, 0.26682728, 0.62113383,\n",
       "       0.52914209, 0.13457995, 0.51357812, 0.18443987, 0.78533515])"
      ]
     },
     "execution_count": 11,
     "metadata": {},
     "output_type": "execute_result"
    }
   ],
   "source": [
    "np.random.rand(10)"
   ]
  },
  {
   "cell_type": "code",
   "execution_count": 12,
   "metadata": {},
   "outputs": [
    {
     "data": {
      "text/plain": [
       "array([-0.0191305 ,  1.17500122, -0.74787095,  0.00902525, -0.87810789,\n",
       "       -0.15643417,  0.25657045, -0.98877905, -0.33882197, -0.23618403])"
      ]
     },
     "execution_count": 12,
     "metadata": {},
     "output_type": "execute_result"
    }
   ],
   "source": [
    "np.random.randn(10)"
   ]
  },
  {
   "cell_type": "code",
   "execution_count": 16,
   "metadata": {},
   "outputs": [
    {
     "data": {
      "text/plain": [
       "array([[2, 8, 9, 3],\n",
       "       [9, 8, 2, 7],\n",
       "       [9, 6, 4, 1]])"
      ]
     },
     "execution_count": 16,
     "metadata": {},
     "output_type": "execute_result"
    }
   ],
   "source": [
    "# shuffle\n",
    "r = np.random.randint(1, 10, (3, 4))\n",
    "r"
   ]
  },
  {
   "cell_type": "code",
   "execution_count": 17,
   "metadata": {},
   "outputs": [
    {
     "data": {
      "text/plain": [
       "array([[9, 8, 2, 7],\n",
       "       [9, 6, 4, 1],\n",
       "       [2, 8, 9, 3]])"
      ]
     },
     "execution_count": 17,
     "metadata": {},
     "output_type": "execute_result"
    }
   ],
   "source": [
    "np.random.shuffle(r)\n",
    "r\n",
    "# 바깥쪽에 있는 차원만 섞임, reshape 이용"
   ]
  },
  {
   "cell_type": "code",
   "execution_count": 56,
   "metadata": {},
   "outputs": [
    {
     "data": {
      "text/plain": [
       "array([4, 4, 3, 4, 4, 2, 4, 2, 2, 4])"
      ]
     },
     "execution_count": 56,
     "metadata": {},
     "output_type": "execute_result"
    }
   ],
   "source": [
    "# choice\n",
    "np.random.choice(5, 10, p=[0.1, 0, 0.4, 0.2, 0.3])"
   ]
  },
  {
   "cell_type": "code",
   "execution_count": 58,
   "metadata": {},
   "outputs": [
    {
     "name": "stdout",
     "output_type": "stream",
     "text": [
      "[1 2 3 4 6 7 8 9]\n",
      "[1 2 1 1 1 1 2 3]\n"
     ]
    }
   ],
   "source": [
    "# unique\n",
    "numbers, counts = np.unique(r, return_counts=True)\n",
    "print(numbers)\n",
    "print(counts)"
   ]
  },
  {
   "cell_type": "markdown",
   "metadata": {},
   "source": [
    "### 3. 행렬 데이터의 결합\n",
    "- concatenate"
   ]
  },
  {
   "cell_type": "code",
   "execution_count": 59,
   "metadata": {},
   "outputs": [],
   "source": [
    "na1 = np.random.randint(10, size=(2,3))\n",
    "na2 = np.random.randint(10, size=(3,2))\n",
    "na3 = np.random.randint(10, size=(3,3))"
   ]
  },
  {
   "cell_type": "code",
   "execution_count": 61,
   "metadata": {},
   "outputs": [
    {
     "data": {
      "text/plain": [
       "array([[0, 8, 6],\n",
       "       [5, 1, 7]])"
      ]
     },
     "execution_count": 61,
     "metadata": {},
     "output_type": "execute_result"
    }
   ],
   "source": [
    "na1"
   ]
  },
  {
   "cell_type": "code",
   "execution_count": 62,
   "metadata": {},
   "outputs": [
    {
     "data": {
      "text/plain": [
       "array([[4, 3],\n",
       "       [6, 1],\n",
       "       [4, 0]])"
      ]
     },
     "execution_count": 62,
     "metadata": {},
     "output_type": "execute_result"
    }
   ],
   "source": [
    "na2"
   ]
  },
  {
   "cell_type": "code",
   "execution_count": 63,
   "metadata": {},
   "outputs": [
    {
     "data": {
      "text/plain": [
       "array([[8, 5, 4],\n",
       "       [2, 9, 7],\n",
       "       [1, 9, 2]])"
      ]
     },
     "execution_count": 63,
     "metadata": {},
     "output_type": "execute_result"
    }
   ],
   "source": [
    "na3"
   ]
  },
  {
   "cell_type": "code",
   "execution_count": 64,
   "metadata": {},
   "outputs": [
    {
     "data": {
      "text/plain": [
       "array([[0, 8, 6],\n",
       "       [5, 1, 7],\n",
       "       [8, 5, 4],\n",
       "       [2, 9, 7],\n",
       "       [1, 9, 2]])"
      ]
     },
     "execution_count": 64,
     "metadata": {},
     "output_type": "execute_result"
    }
   ],
   "source": [
    "# 세로 결합\n",
    "np.concatenate((na1, na3))"
   ]
  },
  {
   "cell_type": "code",
   "execution_count": 65,
   "metadata": {},
   "outputs": [
    {
     "data": {
      "text/plain": [
       "array([[4, 3, 8, 5, 4],\n",
       "       [6, 1, 2, 9, 7],\n",
       "       [4, 0, 1, 9, 2]])"
      ]
     },
     "execution_count": 65,
     "metadata": {},
     "output_type": "execute_result"
    }
   ],
   "source": [
    "# 가로 결합\n",
    "np.concatenate((na2, na3),axis=1)"
   ]
  },
  {
   "cell_type": "code",
   "execution_count": 66,
   "metadata": {},
   "outputs": [
    {
     "data": {
      "text/plain": [
       "array([[1, 4],\n",
       "       [2, 5],\n",
       "       [3, 6]])"
      ]
     },
     "execution_count": 66,
     "metadata": {},
     "output_type": "execute_result"
    }
   ],
   "source": [
    "# c_, r_\n",
    "np.c_[np.array([1,2,3]),np.array([4,5,6])]"
   ]
  },
  {
   "cell_type": "code",
   "execution_count": 67,
   "metadata": {},
   "outputs": [
    {
     "data": {
      "text/plain": [
       "array([1, 2, 3, 4, 5, 6])"
      ]
     },
     "execution_count": 67,
     "metadata": {},
     "output_type": "execute_result"
    }
   ],
   "source": [
    "np.r_[np.array([1,2,3]),np.array([4,5,6])]"
   ]
  },
  {
   "cell_type": "code",
   "execution_count": 68,
   "metadata": {},
   "outputs": [],
   "source": [
    "# split, var, std, mean ..."
   ]
  },
  {
   "cell_type": "code",
   "execution_count": null,
   "metadata": {},
   "outputs": [],
   "source": []
  }
 ],
 "metadata": {
  "kernelspec": {
   "display_name": "Python 3",
   "language": "python",
   "name": "python3"
  },
  "language_info": {
   "codemirror_mode": {
    "name": "ipython",
    "version": 3
   },
   "file_extension": ".py",
   "mimetype": "text/x-python",
   "name": "python",
   "nbconvert_exporter": "python",
   "pygments_lexer": "ipython3",
   "version": "3.8.3"
  }
 },
 "nbformat": 4,
 "nbformat_minor": 4
}
