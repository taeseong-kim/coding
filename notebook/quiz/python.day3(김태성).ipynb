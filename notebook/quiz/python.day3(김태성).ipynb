{
 "cells": [
  {
   "cell_type": "markdown",
   "metadata": {
    "colab_type": "text",
    "id": "ppdJT6Rp4oSr"
   },
   "source": [
    "- 데이터 타입\n",
    "- 데이터 형변환\n",
    "- 입출력"
   ]
  },
  {
   "cell_type": "markdown",
   "metadata": {
    "colab_type": "text",
    "id": "0y6FeyM54oVp"
   },
   "source": [
    "### 퀴즈"
   ]
  },
  {
   "cell_type": "markdown",
   "metadata": {
    "colab_type": "text",
    "id": "KRUFZsFe4oVt"
   },
   "source": [
    "### 1. 데이터 타입 7가지를 쓰세요."
   ]
  },
  {
   "cell_type": "markdown",
   "metadata": {
    "colab_type": "text",
    "id": "X4iN2vVv4oVu"
   },
   "source": [
    "### 2. 동적 타이핑에 대해서 서술하세요."
   ]
  },
  {
   "cell_type": "markdown",
   "metadata": {},
   "source": [
    "변수를 선언할 때 변수에 저장되는 값에 따라 자동으로 데이터 타입이 설정이 됨"
   ]
  },
  {
   "cell_type": "markdown",
   "metadata": {
    "colab_type": "text",
    "id": "g1vWy8iN4oV2"
   },
   "source": [
    "### 3. 리스트와 튜플의 차이에 대해서 쓰세요."
   ]
  },
  {
   "cell_type": "markdown",
   "metadata": {},
   "source": [
    "리스트와 달리 튜플은 내용을 바꿀 수 없다"
   ]
  },
  {
   "cell_type": "markdown",
   "metadata": {
    "colab_type": "text",
    "id": "Nt2XxDJs4oV5"
   },
   "source": [
    "### 4. 아래의 데이터를 list 데이터 타입을 이용하여 표현하세요.\n",
    "\n",
    "```\n",
    "| index | city  | population |\n",
    "|-------|-------|------------|\n",
    "| 0     |seoul  | 9,741,381  |\n",
    "| 1     |busan  | 3,416,918  |\n",
    "| 2     |daegu  | 2,453,041  |\n",
    "```"
   ]
  },
  {
   "cell_type": "code",
   "execution_count": 4,
   "metadata": {},
   "outputs": [
    {
     "data": {
      "text/plain": [
       "dict"
      ]
     },
     "execution_count": 4,
     "metadata": {},
     "output_type": "execute_result"
    }
   ],
   "source": [
    "data = {\n",
    "    \"index\":[0, 1, 2],\n",
    "    \"city\":[\"seoul\", \"busan\", \"daegu\"],\n",
    "    \"population\":[9741381, 3416918, 2453041]\n",
    "}\n",
    "type(data)"
   ]
  },
  {
   "cell_type": "markdown",
   "metadata": {
    "colab_type": "text",
    "id": "QtfVOW0q4oWF"
   },
   "source": [
    "### 5. 아래의 데이터를 dictionary 데이터 타입을 이용하여 표현하세요.\n",
    "\n",
    "\n",
    "```\n",
    "| index | city  | population |\n",
    "|-------|-------|------------|\n",
    "| 0     |seoul  | 9,741,381  |\n",
    "| 1     |busan  | 3,416,918  |\n",
    "| 2     |daegu  | 2,453,041  |\n",
    "```"
   ]
  },
  {
   "cell_type": "code",
   "execution_count": 5,
   "metadata": {},
   "outputs": [
    {
     "data": {
      "text/plain": [
       "[{'index': 0, 'city': 'seoul', 'population': 9741381},\n",
       " {'index': 1, 'city': 'busan', 'population': 3416918},\n",
       " {'index': 2, 'city': 'daegu', 'population': 24530141}]"
      ]
     },
     "execution_count": 5,
     "metadata": {},
     "output_type": "execute_result"
    }
   ],
   "source": [
    "data1 = [\n",
    "    {\"index\":0, \"city\":\"seoul\", \"population\":9741381},\n",
    "    {\"index\":1, \"city\":\"busan\", \"population\":3416918},\n",
    "    {\"index\":2, \"city\":\"daegu\", \"population\":24530141}\n",
    "]\n",
    "data1"
   ]
  },
  {
   "cell_type": "code",
   "execution_count": 6,
   "metadata": {},
   "outputs": [
    {
     "data": {
      "text/plain": [
       "list"
      ]
     },
     "execution_count": 6,
     "metadata": {},
     "output_type": "execute_result"
    }
   ],
   "source": [
    "type(data1)"
   ]
  },
  {
   "cell_type": "code",
   "execution_count": null,
   "metadata": {},
   "outputs": [],
   "source": []
  }
 ],
 "metadata": {
  "colab": {
   "collapsed_sections": [],
   "name": "day3_quiz_문제.ipynb",
   "provenance": [],
   "version": "0.3.2"
  },
  "kernelspec": {
   "display_name": "Python 3",
   "language": "python",
   "name": "python3"
  },
  "language_info": {
   "codemirror_mode": {
    "name": "ipython",
    "version": 3
   },
   "file_extension": ".py",
   "mimetype": "text/x-python",
   "name": "python",
   "nbconvert_exporter": "python",
   "pygments_lexer": "ipython3",
   "version": "3.8.3"
  }
 },
 "nbformat": 4,
 "nbformat_minor": 1
}
