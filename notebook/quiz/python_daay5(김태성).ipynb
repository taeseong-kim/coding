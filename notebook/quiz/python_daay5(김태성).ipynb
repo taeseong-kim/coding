{
 "cells": [
  {
   "cell_type": "markdown",
   "metadata": {
    "colab_type": "text",
    "id": "a-g2oSLVQssv"
   },
   "source": [
    "### 퀴즈"
   ]
  },
  {
   "cell_type": "markdown",
   "metadata": {
    "colab_type": "text",
    "id": "mljqYXRkQssw"
   },
   "source": [
    "### 1. 역삼각형 별 출력\n",
    "- 5를 입력했을때 아래와 같이 별이 출력되도록 코드를 작성하세요.\n",
    "- 홀수만 입력이 가능합니다.\n",
    "\n",
    "```\n",
    "*****\n",
    " ***\n",
    "  *\n",
    "```"
   ]
  },
  {
   "cell_type": "code",
   "execution_count": 2,
   "metadata": {},
   "outputs": [
    {
     "name": "stdout",
     "output_type": "stream",
     "text": [
      "*****\n",
      " ***\n",
      "  *\n"
     ]
    }
   ],
   "source": [
    "number = 5\n",
    "space = 0\n",
    "for i in range(number,0,-2):\n",
    "    print(\" \"*space + \"*\"*i)\n",
    "    space += 1"
   ]
  },
  {
   "cell_type": "markdown",
   "metadata": {
    "colab_type": "text",
    "id": "mvyRUsMPQss0"
   },
   "source": [
    "### 2. fizz, buzz\n",
    "- 시작 숫자와 끝나는 숫자를 입력받으세요.\n",
    "- while 문을 사용하세요.\n",
    "- 결과 출력\n",
    "    - 3의 배수는 fizz 출력\n",
    "    - 5의 배수는 buzz 출력\n",
    "    - 3과 5의 배수는 fizzbuzz 출력\n",
    "    - 3과 5의 배수가 아니면 그냥 숫자가 출력"
   ]
  },
  {
   "cell_type": "code",
   "execution_count": 6,
   "metadata": {},
   "outputs": [
    {
     "name": "stdout",
     "output_type": "stream",
     "text": [
      "숫자를 입력하세요 : 15\n",
      "숫자를 입력하세요 : 40\n",
      "fizzbuzz\n",
      " 16\n",
      " 17\n",
      " fizz\n",
      " 19\n",
      " buzz\n",
      " fizz\n",
      " 22\n",
      " 23\n",
      " fizz\n",
      " buzz\n",
      " 26\n",
      " fizz\n",
      " 28\n",
      " 29\n",
      " fizzbuzz\n",
      " 31\n",
      " 32\n",
      " fizz\n",
      " 34\n",
      " buzz\n",
      " fizz\n",
      " 37\n",
      " 38\n",
      " fizz\n",
      " buzz\n",
      " "
     ]
    }
   ],
   "source": [
    "start = int(input(\"숫자를 입력하세요 : \"))\n",
    "end = int(input(\"숫자를 입력하세요 : \"))\n",
    "\n",
    "\n",
    "while start <= end:\n",
    "    if start % 15 == 0:\n",
    "        print(\"fizzbuzz\")\n",
    "    elif start % 3 == 0:\n",
    "        print(\"fizz\")\n",
    "    elif start % 5 == 0:\n",
    "        print(\"buzz\")\n",
    "    else:\n",
    "        print(start)\n",
    "    print(end=\" \")\n",
    "    start += 1"
   ]
  },
  {
   "cell_type": "markdown",
   "metadata": {
    "colab_type": "text",
    "id": "IgBo_8nSQstC"
   },
   "source": [
    "### 3. 가로로 구구단 출력 \n",
    "- print 문에서 tab으로 띄우는 방법 : end 옵션에 \"\\t\"를 사용\n",
    "- 아래와 같이 결과가 출력되도록 반복문을 사용하여 코드를 작성하세요."
   ]
  },
  {
   "cell_type": "code",
   "execution_count": 19,
   "metadata": {},
   "outputs": [
    {
     "name": "stdout",
     "output_type": "stream",
     "text": [
      "1단\t2단\t3단\t4단\t5단\t6단\t7단\t8단\t9단\t\n",
      "1*1=1\t2*1=2\t3*1=3\t4*1=4\t5*1=5\t6*1=6\t7*1=7\t8*1=8\t9*1=9\t\n",
      "1*2=2\t2*2=4\t3*2=6\t4*2=8\t5*2=10\t6*2=12\t7*2=14\t8*2=16\t9*2=18\t\n",
      "1*3=3\t2*3=6\t3*3=9\t4*3=12\t5*3=15\t6*3=18\t7*3=21\t8*3=24\t9*3=27\t\n",
      "1*4=4\t2*4=8\t3*4=12\t4*4=16\t5*4=20\t6*4=24\t7*4=28\t8*4=32\t9*4=36\t\n",
      "1*5=5\t2*5=10\t3*5=15\t4*5=20\t5*5=25\t6*5=30\t7*5=35\t8*5=40\t9*5=45\t\n",
      "1*6=6\t2*6=12\t3*6=18\t4*6=24\t5*6=30\t6*6=36\t7*6=42\t8*6=48\t9*6=54\t\n",
      "1*7=7\t2*7=14\t3*7=21\t4*7=28\t5*7=35\t6*7=42\t7*7=49\t8*7=56\t9*7=63\t\n",
      "1*8=8\t2*8=16\t3*8=24\t4*8=32\t5*8=40\t6*8=48\t7*8=56\t8*8=64\t9*8=72\t\n",
      "1*9=9\t2*9=18\t3*9=27\t4*9=36\t5*9=45\t6*9=54\t7*9=63\t8*9=72\t9*9=81\t\n"
     ]
    }
   ],
   "source": [
    "for i in range(0, 10):\n",
    "\n",
    "    for k in range(1, 10):\n",
    "        if i == 0:\n",
    "            print(\"{}단\".format(k), end=\"\\t\")\n",
    "\n",
    "        else:\n",
    "            \n",
    "            print(\"{}*{}={}\".format(k, i, k*i), end=\"\\t\")\n",
    "    print()"
   ]
  },
  {
   "cell_type": "markdown",
   "metadata": {
    "colab_type": "text",
    "id": "mr3LaHlnQstO"
   },
   "source": [
    "### 4. 피보나치 수열\n",
    "- 피보나치 수열이란?\n",
    "    - num1 = 0, num2 = 1의 두개의 숫자로 시작하여 num1은 num2가 되고 num2는 num1+num2가 반복적으로 실행되면서 출력되는 결과\n",
    "- 피보나치 수열을 확인할 마지막 숫자를 입력하면 수열이 아래와 같이 출력되는 코드를 작성하세요."
   ]
  },
  {
   "cell_type": "code",
   "execution_count": 29,
   "metadata": {},
   "outputs": [
    {
     "name": "stdout",
     "output_type": "stream",
     "text": [
      "숫자 몇까지의 피보나치 수열을 확인하겠습니까? : 100\n",
      "1 1 2 3 5 8 13 21 34 55 89 "
     ]
    }
   ],
   "source": [
    "data = int(input(\"숫자 몇까지의 피보나치 수열을 확인하겠습니까? : \"))\n",
    "\n",
    "num1, num2 = 0, 1\n",
    "\n",
    "while num2 < data:\n",
    "    print(num2, end=\" \")\n",
    "    num1, num2 = num2, num1+num2"
   ]
  },
  {
   "cell_type": "markdown",
   "metadata": {
    "colab_type": "text",
    "id": "7hsjdrGGQstS"
   },
   "source": [
    "### 5. 소수 구하기\n",
    "- 소수 : 1과 자기자신으로만 나누어 떨어지는수\n",
    "- 숫자를 입력받아 입력받은 숫자까지의 소수와 소수의 갯수를 출력하는 코드를 작성하세요."
   ]
  },
  {
   "cell_type": "code",
   "execution_count": 32,
   "metadata": {},
   "outputs": [
    {
     "name": "stdout",
     "output_type": "stream",
     "text": [
      "1 2 3 5 7 11 13 17 19 23 29 31 37 41 43 47 53 59 61 67 71 73 79 83 89 97 \n",
      "소수의 갯수 : 26개\n"
     ]
    }
   ],
   "source": [
    "number = 100\n",
    "count = 0\n",
    "\n",
    "for num1 in range(1, number+1):\n",
    "    \n",
    "    is_prime = True\n",
    "    \n",
    "    for num2 in range(2, num1):\n",
    "        \n",
    "        if num1 % num2 == 0:\n",
    "            \n",
    "            is_prime = False\n",
    "            \n",
    "            break\n",
    "        \n",
    "    if is_prime:\n",
    "        \n",
    "        count += 1\n",
    "        \n",
    "        print(num1, end=\" \")\n",
    "        \n",
    "print(\"\\n소수의 갯수 : {}개\".format(count))"
   ]
  },
  {
   "cell_type": "code",
   "execution_count": null,
   "metadata": {},
   "outputs": [],
   "source": []
  }
 ],
 "metadata": {
  "colab": {
   "collapsed_sections": [],
   "name": "day5_quiz_문제.ipynb",
   "provenance": [],
   "version": "0.3.2"
  },
  "kernelspec": {
   "display_name": "Python 3",
   "language": "python",
   "name": "python3"
  },
  "language_info": {
   "codemirror_mode": {
    "name": "ipython",
    "version": 3
   },
   "file_extension": ".py",
   "mimetype": "text/x-python",
   "name": "python",
   "nbconvert_exporter": "python",
   "pygments_lexer": "ipython3",
   "version": "3.8.3"
  }
 },
 "nbformat": 4,
 "nbformat_minor": 1
}
