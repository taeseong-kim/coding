{
 "cells": [
  {
   "cell_type": "markdown",
   "metadata": {
    "colab_type": "text",
    "id": "lql_NAiO4c2P"
   },
   "source": [
    "- 데이터 타입\n",
    "- 데이터 형변환\n",
    "- 입출력"
   ]
  },
  {
   "cell_type": "markdown",
   "metadata": {
    "colab_type": "text",
    "id": "J-nuPX5X4c26"
   },
   "source": [
    "### 퀴즈"
   ]
  },
  {
   "cell_type": "markdown",
   "metadata": {
    "colab_type": "text",
    "id": "LpdR9UMl4c27"
   },
   "source": [
    "### 1. 데이터 타입 7가지를 쓰세요."
   ]
  },
  {
   "cell_type": "markdown",
   "metadata": {
    "colab_type": "text",
    "id": "g-efza3d4c29"
   },
   "source": [
    "Integer, Float, Boolean, String, List, Tuple, Dictionary"
   ]
  },
  {
   "cell_type": "markdown",
   "metadata": {
    "colab_type": "text",
    "id": "Gz4hgf9z4c29"
   },
   "source": [
    "### 2. 동적 타이핑에 대해서 서술하세요."
   ]
  },
  {
   "cell_type": "markdown",
   "metadata": {
    "colab_type": "text",
    "id": "oDK4_24O4c2-"
   },
   "source": [
    "변수를 선언할때 변수에 저장되는 값에 따라서 자동으로 데이터 타입이 설정되는 기능"
   ]
  },
  {
   "cell_type": "markdown",
   "metadata": {
    "colab_type": "text",
    "id": "ndnxVOzC4c2_"
   },
   "source": [
    "### 3. 리스트와 튜플의 차이에 대해서 쓰세요."
   ]
  },
  {
   "cell_type": "markdown",
   "metadata": {
    "colab_type": "text",
    "id": "rybYRiDW4c3A"
   },
   "source": [
    "리스트는 수정이 가능하고, 튜플 수정이 불가능 합니다."
   ]
  },
  {
   "cell_type": "markdown",
   "metadata": {
    "colab_type": "text",
    "id": "x_pcuZRq4c3A"
   },
   "source": [
    "### 4. 아래의 데이터를 list 데이터 타입을 이용하여 표현하세요.\n",
    "\n",
    "```\n",
    "| index | city  | population |\n",
    "|-------|-------|------------|\n",
    "| 0     |seoul  | 9,741,381  |\n",
    "| 1     |busan  | 3,416,918  |\n",
    "| 2     |daegu  | 2,453,041  |\n",
    "```"
   ]
  },
  {
   "cell_type": "code",
   "execution_count": 0,
   "metadata": {
    "colab": {},
    "colab_type": "code",
    "id": "ut-3-2Gs4c3B",
    "outputId": "78641329-8c77-4ae3-b644-cf2f59f0bc0e"
   },
   "outputs": [
    {
     "data": {
      "text/plain": [
       "{'city': ['seoul', 'busan', 'daegu'],\n",
       " 'population': [9741381, 3416918, 2453041]}"
      ]
     },
     "execution_count": 2,
     "metadata": {
      "tags": []
     },
     "output_type": "execute_result"
    }
   ],
   "source": [
    "# 딕셔너리{리스트}로 표현\n",
    "city_info = {\n",
    "    \"city\": [\"seoul\", \"busan\", \"daegu\"],\n",
    "    \"population\": [9741381, 3416918, 2453041],\n",
    "}\n",
    "city_info"
   ]
  },
  {
   "cell_type": "markdown",
   "metadata": {
    "colab_type": "text",
    "id": "nGhvHT7i4c3H"
   },
   "source": [
    "### 5. 아래의 데이터를 dictionary 데이터 타입을 이용하여 표현하세요.\n",
    "\n",
    "\n",
    "```\n",
    "| index | city  | population |\n",
    "|-------|-------|------------|\n",
    "| 0     |seoul  | 9,741,381  |\n",
    "| 1     |busan  | 3,416,918  |\n",
    "| 2     |daegu  | 2,453,041  |\n",
    "```"
   ]
  },
  {
   "cell_type": "code",
   "execution_count": 0,
   "metadata": {
    "colab": {},
    "colab_type": "code",
    "id": "GenOerOP4c3J",
    "outputId": "a17717d7-6896-498a-8f71-d4082f980ca6"
   },
   "outputs": [
    {
     "data": {
      "text/plain": [
       "[{'index': 0, 'city': 'seoul', 'population': 9741381},\n",
       " {'index': 1, 'city': 'busan', 'population': 3416918},\n",
       " {'index': 2, 'city': 'daegu', 'population': 2453041}]"
      ]
     },
     "execution_count": 3,
     "metadata": {
      "tags": []
     },
     "output_type": "execute_result"
    }
   ],
   "source": [
    "city_info = [\n",
    "    {\"index\": 0, \"city\": \"seoul\", \"population\": 9741381},\n",
    "    {\"index\": 1, \"city\": \"busan\", \"population\": 3416918},\n",
    "    {\"index\": 2, \"city\": \"daegu\", \"population\": 2453041},\n",
    "]\n",
    "city_info"
   ]
  }
 ],
 "metadata": {
  "colab": {
   "collapsed_sections": [],
   "name": "day3_quiz_답안.ipynb",
   "provenance": [],
   "version": "0.3.2"
  },
  "kernelspec": {
   "display_name": "Python 3",
   "language": "python",
   "name": "python3"
  },
  "language_info": {
   "codemirror_mode": {
    "name": "ipython",
    "version": 3
   },
   "file_extension": ".py",
   "mimetype": "text/x-python",
   "name": "python",
   "nbconvert_exporter": "python",
   "pygments_lexer": "ipython3",
   "version": "3.7.3"
  }
 },
 "nbformat": 4,
 "nbformat_minor": 0
}
