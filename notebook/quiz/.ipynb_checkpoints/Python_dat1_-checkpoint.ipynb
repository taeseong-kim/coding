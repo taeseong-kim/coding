{
 "cells": [
  {
   "cell_type": "markdown",
   "metadata": {
    "colab_type": "text",
    "id": "JIC9vs03wKQL"
   },
   "source": [
    "- 데이터 사이언스 스킬들\n",
    "- 데이터 분석 과정\n",
    "- 컴퓨터의 구조와 프로그램의 작동원리\n",
    "- 파이썬 언어 프로그램의 개요\n",
    "- 데이터 분석을 위한 파이썬 패키지 소개"
   ]
  },
  {
   "cell_type": "markdown",
   "metadata": {
    "colab_type": "text",
    "id": "P6e4q4V7wKQV"
   },
   "source": [
    "### 퀴즈"
   ]
  },
  {
   "cell_type": "markdown",
   "metadata": {
    "colab_type": "text",
    "id": "6NujDMdewKQV"
   },
   "source": [
    "### 1. 컴퓨터를 구성하는 기본 요소 3가지는?"
   ]
  },
  {
   "cell_type": "markdown",
   "metadata": {
    "colab_type": "text",
    "id": "Rnf9ffE5wKQW"
   },
   "source": [
    "CPU, RAM, ROM"
   ]
  },
  {
   "cell_type": "markdown",
   "metadata": {
    "colab_type": "text",
    "id": "Iv1a4uzAwKQX"
   },
   "source": [
    "### 2. 운영체제의 역할을 서술하세요."
   ]
  },
  {
   "cell_type": "markdown",
   "metadata": {
    "colab_type": "text",
    "id": "fZRxe-6LwKQX"
   },
   "source": [
    "CPU, RAM, ROM 자원을 사용하는 방법을 정의"
   ]
  },
  {
   "cell_type": "markdown",
   "metadata": {
    "colab_type": "text",
    "id": "W1gxKSC0wKQY"
   },
   "source": [
    "### 3. Kernel에 대해서 간략하게 서술하세요."
   ]
  },
  {
   "cell_type": "markdown",
   "metadata": {
    "colab_type": "text",
    "id": "JyD8MB5UwKQY"
   },
   "source": [
    "하드웨어를 컨트롤하는 소프트웨어"
   ]
  },
  {
   "cell_type": "markdown",
   "metadata": {
    "colab_type": "text",
    "id": "HiCMXf7GwKQZ"
   },
   "source": [
    "### 4. 컴파일링 방식에 따른 두가지 프로그래밍 언어를 작성하세요."
   ]
  },
  {
   "cell_type": "markdown",
   "metadata": {
    "colab_type": "text",
    "id": "qga7TK-3wKQZ"
   },
   "source": [
    "컴파일러 언어, 인터프리터 언어"
   ]
  },
  {
   "cell_type": "markdown",
   "metadata": {
    "colab_type": "text",
    "id": "eYgB5lCWwKQa"
   },
   "source": [
    "### 5. 군집분석에 대해서 설명하세요."
   ]
  },
  {
   "cell_type": "markdown",
   "metadata": {
    "colab_type": "text",
    "id": "_Qu0f87IwKQb"
   },
   "source": [
    "종속변수(결과)가 없는 데이터를 그룹핑 해주는 분석 방법"
   ]
  }
 ],
 "metadata": {
  "colab": {
   "collapsed_sections": [],
   "name": "day1_quiz_답안.ipynb",
   "provenance": [],
   "version": "0.3.2"
  },
  "kernelspec": {
   "display_name": "Python 3",
   "language": "python",
   "name": "python3"
  },
  "language_info": {
   "codemirror_mode": {
    "name": "ipython",
    "version": 3
   },
   "file_extension": ".py",
   "mimetype": "text/x-python",
   "name": "python",
   "nbconvert_exporter": "python",
   "pygments_lexer": "ipython3",
   "version": "3.7.3"
  }
 },
 "nbformat": 4,
 "nbformat_minor": 0
}
