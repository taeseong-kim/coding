{
 "cells": [
  {
   "cell_type": "markdown",
   "metadata": {
    "colab_type": "text",
    "id": "1Iq_l9dnx0L8"
   },
   "source": [
    "- 주피터 노트북 설치\n",
    "- 파이썬 기본 문법"
   ]
  },
  {
   "cell_type": "markdown",
   "metadata": {
    "colab_type": "text",
    "id": "oPz7XuFxx0MG"
   },
   "source": [
    "### 퀴즈"
   ]
  },
  {
   "cell_type": "markdown",
   "metadata": {
    "colab_type": "text",
    "id": "1g_rkPiUx0MH"
   },
   "source": [
    "### 1. 편집모드에서 명령모드로 바꾸는 단축키는?"
   ]
  },
  {
   "cell_type": "markdown",
   "metadata": {
    "colab_type": "text",
    "id": "0YgmDKmjx0MH"
   },
   "source": [
    "esc"
   ]
  },
  {
   "cell_type": "markdown",
   "metadata": {
    "colab_type": "text",
    "id": "8GenVtkwx0MI"
   },
   "source": [
    "### 2. 셀을 실수로 삭제 했을때 되돌리기하는 방법은?\n",
    "- 어떤 모드에서 어떤 단축키를 입력해야 하나요?"
   ]
  },
  {
   "cell_type": "markdown",
   "metadata": {
    "colab_type": "text",
    "id": "D0kIiaGex0MI"
   },
   "source": [
    "esc(명령모드), z"
   ]
  },
  {
   "cell_type": "markdown",
   "metadata": {
    "colab_type": "text",
    "id": "jn0Fz1bex0MJ"
   },
   "source": [
    "### 3. 변수 data1과 data2에 \"python\" 값을 저장하도록 변수를 선언하세요."
   ]
  },
  {
   "cell_type": "code",
   "execution_count": 0,
   "metadata": {
    "colab": {},
    "colab_type": "code",
    "id": "rNMdmMGex0MK"
   },
   "outputs": [],
   "source": [
    "data1 = data2 = \"python\""
   ]
  },
  {
   "cell_type": "markdown",
   "metadata": {
    "colab_type": "text",
    "id": "m1Rlyd6Jx0ML"
   },
   "source": [
    "### 4. 아래의 내용을 코드로 작성하세요.\n",
    "- 변수 data1, data2에는 숫자 3을 저장\n",
    "- 변수 data3 에는 숫자 4를 저장\n",
    "- 변수 data1, data2, data3를 다 더한 결과를 result 변수에 저장\n",
    "- result 변수를 출력"
   ]
  },
  {
   "cell_type": "code",
   "execution_count": 0,
   "metadata": {
    "colab": {},
    "colab_type": "code",
    "id": "HEhVlQYOx0MM",
    "outputId": "bf7d3b10-be7d-4232-8601-5465c6998439"
   },
   "outputs": [
    {
     "name": "stdout",
     "output_type": "stream",
     "text": [
      "10\n"
     ]
    }
   ],
   "source": [
    "data1 = data2 = 3\n",
    "data3 = 4\n",
    "result = data1 + data2 + data3\n",
    "print(result)"
   ]
  },
  {
   "cell_type": "markdown",
   "metadata": {
    "colab_type": "text",
    "id": "YIy2ZFs8x0MO"
   },
   "source": [
    "### 5. 주피터 노트북에서 주석 설정하는 단축키는?"
   ]
  },
  {
   "cell_type": "markdown",
   "metadata": {
    "colab_type": "text",
    "id": "ErWA6eHsx0MP"
   },
   "source": [
    "ctrl(cmd) + /"
   ]
  }
 ],
 "metadata": {
  "colab": {
   "collapsed_sections": [],
   "name": "day2_퀴즈_답안.ipynb",
   "provenance": [],
   "version": "0.3.2"
  },
  "kernelspec": {
   "display_name": "Python 3",
   "language": "python",
   "name": "python3"
  },
  "language_info": {
   "codemirror_mode": {
    "name": "ipython",
    "version": 3
   },
   "file_extension": ".py",
   "mimetype": "text/x-python",
   "name": "python",
   "nbconvert_exporter": "python",
   "pygments_lexer": "ipython3",
   "version": "3.7.3"
  }
 },
 "nbformat": 4,
 "nbformat_minor": 0
}
