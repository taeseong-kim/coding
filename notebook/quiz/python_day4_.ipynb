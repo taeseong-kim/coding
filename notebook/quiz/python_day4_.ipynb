{
 "cells": [
  {
   "cell_type": "markdown",
   "metadata": {
    "colab_type": "text",
    "id": "xa63Hp4p7xOR"
   },
   "source": [
    "- 연산자\n",
    "- 조건문"
   ]
  },
  {
   "cell_type": "markdown",
   "metadata": {
    "colab_type": "text",
    "id": "FHXVccfB7xQg"
   },
   "source": [
    "### 퀴즈"
   ]
  },
  {
   "cell_type": "markdown",
   "metadata": {
    "colab_type": "text",
    "id": "h-U54MH07xQj"
   },
   "source": [
    "### 1. 두점 사이의 변화율\n",
    "- 두점 사이의 변화율을 구하는 코드를 작성하세요.\n",
    "\n",
    "```\n",
    "data1 = (3, 4)\n",
    "data2 = (9, 8)\n",
    "```\n",
    "\n",
    "- 두점 사이의 변화율\n",
    "\n",
    "    $ 변화율 = \\frac{y_2 - y_1}{x_2 - x_1} $"
   ]
  },
  {
   "cell_type": "code",
   "execution_count": 0,
   "metadata": {
    "colab": {},
    "colab_type": "code",
    "id": "_GL3NAl-7xQl",
    "outputId": "871e3634-742e-4e3c-b98b-e1a41d588141"
   },
   "outputs": [
    {
     "data": {
      "text/plain": [
       "0.67"
      ]
     },
     "execution_count": 1,
     "metadata": {
      "tags": []
     },
     "output_type": "execute_result"
    }
   ],
   "source": [
    "data1 = (3, 4)\n",
    "data2 = (9, 8)\n",
    "result = (data2[1] - data1[1]) / (data2[0] - data1[0])\n",
    "round(result, 2)"
   ]
  },
  {
   "cell_type": "markdown",
   "metadata": {
    "colab_type": "text",
    "id": "5Q9acnpU7xQp"
   },
   "source": [
    "### 2. 피타고라스 정리\n",
    "- 직각 삼각형의 밑변과 높이의 값을 변수로 선언하고 빚변의 길이를 구하세요."
   ]
  },
  {
   "cell_type": "code",
   "execution_count": 0,
   "metadata": {
    "colab": {},
    "colab_type": "code",
    "id": "tVmP4y-Y7xQr",
    "outputId": "cbd129c5-cd66-400f-ef91-2d619dd85c50"
   },
   "outputs": [
    {
     "data": {
      "text/plain": [
       "5.0"
      ]
     },
     "execution_count": 2,
     "metadata": {
      "tags": []
     },
     "output_type": "execute_result"
    }
   ],
   "source": [
    "width, hight = 3, 4\n",
    "hypotenuse = (width**2 + hight**2) ** 0.5\n",
    "hypotenuse"
   ]
  },
  {
   "cell_type": "markdown",
   "metadata": {
    "colab_type": "text",
    "id": "gdjWyuA77xQ1"
   },
   "source": [
    "### 3. 부동소수점 문제를 해결하는 세가지 방법을 작성하세요."
   ]
  },
  {
   "cell_type": "markdown",
   "metadata": {
    "colab_type": "text",
    "id": "4jd3sC1S7xQ3"
   },
   "source": [
    "- 정수로 변환해준후에 실수로 바꿔줌\n",
    "- 반올리\n",
    "- 고정소수점으로 표현"
   ]
  },
  {
   "cell_type": "markdown",
   "metadata": {
    "colab_type": "text",
    "id": "RBV-dzQ37xQ4"
   },
   "source": [
    "### 4. 아래의 조건을 코드로 작성하세요.\n",
    "- 돈이 10000원 이상이면 택시를 타고\n",
    "- 2000원 이상이면 버스를 타고\n",
    "- 2000원 이하이면 걸어간다"
   ]
  },
  {
   "cell_type": "code",
   "execution_count": 0,
   "metadata": {
    "colab": {},
    "colab_type": "code",
    "id": "9yClaj0b7xQ6",
    "outputId": "b6972f8f-78a1-42dd-986e-5052c383500c"
   },
   "outputs": [
    {
     "name": "stdout",
     "output_type": "stream",
     "text": [
      "버스를 탄다.\n"
     ]
    }
   ],
   "source": [
    "# money = 12000\n",
    "money = 4000\n",
    "if money >= 10000:\n",
    "    print(\"택시를 탄다.\")\n",
    "elif money >= 2000:\n",
    "    print(\"버스를 탄다.\")\n",
    "else:\n",
    "    print(\"걸어간다.\")"
   ]
  },
  {
   "cell_type": "markdown",
   "metadata": {
    "colab_type": "text",
    "id": "qIf_uQZq7xQ9"
   },
   "source": [
    "### 5. 나이를 입력받아 티켓의 가격을 출력하는 코드를 작성하세요\n",
    "- 8세 이하 : 0원\n",
    "- 9세 ~ 19세 : 2000원\n",
    "- 20세 이상 : 5000원"
   ]
  },
  {
   "cell_type": "code",
   "execution_count": 0,
   "metadata": {
    "colab": {},
    "colab_type": "code",
    "id": "OmMJ4lxS7xQ-",
    "outputId": "ecdc9b5a-2a7e-4cf0-c1b9-123ebb214486"
   },
   "outputs": [
    {
     "name": "stdout",
     "output_type": "stream",
     "text": [
      "insert age : 10\n",
      "2000원\n"
     ]
    }
   ],
   "source": [
    "age = int(input(\"insert age : \"))\n",
    "if age <= 8:\n",
    "    print(\"0원\")\n",
    "elif age <= 19:\n",
    "    print(\"2000원\")\n",
    "else:\n",
    "    print(\"5000원\")"
   ]
  }
 ],
 "metadata": {
  "colab": {
   "collapsed_sections": [],
   "name": "day4_quiz_답안.ipynb",
   "provenance": [],
   "version": "0.3.2"
  },
  "kernelspec": {
   "display_name": "Python 3",
   "language": "python",
   "name": "python3"
  },
  "language_info": {
   "codemirror_mode": {
    "name": "ipython",
    "version": 3
   },
   "file_extension": ".py",
   "mimetype": "text/x-python",
   "name": "python",
   "nbconvert_exporter": "python",
   "pygments_lexer": "ipython3",
   "version": "3.8.3"
  }
 },
 "nbformat": 4,
 "nbformat_minor": 1
}
