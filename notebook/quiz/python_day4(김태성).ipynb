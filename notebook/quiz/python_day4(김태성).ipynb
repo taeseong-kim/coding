{
 "cells": [
  {
   "cell_type": "markdown",
   "metadata": {
    "colab_type": "text",
    "id": "gQ9gIcqr7jHG"
   },
   "source": [
    "- 연산자\n",
    "- 조건문"
   ]
  },
  {
   "cell_type": "markdown",
   "metadata": {
    "colab_type": "text",
    "id": "lPkaQUq17jIM"
   },
   "source": [
    "### 퀴즈"
   ]
  },
  {
   "cell_type": "markdown",
   "metadata": {
    "colab_type": "text",
    "id": "Xm0AN1977jIO"
   },
   "source": [
    "### 1. 두점 사이의 변화율\n",
    "- 두점 사이의 변화율을 구하는 코드를 작성하세요.\n",
    "\n",
    "```\n",
    "data1 = (3, 4)\n",
    "data2 = (9, 8)\n",
    "```\n",
    "\n",
    "- 두점 사이의 변화율\n",
    "\n",
    "$ 변화율 = \\frac{y_2 - y_1}{x_2 - x_1} $"
   ]
  },
  {
   "cell_type": "code",
   "execution_count": 4,
   "metadata": {},
   "outputs": [
    {
     "data": {
      "text/plain": [
       "0.67"
      ]
     },
     "execution_count": 4,
     "metadata": {},
     "output_type": "execute_result"
    }
   ],
   "source": [
    "data1 = (3, 4)\n",
    "data2 = (9, 8)\n",
    "result = (data1[1]-data2[1]) / (data1[0]-data2[0])\n",
    "round(result, 2)"
   ]
  },
  {
   "cell_type": "markdown",
   "metadata": {
    "colab_type": "text",
    "id": "PJvt-fnJ7jIQ"
   },
   "source": [
    "### 2. 피타고라스 정리\n",
    "- 직각 삼각형의 밑변과 높이의 값을 변수로 선언하고 빚변의 길이를 구하세요."
   ]
  },
  {
   "cell_type": "code",
   "execution_count": 5,
   "metadata": {},
   "outputs": [
    {
     "data": {
      "text/plain": [
       "5.0"
      ]
     },
     "execution_count": 5,
     "metadata": {},
     "output_type": "execute_result"
    }
   ],
   "source": [
    "width = 3\n",
    "height = 4\n",
    "result = (width**2+height**2)**0.5\n",
    "result"
   ]
  },
  {
   "cell_type": "markdown",
   "metadata": {
    "colab_type": "text",
    "id": "FwxpR26e7jIU"
   },
   "source": [
    "### 3. 부동소수점 문제를 해결하는 세가지 방법을 작성하세요."
   ]
  },
  {
   "cell_type": "markdown",
   "metadata": {
    "colab_type": "text",
    "id": "_r4MBsmm7jIU"
   },
   "source": [
    "- 정수로 변환해준후에 실수로 바꿔줌\n",
    "- 반올리\n",
    "- 고정소수점으로 표현"
   ]
  },
  {
   "cell_type": "markdown",
   "metadata": {
    "colab_type": "text",
    "id": "-xPf23ck7jIV"
   },
   "source": [
    "### 4. 아래의 조건을 코드로 작성하세요.\n",
    "- 돈이 10000원 이상이면 택시를 타고\n",
    "- 2000원 이상이면 버스를 타고\n",
    "- 2000원 이하이면 걸어간다"
   ]
  },
  {
   "cell_type": "code",
   "execution_count": 6,
   "metadata": {},
   "outputs": [
    {
     "name": "stdout",
     "output_type": "stream",
     "text": [
      "버스를 탄다.\n"
     ]
    }
   ],
   "source": [
    "money = 4000\n",
    "if money >= 10000:\n",
    "    print(\"택시를 탄다.\")\n",
    "elif money > 2000:\n",
    "    print(\"버스를 탄다.\")\n",
    "else:\n",
    "    print(\"걸어간다.\")"
   ]
  },
  {
   "cell_type": "markdown",
   "metadata": {
    "colab_type": "text",
    "id": "HTmfL7X27jIe"
   },
   "source": [
    "### 5. 나이를 입력받아 티켓의 가격을 출력하는 코드를 작성하세요\n",
    "- 8세 이하 : 0원\n",
    "- 9세 ~ 19세 : 2000원\n",
    "- 20세 이상 : 5000원"
   ]
  },
  {
   "cell_type": "code",
   "execution_count": 7,
   "metadata": {},
   "outputs": [
    {
     "name": "stdout",
     "output_type": "stream",
     "text": [
      "나이를 (숫자만) 입력하세요 :  10\n",
      "티켓의 가격은 2000원입니다.\n"
     ]
    }
   ],
   "source": [
    "age = int(input(\"나이를 (숫자만) 입력하세요 :  \"))\n",
    "\n",
    "if age >= 20:\n",
    "    print(\"티켓의 가격은 5000원입니다.\")\n",
    "elif age >= 9:\n",
    "    print(\"티켓의 가격은 2000원입니다.\")\n",
    "else:\n",
    "    print(\"티켓의 가격은 0원입니다.\")"
   ]
  },
  {
   "cell_type": "code",
   "execution_count": null,
   "metadata": {},
   "outputs": [],
   "source": []
  }
 ],
 "metadata": {
  "colab": {
   "collapsed_sections": [],
   "name": "day4_quiz_답안.ipynb",
   "provenance": [],
   "version": "0.3.2"
  },
  "kernelspec": {
   "display_name": "Python 3",
   "language": "python",
   "name": "python3"
  },
  "language_info": {
   "codemirror_mode": {
    "name": "ipython",
    "version": 3
   },
   "file_extension": ".py",
   "mimetype": "text/x-python",
   "name": "python",
   "nbconvert_exporter": "python",
   "pygments_lexer": "ipython3",
   "version": "3.8.3"
  }
 },
 "nbformat": 4,
 "nbformat_minor": 1
}
